{
 "cells": [
  {
   "cell_type": "markdown",
   "id": "ada82e7d",
   "metadata": {},
   "source": [
    "# Introduction"
   ]
  },
  {
   "cell_type": "markdown",
   "id": "69b6d853",
   "metadata": {},
   "source": [
    "## Background Information:\n",
    "\n",
    "In 2016, Cyclistic launched a successful bike-share offering. Since then, the program has grown to a fleet of 5,824 bicycles that are geotracked and locked into a network of 692 stations across Chicago. The bikes can be unlocked from one station and returned to any other station in the system anytime.\n",
    "\n",
    "Until now, Cyclistic’s marketing strategy relied on building general awareness and appealing to broad consumer segments. One approach that helped make these things possible was the flexibility of its pricing plans: single-ride passes, full-day passes, and annual memberships. Customers who purchase single-ride or full-day passes are referred to as casual riders. Customers who purchase annual memberships are Cyclistic members."
   ]
  },
  {
   "cell_type": "markdown",
   "id": "37a51e15",
   "metadata": {},
   "source": [
    "## The Problem:\n",
    "\n",
    "Cyclistic’s finance analysts have concluded that annual members are much more profitable than casual riders. Although the pricing flexibility helps Cyclistic attract more customers, __the executive team believes that maximizing the number of annual members will be key to future growth.__ Rather than creating a marketing campaign that targets all-new customers, there is a very good chance to convert casual riders into members with targeted marketing."
   ]
  },
  {
   "cell_type": "markdown",
   "id": "5db1d174",
   "metadata": {},
   "source": [
    "## Objective: \n",
    "\n",
    "- To better understand how annual members and casual riders differ.\n",
    "\n",
    "- To determine why casual riders would buy a membership.\n",
    "\n",
    "\n",
    "__The insights generated from this analysis would allow Cyclistic to design marketing strategies aimed at converting casual riders into annual members.__"
   ]
  },
  {
   "cell_type": "markdown",
   "id": "7054e6c6",
   "metadata": {},
   "source": [
    "![image info](./images/bike_sharing.jpeg)"
   ]
  },
  {
   "cell_type": "markdown",
   "id": "a915c790",
   "metadata": {},
   "source": [
    "### Load Libraries"
   ]
  },
  {
   "cell_type": "code",
   "execution_count": 1,
   "id": "6b06a2d9",
   "metadata": {},
   "outputs": [
    {
     "name": "stderr",
     "output_type": "stream",
     "text": [
      "Registered S3 methods overwritten by 'ggplot2':\n",
      "  method         from \n",
      "  [.quosures     rlang\n",
      "  c.quosures     rlang\n",
      "  print.quosures rlang\n",
      "Registered S3 method overwritten by 'rvest':\n",
      "  method            from\n",
      "  read_xml.response xml2\n",
      "-- Attaching packages --------------------------------------- tidyverse 1.2.1 --\n",
      "v ggplot2 3.1.1       v purrr   0.3.2  \n",
      "v tibble  2.1.1       v dplyr   0.8.0.1\n",
      "v tidyr   0.8.3       v stringr 1.4.0  \n",
      "v readr   1.3.1       v forcats 0.4.0  \n",
      "-- Conflicts ------------------------------------------ tidyverse_conflicts() --\n",
      "x dplyr::filter() masks stats::filter()\n",
      "x dplyr::lag()    masks stats::lag()\n",
      "\n",
      "Attaching package: 'lubridate'\n",
      "\n",
      "The following object is masked from 'package:base':\n",
      "\n",
      "    date\n",
      "\n",
      "Google's Terms of Service: https://cloud.google.com/maps-platform/terms/.\n",
      "Please cite ggmap if you use it! See citation(\"ggmap\") for details.\n",
      "\n",
      "Attaching package: 'gridExtra'\n",
      "\n",
      "The following object is masked from 'package:dplyr':\n",
      "\n",
      "    combine\n",
      "\n"
     ]
    }
   ],
   "source": [
    "# disable scientific notation\n",
    "options(scipen = 999)\n",
    "\n",
    "# suppress warnings\n",
    "options(warn = -1)\n",
    "\n",
    "library('tidyverse')\n",
    "library('lubridate')\n",
    "library('ggplot2')\n",
    "library('ggmap') \n",
    "library('gridExtra')"
   ]
  },
  {
   "cell_type": "markdown",
   "id": "006a6564",
   "metadata": {},
   "source": [
    "### Load Data\n",
    "\n",
    "We will use data from Apr-2020 to Mar-2021 for this analysis. Data is provided by month and we will merge them into one dataframe."
   ]
  },
  {
   "cell_type": "code",
   "execution_count": 2,
   "id": "5221352b",
   "metadata": {},
   "outputs": [],
   "source": [
    "# load individual datasets\n",
    "\n",
    "tripdata_2020_04 <- read.csv(\"data/csv/202004-divvy-tripdata.csv\")\n",
    "tripdata_2020_05 <- read.csv(\"data/csv/202005-divvy-tripdata.csv\")\n",
    "tripdata_2020_06 <- read.csv(\"data/csv/202006-divvy-tripdata.csv\")\n",
    "tripdata_2020_07 <- read.csv(\"data/csv/202007-divvy-tripdata.csv\")\n",
    "tripdata_2020_08 <- read.csv(\"data/csv/202008-divvy-tripdata.csv\")\n",
    "tripdata_2020_09 <- read.csv(\"data/csv/202009-divvy-tripdata.csv\")\n",
    "tripdata_2020_10 <- read.csv(\"data/csv/202010-divvy-tripdata.csv\")\n",
    "tripdata_2020_11 <- read.csv(\"data/csv/202011-divvy-tripdata.csv\")\n",
    "tripdata_2020_12 <- read.csv(\"data/csv/202012-divvy-tripdata.csv\")\n",
    "tripdata_2021_01 <- read.csv(\"data/csv/202101-divvy-tripdata.csv\")\n",
    "tripdata_2021_02 <- read.csv(\"data/csv/202102-divvy-tripdata.csv\")\n",
    "tripdata_2021_03 <- read.csv(\"data/csv/202103-divvy-tripdata.csv\")"
   ]
  },
  {
   "cell_type": "code",
   "execution_count": 3,
   "id": "bbf8c376",
   "metadata": {},
   "outputs": [
    {
     "data": {
      "text/html": [
       "<table>\n",
       "<thead><tr><th scope=col>ride_id</th><th scope=col>rideable_type</th><th scope=col>started_at</th><th scope=col>ended_at</th><th scope=col>start_station_name</th><th scope=col>start_station_id</th><th scope=col>end_station_name</th><th scope=col>end_station_id</th><th scope=col>start_lat</th><th scope=col>start_lng</th><th scope=col>end_lat</th><th scope=col>end_lng</th><th scope=col>member_casual</th></tr></thead>\n",
       "<tbody>\n",
       "\t<tr><td>A847FADBBC638E45                                                           </td><td>docked_bike                                                                </td><td>2020-04-26 17:45:14                                                        </td><td>2020-04-26 18:12:03                                                        </td><td><span style=white-space:pre-wrap>Eckhart Park                       </span></td><td> 86                                                                        </td><td>Lincoln Ave &amp; Diversey Pkwy                                            </td><td>152                                                                        </td><td>41.8964                                                                    </td><td>-87.6610                                                                   </td><td>41.9322                                                                    </td><td>-87.6586                                                                   </td><td>member                                                                     </td></tr>\n",
       "\t<tr><td>5405B80E996FF60D                                                               </td><td>docked_bike                                                                    </td><td>2020-04-17 17:08:54                                                            </td><td>2020-04-17 17:17:03                                                            </td><td><span style=white-space:pre-wrap>Drake Ave &amp; Fullerton Ave          </span></td><td>503                                                                            </td><td><span style=white-space:pre-wrap>Kosciuszko Park            </span>            </td><td>499                                                                            </td><td>41.9244                                                                        </td><td>-87.7154                                                                       </td><td>41.9306                                                                        </td><td>-87.7238                                                                       </td><td>member                                                                         </td></tr>\n",
       "\t<tr><td>5DD24A79A4E006F4                                                               </td><td>docked_bike                                                                    </td><td>2020-04-01 17:54:13                                                            </td><td>2020-04-01 18:08:36                                                            </td><td><span style=white-space:pre-wrap>McClurg Ct &amp; Erie St               </span></td><td>142                                                                            </td><td>Indiana Ave &amp; Roosevelt Rd                                                 </td><td>255                                                                            </td><td>41.8945                                                                        </td><td>-87.6179                                                                       </td><td>41.8679                                                                        </td><td>-87.6230                                                                       </td><td>member                                                                         </td></tr>\n",
       "\t<tr><td>2A59BBDF5CDBA725                                                               </td><td>docked_bike                                                                    </td><td>2020-04-07 12:50:19                                                            </td><td>2020-04-07 13:02:31                                                            </td><td><span style=white-space:pre-wrap>California Ave &amp; Division St       </span></td><td>216                                                                            </td><td><span style=white-space:pre-wrap>Wood St &amp; Augusta Blvd     </span>        </td><td>657                                                                            </td><td>41.9030                                                                        </td><td>-87.6975                                                                       </td><td>41.8992                                                                        </td><td>-87.6722                                                                       </td><td>member                                                                         </td></tr>\n",
       "\t<tr><td>27AD306C119C6158                                                               </td><td>docked_bike                                                                    </td><td>2020-04-18 10:22:59                                                            </td><td>2020-04-18 11:15:54                                                            </td><td><span style=white-space:pre-wrap>Rush St &amp; Hubbard St               </span></td><td>125                                                                            </td><td>Sheridan Rd &amp; Lawrence Ave                                                 </td><td>323                                                                            </td><td>41.8902                                                                        </td><td>-87.6262                                                                       </td><td>41.9695                                                                        </td><td>-87.6547                                                                       </td><td>casual                                                                         </td></tr>\n",
       "\t<tr><td>356216E875132F61                                                       </td><td>docked_bike                                                            </td><td>2020-04-30 17:55:47                                                    </td><td>2020-04-30 18:01:11                                                    </td><td>Mies van der Rohe Way &amp; Chicago Ave                                </td><td>173                                                                    </td><td><span style=white-space:pre-wrap>Streeter Dr &amp; Grand Ave    </span></td><td> 35                                                                    </td><td>41.8969                                                                </td><td>-87.6217                                                               </td><td>41.8923                                                                </td><td>-87.6120                                                               </td><td>member                                                                 </td></tr>\n",
       "</tbody>\n",
       "</table>\n"
      ],
      "text/latex": [
       "\\begin{tabular}{r|lllllllllllll}\n",
       " ride\\_id & rideable\\_type & started\\_at & ended\\_at & start\\_station\\_name & start\\_station\\_id & end\\_station\\_name & end\\_station\\_id & start\\_lat & start\\_lng & end\\_lat & end\\_lng & member\\_casual\\\\\n",
       "\\hline\n",
       "\t A847FADBBC638E45                    & docked\\_bike                       & 2020-04-26 17:45:14                 & 2020-04-26 18:12:03                 & Eckhart Park                        &  86                                 & Lincoln Ave \\& Diversey Pkwy       & 152                                 & 41.8964                             & -87.6610                            & 41.9322                             & -87.6586                            & member                             \\\\\n",
       "\t 5405B80E996FF60D                      & docked\\_bike                         & 2020-04-17 17:08:54                   & 2020-04-17 17:17:03                   & Drake Ave \\& Fullerton Ave           & 503                                   & Kosciuszko Park                       & 499                                   & 41.9244                               & -87.7154                              & 41.9306                               & -87.7238                              & member                               \\\\\n",
       "\t 5DD24A79A4E006F4                      & docked\\_bike                         & 2020-04-01 17:54:13                   & 2020-04-01 18:08:36                   & McClurg Ct \\& Erie St                & 142                                   & Indiana Ave \\& Roosevelt Rd          & 255                                   & 41.8945                               & -87.6179                              & 41.8679                               & -87.6230                              & member                               \\\\\n",
       "\t 2A59BBDF5CDBA725                      & docked\\_bike                         & 2020-04-07 12:50:19                   & 2020-04-07 13:02:31                   & California Ave \\& Division St        & 216                                   & Wood St \\& Augusta Blvd              & 657                                   & 41.9030                               & -87.6975                              & 41.8992                               & -87.6722                              & member                               \\\\\n",
       "\t 27AD306C119C6158                      & docked\\_bike                         & 2020-04-18 10:22:59                   & 2020-04-18 11:15:54                   & Rush St \\& Hubbard St                & 125                                   & Sheridan Rd \\& Lawrence Ave          & 323                                   & 41.8902                               & -87.6262                              & 41.9695                               & -87.6547                              & casual                               \\\\\n",
       "\t 356216E875132F61                      & docked\\_bike                         & 2020-04-30 17:55:47                   & 2020-04-30 18:01:11                   & Mies van der Rohe Way \\& Chicago Ave & 173                                   & Streeter Dr \\& Grand Ave             &  35                                   & 41.8969                               & -87.6217                              & 41.8923                               & -87.6120                              & member                               \\\\\n",
       "\\end{tabular}\n"
      ],
      "text/markdown": [
       "\n",
       "| ride_id | rideable_type | started_at | ended_at | start_station_name | start_station_id | end_station_name | end_station_id | start_lat | start_lng | end_lat | end_lng | member_casual |\n",
       "|---|---|---|---|---|---|---|---|---|---|---|---|---|\n",
       "| A847FADBBC638E45                    | docked_bike                         | 2020-04-26 17:45:14                 | 2020-04-26 18:12:03                 | Eckhart Park                        |  86                                 | Lincoln Ave & Diversey Pkwy         | 152                                 | 41.8964                             | -87.6610                            | 41.9322                             | -87.6586                            | member                              |\n",
       "| 5405B80E996FF60D                    | docked_bike                         | 2020-04-17 17:08:54                 | 2020-04-17 17:17:03                 | Drake Ave & Fullerton Ave           | 503                                 | Kosciuszko Park                     | 499                                 | 41.9244                             | -87.7154                            | 41.9306                             | -87.7238                            | member                              |\n",
       "| 5DD24A79A4E006F4                    | docked_bike                         | 2020-04-01 17:54:13                 | 2020-04-01 18:08:36                 | McClurg Ct & Erie St                | 142                                 | Indiana Ave & Roosevelt Rd          | 255                                 | 41.8945                             | -87.6179                            | 41.8679                             | -87.6230                            | member                              |\n",
       "| 2A59BBDF5CDBA725                    | docked_bike                         | 2020-04-07 12:50:19                 | 2020-04-07 13:02:31                 | California Ave & Division St        | 216                                 | Wood St & Augusta Blvd              | 657                                 | 41.9030                             | -87.6975                            | 41.8992                             | -87.6722                            | member                              |\n",
       "| 27AD306C119C6158                    | docked_bike                         | 2020-04-18 10:22:59                 | 2020-04-18 11:15:54                 | Rush St & Hubbard St                | 125                                 | Sheridan Rd & Lawrence Ave          | 323                                 | 41.8902                             | -87.6262                            | 41.9695                             | -87.6547                            | casual                              |\n",
       "| 356216E875132F61                    | docked_bike                         | 2020-04-30 17:55:47                 | 2020-04-30 18:01:11                 | Mies van der Rohe Way & Chicago Ave | 173                                 | Streeter Dr & Grand Ave             |  35                                 | 41.8969                             | -87.6217                            | 41.8923                             | -87.6120                            | member                              |\n",
       "\n"
      ],
      "text/plain": [
       "  ride_id          rideable_type started_at          ended_at           \n",
       "1 A847FADBBC638E45 docked_bike   2020-04-26 17:45:14 2020-04-26 18:12:03\n",
       "2 5405B80E996FF60D docked_bike   2020-04-17 17:08:54 2020-04-17 17:17:03\n",
       "3 5DD24A79A4E006F4 docked_bike   2020-04-01 17:54:13 2020-04-01 18:08:36\n",
       "4 2A59BBDF5CDBA725 docked_bike   2020-04-07 12:50:19 2020-04-07 13:02:31\n",
       "5 27AD306C119C6158 docked_bike   2020-04-18 10:22:59 2020-04-18 11:15:54\n",
       "6 356216E875132F61 docked_bike   2020-04-30 17:55:47 2020-04-30 18:01:11\n",
       "  start_station_name                  start_station_id\n",
       "1 Eckhart Park                         86             \n",
       "2 Drake Ave & Fullerton Ave           503             \n",
       "3 McClurg Ct & Erie St                142             \n",
       "4 California Ave & Division St        216             \n",
       "5 Rush St & Hubbard St                125             \n",
       "6 Mies van der Rohe Way & Chicago Ave 173             \n",
       "  end_station_name            end_station_id start_lat start_lng end_lat\n",
       "1 Lincoln Ave & Diversey Pkwy 152            41.8964   -87.6610  41.9322\n",
       "2 Kosciuszko Park             499            41.9244   -87.7154  41.9306\n",
       "3 Indiana Ave & Roosevelt Rd  255            41.8945   -87.6179  41.8679\n",
       "4 Wood St & Augusta Blvd      657            41.9030   -87.6975  41.8992\n",
       "5 Sheridan Rd & Lawrence Ave  323            41.8902   -87.6262  41.9695\n",
       "6 Streeter Dr & Grand Ave      35            41.8969   -87.6217  41.8923\n",
       "  end_lng  member_casual\n",
       "1 -87.6586 member       \n",
       "2 -87.7238 member       \n",
       "3 -87.6230 member       \n",
       "4 -87.6722 member       \n",
       "5 -87.6547 casual       \n",
       "6 -87.6120 member       "
      ]
     },
     "metadata": {},
     "output_type": "display_data"
    }
   ],
   "source": [
    "# display sample data\n",
    "\n",
    "head(tripdata_2020_04)"
   ]
  },
  {
   "cell_type": "code",
   "execution_count": 4,
   "id": "61a964cd",
   "metadata": {},
   "outputs": [
    {
     "name": "stdout",
     "output_type": "stream",
     "text": [
      "[1] 3489748      13\n"
     ]
    }
   ],
   "source": [
    "# merging into one dataframe\n",
    "\n",
    "full_df <- rbind(tripdata_2020_04,\n",
    "                 tripdata_2020_05,\n",
    "                 tripdata_2020_06, \n",
    "                 tripdata_2020_07,\n",
    "                 tripdata_2020_08, \n",
    "                 tripdata_2020_09,\n",
    "                 tripdata_2020_10, \n",
    "                 tripdata_2020_11,\n",
    "                 tripdata_2020_12,\n",
    "                 tripdata_2021_01,\n",
    "                 tripdata_2021_02,\n",
    "                 tripdata_2021_03)\n",
    "\n",
    "# get dimensions of resulting dataframe\n",
    "print(dim(full_df))"
   ]
  },
  {
   "cell_type": "code",
   "execution_count": 5,
   "id": "b5a0f14e",
   "metadata": {},
   "outputs": [],
   "source": [
    "# rename column member_casual\n",
    "\n",
    "full_df <- full_df %>%\n",
    "    rename(member_type = member_casual)"
   ]
  },
  {
   "cell_type": "markdown",
   "id": "6f9f784a",
   "metadata": {},
   "source": [
    "### Data Quality Check"
   ]
  },
  {
   "cell_type": "code",
   "execution_count": 6,
   "id": "5a5a6047",
   "metadata": {},
   "outputs": [
    {
     "name": "stdout",
     "output_type": "stream",
     "text": [
      "[1] 3489539\n"
     ]
    }
   ],
   "source": [
    "# check for duplicate rows\n",
    "\n",
    "# get unique count of ride ID\n",
    "print(n_distinct(full_df$ride_id))"
   ]
  },
  {
   "cell_type": "markdown",
   "id": "094baa29",
   "metadata": {},
   "source": [
    "There are 209 duplicates in the merged dataframe. We will go ahead and remove them."
   ]
  },
  {
   "cell_type": "code",
   "execution_count": 7,
   "id": "5494a9c2",
   "metadata": {},
   "outputs": [
    {
     "name": "stdout",
     "output_type": "stream",
     "text": [
      "[1] 3489539      13\n",
      "[1] 3489539\n"
     ]
    }
   ],
   "source": [
    "# drop duplicates\n",
    "full_df <- full_df[!duplicated(full_df$ride_id), ]\n",
    "\n",
    "# get dimensions of resulting dataframe\n",
    "print(dim(full_df))\n",
    "\n",
    "# get unique count of ride ID\n",
    "print(n_distinct(full_df$ride_id))"
   ]
  },
  {
   "cell_type": "code",
   "execution_count": 8,
   "id": "92862481",
   "metadata": {},
   "outputs": [
    {
     "name": "stdout",
     "output_type": "stream",
     "text": [
      "'data.frame':\t3489539 obs. of  13 variables:\n",
      " $ ride_id           : Factor w/ 3489539 levels \"00009D28BA1C43CB\",..: 55878 27896 31201 14132 13221 17743 53958 83622 52725 56115 ...\n",
      " $ rideable_type     : Factor w/ 3 levels \"docked_bike\",..: 1 1 1 1 1 1 1 1 1 1 ...\n",
      " $ started_at        : Factor w/ 3040228 levels \"2020-04-01 00:00:30\",..: 71395 42635 1723 16637 43704 80306 3344 16464 38494 9169 ...\n",
      " $ ended_at          : Factor w/ 3027775 levels \"2020-04-01 00:10:45\",..: 71198 42488 1689 16514 43689 80020 3292 16700 38366 9137 ...\n",
      " $ start_station_name: Factor w/ 709 levels \"2112 W Peterson Ave\",..: 207 201 367 65 456 382 527 410 329 287 ...\n",
      " $ start_station_id  : chr  \"86\" \"503\" \"142\" \"216\" ...\n",
      " $ end_station_name  : Factor w/ 707 levels \"\",\"2112 W Peterson Ave\",..: 345 303 276 593 480 526 223 572 322 96 ...\n",
      " $ end_station_id    : chr  \"152\" \"499\" \"255\" \"657\" ...\n",
      " $ start_lat         : num  41.9 41.9 41.9 41.9 41.9 ...\n",
      " $ start_lng         : num  -87.7 -87.7 -87.6 -87.7 -87.6 ...\n",
      " $ end_lat           : num  41.9 41.9 41.9 41.9 42 ...\n",
      " $ end_lng           : num  -87.7 -87.7 -87.6 -87.7 -87.7 ...\n",
      " $ member_type       : Factor w/ 2 levels \"casual\",\"member\": 2 2 2 2 1 2 2 1 1 2 ...\n"
     ]
    }
   ],
   "source": [
    "# check data types\n",
    "\n",
    "str(full_df)"
   ]
  },
  {
   "cell_type": "code",
   "execution_count": 9,
   "id": "0715522e",
   "metadata": {},
   "outputs": [],
   "source": [
    "# convert started_at and ended_at to datetime format\n",
    "\n",
    "full_df$started_at <- as.POSIXct(full_df$started_at, \"%Y-%m-%d %H:%M:%S\", tz = 'GMT')\n",
    "full_df$ended_at <- as.POSIXct(full_df$ended_at, \"%Y-%m-%d %H:%M:%S\", tz = 'GMT')"
   ]
  },
  {
   "cell_type": "code",
   "execution_count": 10,
   "id": "1d0f388f",
   "metadata": {},
   "outputs": [
    {
     "name": "stdout",
     "output_type": "stream",
     "text": [
      " POSIXct[1:3489539], format: \"2020-04-26 17:45:14\" \"2020-04-17 17:08:54\" \"2020-04-01 17:54:13\" ...\n",
      " POSIXct[1:3489539], format: \"2020-04-26 18:12:03\" \"2020-04-17 17:17:03\" \"2020-04-01 18:08:36\" ...\n"
     ]
    }
   ],
   "source": [
    "# check resulting data type\n",
    "\n",
    "str(full_df$started_at)\n",
    "str(full_df$ended_at)"
   ]
  },
  {
   "cell_type": "code",
   "execution_count": 11,
   "id": "99347c36",
   "metadata": {},
   "outputs": [
    {
     "data": {
      "text/html": [
       "<dl>\n",
       "\t<dt>$ride_id</dt>\n",
       "\t\t<dd>0</dd>\n",
       "\t<dt>$rideable_type</dt>\n",
       "\t\t<dd>0</dd>\n",
       "\t<dt>$started_at</dt>\n",
       "\t\t<dd>0</dd>\n",
       "\t<dt>$ended_at</dt>\n",
       "\t\t<dd>0</dd>\n",
       "\t<dt>$start_station_name</dt>\n",
       "\t\t<dd>0</dd>\n",
       "\t<dt>$start_station_id</dt>\n",
       "\t\t<dd>83583</dd>\n",
       "\t<dt>$end_station_name</dt>\n",
       "\t\t<dd>0</dd>\n",
       "\t<dt>$end_station_id</dt>\n",
       "\t\t<dd>98104</dd>\n",
       "\t<dt>$start_lat</dt>\n",
       "\t\t<dd>0</dd>\n",
       "\t<dt>$start_lng</dt>\n",
       "\t\t<dd>0</dd>\n",
       "\t<dt>$end_lat</dt>\n",
       "\t\t<dd>4737</dd>\n",
       "\t<dt>$end_lng</dt>\n",
       "\t\t<dd>4737</dd>\n",
       "\t<dt>$member_type</dt>\n",
       "\t\t<dd>0</dd>\n",
       "</dl>\n"
      ],
      "text/latex": [
       "\\begin{description}\n",
       "\\item[\\$ride\\_id] 0\n",
       "\\item[\\$rideable\\_type] 0\n",
       "\\item[\\$started\\_at] 0\n",
       "\\item[\\$ended\\_at] 0\n",
       "\\item[\\$start\\_station\\_name] 0\n",
       "\\item[\\$start\\_station\\_id] 83583\n",
       "\\item[\\$end\\_station\\_name] 0\n",
       "\\item[\\$end\\_station\\_id] 98104\n",
       "\\item[\\$start\\_lat] 0\n",
       "\\item[\\$start\\_lng] 0\n",
       "\\item[\\$end\\_lat] 4737\n",
       "\\item[\\$end\\_lng] 4737\n",
       "\\item[\\$member\\_type] 0\n",
       "\\end{description}\n"
      ],
      "text/markdown": [
       "$ride_id\n",
       ":   0\n",
       "$rideable_type\n",
       ":   0\n",
       "$started_at\n",
       ":   0\n",
       "$ended_at\n",
       ":   0\n",
       "$start_station_name\n",
       ":   0\n",
       "$start_station_id\n",
       ":   83583\n",
       "$end_station_name\n",
       ":   0\n",
       "$end_station_id\n",
       ":   98104\n",
       "$start_lat\n",
       ":   0\n",
       "$start_lng\n",
       ":   0\n",
       "$end_lat\n",
       ":   4737\n",
       "$end_lng\n",
       ":   4737\n",
       "$member_type\n",
       ":   0\n",
       "\n",
       "\n"
      ],
      "text/plain": [
       "$ride_id\n",
       "[1] 0\n",
       "\n",
       "$rideable_type\n",
       "[1] 0\n",
       "\n",
       "$started_at\n",
       "[1] 0\n",
       "\n",
       "$ended_at\n",
       "[1] 0\n",
       "\n",
       "$start_station_name\n",
       "[1] 0\n",
       "\n",
       "$start_station_id\n",
       "[1] 83583\n",
       "\n",
       "$end_station_name\n",
       "[1] 0\n",
       "\n",
       "$end_station_id\n",
       "[1] 98104\n",
       "\n",
       "$start_lat\n",
       "[1] 0\n",
       "\n",
       "$start_lng\n",
       "[1] 0\n",
       "\n",
       "$end_lat\n",
       "[1] 4737\n",
       "\n",
       "$end_lng\n",
       "[1] 4737\n",
       "\n",
       "$member_type\n",
       "[1] 0\n"
      ]
     },
     "metadata": {},
     "output_type": "display_data"
    }
   ],
   "source": [
    "# check for null values\n",
    "\n",
    "map(full_df, ~sum(is.na(.)))"
   ]
  },
  {
   "cell_type": "markdown",
   "id": "14e0287e",
   "metadata": {},
   "source": [
    "There are over 90k rows with null values in the end_station_id column. We will go ahead and drop them."
   ]
  },
  {
   "cell_type": "code",
   "execution_count": 12,
   "id": "a985431c",
   "metadata": {},
   "outputs": [
    {
     "data": {
      "text/html": [
       "<dl>\n",
       "\t<dt>$ride_id</dt>\n",
       "\t\t<dd>0</dd>\n",
       "\t<dt>$rideable_type</dt>\n",
       "\t\t<dd>0</dd>\n",
       "\t<dt>$started_at</dt>\n",
       "\t\t<dd>0</dd>\n",
       "\t<dt>$ended_at</dt>\n",
       "\t\t<dd>0</dd>\n",
       "\t<dt>$start_station_name</dt>\n",
       "\t\t<dd>0</dd>\n",
       "\t<dt>$start_station_id</dt>\n",
       "\t\t<dd>0</dd>\n",
       "\t<dt>$end_station_name</dt>\n",
       "\t\t<dd>0</dd>\n",
       "\t<dt>$end_station_id</dt>\n",
       "\t\t<dd>0</dd>\n",
       "\t<dt>$start_lat</dt>\n",
       "\t\t<dd>0</dd>\n",
       "\t<dt>$start_lng</dt>\n",
       "\t\t<dd>0</dd>\n",
       "\t<dt>$end_lat</dt>\n",
       "\t\t<dd>0</dd>\n",
       "\t<dt>$end_lng</dt>\n",
       "\t\t<dd>0</dd>\n",
       "\t<dt>$member_type</dt>\n",
       "\t\t<dd>0</dd>\n",
       "</dl>\n"
      ],
      "text/latex": [
       "\\begin{description}\n",
       "\\item[\\$ride\\_id] 0\n",
       "\\item[\\$rideable\\_type] 0\n",
       "\\item[\\$started\\_at] 0\n",
       "\\item[\\$ended\\_at] 0\n",
       "\\item[\\$start\\_station\\_name] 0\n",
       "\\item[\\$start\\_station\\_id] 0\n",
       "\\item[\\$end\\_station\\_name] 0\n",
       "\\item[\\$end\\_station\\_id] 0\n",
       "\\item[\\$start\\_lat] 0\n",
       "\\item[\\$start\\_lng] 0\n",
       "\\item[\\$end\\_lat] 0\n",
       "\\item[\\$end\\_lng] 0\n",
       "\\item[\\$member\\_type] 0\n",
       "\\end{description}\n"
      ],
      "text/markdown": [
       "$ride_id\n",
       ":   0\n",
       "$rideable_type\n",
       ":   0\n",
       "$started_at\n",
       ":   0\n",
       "$ended_at\n",
       ":   0\n",
       "$start_station_name\n",
       ":   0\n",
       "$start_station_id\n",
       ":   0\n",
       "$end_station_name\n",
       ":   0\n",
       "$end_station_id\n",
       ":   0\n",
       "$start_lat\n",
       ":   0\n",
       "$start_lng\n",
       ":   0\n",
       "$end_lat\n",
       ":   0\n",
       "$end_lng\n",
       ":   0\n",
       "$member_type\n",
       ":   0\n",
       "\n",
       "\n"
      ],
      "text/plain": [
       "$ride_id\n",
       "[1] 0\n",
       "\n",
       "$rideable_type\n",
       "[1] 0\n",
       "\n",
       "$started_at\n",
       "[1] 0\n",
       "\n",
       "$ended_at\n",
       "[1] 0\n",
       "\n",
       "$start_station_name\n",
       "[1] 0\n",
       "\n",
       "$start_station_id\n",
       "[1] 0\n",
       "\n",
       "$end_station_name\n",
       "[1] 0\n",
       "\n",
       "$end_station_id\n",
       "[1] 0\n",
       "\n",
       "$start_lat\n",
       "[1] 0\n",
       "\n",
       "$start_lng\n",
       "[1] 0\n",
       "\n",
       "$end_lat\n",
       "[1] 0\n",
       "\n",
       "$end_lng\n",
       "[1] 0\n",
       "\n",
       "$member_type\n",
       "[1] 0\n"
      ]
     },
     "metadata": {},
     "output_type": "display_data"
    },
    {
     "name": "stdout",
     "output_type": "stream",
     "text": [
      "[1] 3354306      13\n"
     ]
    }
   ],
   "source": [
    "# drop null values\n",
    "full_df_clean <- drop_na(full_df)\n",
    "\n",
    "# check for null values\n",
    "map(full_df_clean, ~sum(is.na(.)))\n",
    "\n",
    "# get dimensions of resulting dataframe\n",
    "print(dim(full_df_clean))"
   ]
  },
  {
   "cell_type": "markdown",
   "id": "44d5e9a9",
   "metadata": {},
   "source": [
    "### Data Mining"
   ]
  },
  {
   "cell_type": "markdown",
   "id": "56a3a3e9",
   "metadata": {},
   "source": [
    "We can extract individual date parts which can be useful for our analysis."
   ]
  },
  {
   "cell_type": "code",
   "execution_count": 13,
   "id": "b4ea418c",
   "metadata": {},
   "outputs": [],
   "source": [
    "# extract date\n",
    "full_df_clean$date <- as.Date(full_df_clean$started_at) \n",
    "\n",
    "# extract month\n",
    "full_df_clean$month <- format(as.Date(full_df_clean$date), \"%m\")\n",
    "\n",
    "# extract day\n",
    "full_df_clean$day <- format(as.Date(full_df_clean$date), \"%d\")\n",
    "\n",
    "# extract year\n",
    "full_df_clean$year <- format(as.Date(full_df_clean$date), \"%Y\")\n",
    "\n",
    "# extract day of week\n",
    "full_df_clean$day_of_week <- format(as.Date(full_df_clean$date), \"%A\")\n",
    "\n",
    "# extract ride start hour\n",
    "full_df_clean <- full_df_clean %>%\n",
    "    mutate(start_hour = strftime(full_df_clean$started_at, tz = \"GMT\", \"%H\"))"
   ]
  },
  {
   "cell_type": "code",
   "execution_count": 14,
   "id": "5d7af32b",
   "metadata": {},
   "outputs": [],
   "source": [
    "# create year-month column, since our data is distributed over 2 years\n",
    "\n",
    "full_df_clean$year_month <- paste(full_df_clean$year, \"-\", full_df_clean$month)"
   ]
  },
  {
   "cell_type": "code",
   "execution_count": 15,
   "id": "e0a34732",
   "metadata": {},
   "outputs": [
    {
     "data": {
      "text/html": [
       "<table>\n",
       "<thead><tr><th scope=col>ride_id</th><th scope=col>rideable_type</th><th scope=col>started_at</th><th scope=col>ended_at</th><th scope=col>start_station_name</th><th scope=col>start_station_id</th><th scope=col>end_station_name</th><th scope=col>end_station_id</th><th scope=col>start_lat</th><th scope=col>start_lng</th><th scope=col>end_lat</th><th scope=col>end_lng</th><th scope=col>member_type</th><th scope=col>date</th><th scope=col>month</th><th scope=col>day</th><th scope=col>year</th><th scope=col>day_of_week</th><th scope=col>start_hour</th><th scope=col>year_month</th></tr></thead>\n",
       "<tbody>\n",
       "\t<tr><td>A847FADBBC638E45                                                           </td><td>docked_bike                                                                </td><td>2020-04-26 17:45:14                                                        </td><td>2020-04-26 18:12:03                                                        </td><td><span style=white-space:pre-wrap>Eckhart Park                       </span></td><td>86                                                                         </td><td>Lincoln Ave &amp; Diversey Pkwy                                            </td><td>152                                                                        </td><td>41.8964                                                                    </td><td>-87.6610                                                                   </td><td>41.9322                                                                    </td><td>-87.6586                                                                   </td><td>member                                                                     </td><td>2020-04-26                                                                 </td><td>04                                                                         </td><td>26                                                                         </td><td>2020                                                                       </td><td><span style=white-space:pre-wrap>Sunday   </span>                          </td><td>17                                                                         </td><td>2020 - 04                                                                  </td></tr>\n",
       "\t<tr><td>5405B80E996FF60D                                                               </td><td>docked_bike                                                                    </td><td>2020-04-17 17:08:54                                                            </td><td>2020-04-17 17:17:03                                                            </td><td><span style=white-space:pre-wrap>Drake Ave &amp; Fullerton Ave          </span></td><td>503                                                                            </td><td><span style=white-space:pre-wrap>Kosciuszko Park            </span>            </td><td>499                                                                            </td><td>41.9244                                                                        </td><td>-87.7154                                                                       </td><td>41.9306                                                                        </td><td>-87.7238                                                                       </td><td>member                                                                         </td><td>2020-04-17                                                                     </td><td>04                                                                             </td><td>17                                                                             </td><td>2020                                                                           </td><td><span style=white-space:pre-wrap>Friday   </span>                              </td><td>17                                                                             </td><td>2020 - 04                                                                      </td></tr>\n",
       "\t<tr><td>5DD24A79A4E006F4                                                               </td><td>docked_bike                                                                    </td><td>2020-04-01 17:54:13                                                            </td><td>2020-04-01 18:08:36                                                            </td><td><span style=white-space:pre-wrap>McClurg Ct &amp; Erie St               </span></td><td>142                                                                            </td><td>Indiana Ave &amp; Roosevelt Rd                                                 </td><td>255                                                                            </td><td>41.8945                                                                        </td><td>-87.6179                                                                       </td><td>41.8679                                                                        </td><td>-87.6230                                                                       </td><td>member                                                                         </td><td>2020-04-01                                                                     </td><td>04                                                                             </td><td>01                                                                             </td><td>2020                                                                           </td><td>Wednesday                                                                      </td><td>17                                                                             </td><td>2020 - 04                                                                      </td></tr>\n",
       "\t<tr><td>2A59BBDF5CDBA725                                                               </td><td>docked_bike                                                                    </td><td>2020-04-07 12:50:19                                                            </td><td>2020-04-07 13:02:31                                                            </td><td><span style=white-space:pre-wrap>California Ave &amp; Division St       </span></td><td>216                                                                            </td><td><span style=white-space:pre-wrap>Wood St &amp; Augusta Blvd     </span>        </td><td>657                                                                            </td><td>41.9030                                                                        </td><td>-87.6975                                                                       </td><td>41.8992                                                                        </td><td>-87.6722                                                                       </td><td>member                                                                         </td><td>2020-04-07                                                                     </td><td>04                                                                             </td><td>07                                                                             </td><td>2020                                                                           </td><td><span style=white-space:pre-wrap>Tuesday  </span>                              </td><td>12                                                                             </td><td>2020 - 04                                                                      </td></tr>\n",
       "\t<tr><td>27AD306C119C6158                                                               </td><td>docked_bike                                                                    </td><td>2020-04-18 10:22:59                                                            </td><td>2020-04-18 11:15:54                                                            </td><td><span style=white-space:pre-wrap>Rush St &amp; Hubbard St               </span></td><td>125                                                                            </td><td>Sheridan Rd &amp; Lawrence Ave                                                 </td><td>323                                                                            </td><td>41.8902                                                                        </td><td>-87.6262                                                                       </td><td>41.9695                                                                        </td><td>-87.6547                                                                       </td><td>casual                                                                         </td><td>2020-04-18                                                                     </td><td>04                                                                             </td><td>18                                                                             </td><td>2020                                                                           </td><td>Saturday                                                                       </td><td>10                                                                             </td><td>2020 - 04                                                                      </td></tr>\n",
       "\t<tr><td>356216E875132F61                                                       </td><td>docked_bike                                                            </td><td>2020-04-30 17:55:47                                                    </td><td>2020-04-30 18:01:11                                                    </td><td>Mies van der Rohe Way &amp; Chicago Ave                                </td><td>173                                                                    </td><td><span style=white-space:pre-wrap>Streeter Dr &amp; Grand Ave    </span></td><td>35                                                                     </td><td>41.8969                                                                </td><td>-87.6217                                                               </td><td>41.8923                                                                </td><td>-87.6120                                                               </td><td>member                                                                 </td><td>2020-04-30                                                             </td><td>04                                                                     </td><td>30                                                                     </td><td>2020                                                                   </td><td>Thursday                                                               </td><td>17                                                                     </td><td>2020 - 04                                                              </td></tr>\n",
       "</tbody>\n",
       "</table>\n"
      ],
      "text/latex": [
       "\\begin{tabular}{r|llllllllllllllllllll}\n",
       " ride\\_id & rideable\\_type & started\\_at & ended\\_at & start\\_station\\_name & start\\_station\\_id & end\\_station\\_name & end\\_station\\_id & start\\_lat & start\\_lng & end\\_lat & end\\_lng & member\\_type & date & month & day & year & day\\_of\\_week & start\\_hour & year\\_month\\\\\n",
       "\\hline\n",
       "\t A847FADBBC638E45                    & docked\\_bike                       & 2020-04-26 17:45:14                 & 2020-04-26 18:12:03                 & Eckhart Park                        & 86                                  & Lincoln Ave \\& Diversey Pkwy       & 152                                 & 41.8964                             & -87.6610                            & 41.9322                             & -87.6586                            & member                              & 2020-04-26                          & 04                                  & 26                                  & 2020                                & Sunday                              & 17                                  & 2020 - 04                          \\\\\n",
       "\t 5405B80E996FF60D                      & docked\\_bike                         & 2020-04-17 17:08:54                   & 2020-04-17 17:17:03                   & Drake Ave \\& Fullerton Ave           & 503                                   & Kosciuszko Park                       & 499                                   & 41.9244                               & -87.7154                              & 41.9306                               & -87.7238                              & member                                & 2020-04-17                            & 04                                    & 17                                    & 2020                                  & Friday                                & 17                                    & 2020 - 04                            \\\\\n",
       "\t 5DD24A79A4E006F4                      & docked\\_bike                         & 2020-04-01 17:54:13                   & 2020-04-01 18:08:36                   & McClurg Ct \\& Erie St                & 142                                   & Indiana Ave \\& Roosevelt Rd          & 255                                   & 41.8945                               & -87.6179                              & 41.8679                               & -87.6230                              & member                                & 2020-04-01                            & 04                                    & 01                                    & 2020                                  & Wednesday                             & 17                                    & 2020 - 04                            \\\\\n",
       "\t 2A59BBDF5CDBA725                      & docked\\_bike                         & 2020-04-07 12:50:19                   & 2020-04-07 13:02:31                   & California Ave \\& Division St        & 216                                   & Wood St \\& Augusta Blvd              & 657                                   & 41.9030                               & -87.6975                              & 41.8992                               & -87.6722                              & member                                & 2020-04-07                            & 04                                    & 07                                    & 2020                                  & Tuesday                               & 12                                    & 2020 - 04                            \\\\\n",
       "\t 27AD306C119C6158                      & docked\\_bike                         & 2020-04-18 10:22:59                   & 2020-04-18 11:15:54                   & Rush St \\& Hubbard St                & 125                                   & Sheridan Rd \\& Lawrence Ave          & 323                                   & 41.8902                               & -87.6262                              & 41.9695                               & -87.6547                              & casual                                & 2020-04-18                            & 04                                    & 18                                    & 2020                                  & Saturday                              & 10                                    & 2020 - 04                            \\\\\n",
       "\t 356216E875132F61                      & docked\\_bike                         & 2020-04-30 17:55:47                   & 2020-04-30 18:01:11                   & Mies van der Rohe Way \\& Chicago Ave & 173                                   & Streeter Dr \\& Grand Ave             & 35                                    & 41.8969                               & -87.6217                              & 41.8923                               & -87.6120                              & member                                & 2020-04-30                            & 04                                    & 30                                    & 2020                                  & Thursday                              & 17                                    & 2020 - 04                            \\\\\n",
       "\\end{tabular}\n"
      ],
      "text/markdown": [
       "\n",
       "| ride_id | rideable_type | started_at | ended_at | start_station_name | start_station_id | end_station_name | end_station_id | start_lat | start_lng | end_lat | end_lng | member_type | date | month | day | year | day_of_week | start_hour | year_month |\n",
       "|---|---|---|---|---|---|---|---|---|---|---|---|---|---|---|---|---|---|---|---|\n",
       "| A847FADBBC638E45                    | docked_bike                         | 2020-04-26 17:45:14                 | 2020-04-26 18:12:03                 | Eckhart Park                        | 86                                  | Lincoln Ave & Diversey Pkwy         | 152                                 | 41.8964                             | -87.6610                            | 41.9322                             | -87.6586                            | member                              | 2020-04-26                          | 04                                  | 26                                  | 2020                                | Sunday                              | 17                                  | 2020 - 04                           |\n",
       "| 5405B80E996FF60D                    | docked_bike                         | 2020-04-17 17:08:54                 | 2020-04-17 17:17:03                 | Drake Ave & Fullerton Ave           | 503                                 | Kosciuszko Park                     | 499                                 | 41.9244                             | -87.7154                            | 41.9306                             | -87.7238                            | member                              | 2020-04-17                          | 04                                  | 17                                  | 2020                                | Friday                              | 17                                  | 2020 - 04                           |\n",
       "| 5DD24A79A4E006F4                    | docked_bike                         | 2020-04-01 17:54:13                 | 2020-04-01 18:08:36                 | McClurg Ct & Erie St                | 142                                 | Indiana Ave & Roosevelt Rd          | 255                                 | 41.8945                             | -87.6179                            | 41.8679                             | -87.6230                            | member                              | 2020-04-01                          | 04                                  | 01                                  | 2020                                | Wednesday                           | 17                                  | 2020 - 04                           |\n",
       "| 2A59BBDF5CDBA725                    | docked_bike                         | 2020-04-07 12:50:19                 | 2020-04-07 13:02:31                 | California Ave & Division St        | 216                                 | Wood St & Augusta Blvd              | 657                                 | 41.9030                             | -87.6975                            | 41.8992                             | -87.6722                            | member                              | 2020-04-07                          | 04                                  | 07                                  | 2020                                | Tuesday                             | 12                                  | 2020 - 04                           |\n",
       "| 27AD306C119C6158                    | docked_bike                         | 2020-04-18 10:22:59                 | 2020-04-18 11:15:54                 | Rush St & Hubbard St                | 125                                 | Sheridan Rd & Lawrence Ave          | 323                                 | 41.8902                             | -87.6262                            | 41.9695                             | -87.6547                            | casual                              | 2020-04-18                          | 04                                  | 18                                  | 2020                                | Saturday                            | 10                                  | 2020 - 04                           |\n",
       "| 356216E875132F61                    | docked_bike                         | 2020-04-30 17:55:47                 | 2020-04-30 18:01:11                 | Mies van der Rohe Way & Chicago Ave | 173                                 | Streeter Dr & Grand Ave             | 35                                  | 41.8969                             | -87.6217                            | 41.8923                             | -87.6120                            | member                              | 2020-04-30                          | 04                                  | 30                                  | 2020                                | Thursday                            | 17                                  | 2020 - 04                           |\n",
       "\n"
      ],
      "text/plain": [
       "  ride_id          rideable_type started_at          ended_at           \n",
       "1 A847FADBBC638E45 docked_bike   2020-04-26 17:45:14 2020-04-26 18:12:03\n",
       "2 5405B80E996FF60D docked_bike   2020-04-17 17:08:54 2020-04-17 17:17:03\n",
       "3 5DD24A79A4E006F4 docked_bike   2020-04-01 17:54:13 2020-04-01 18:08:36\n",
       "4 2A59BBDF5CDBA725 docked_bike   2020-04-07 12:50:19 2020-04-07 13:02:31\n",
       "5 27AD306C119C6158 docked_bike   2020-04-18 10:22:59 2020-04-18 11:15:54\n",
       "6 356216E875132F61 docked_bike   2020-04-30 17:55:47 2020-04-30 18:01:11\n",
       "  start_station_name                  start_station_id\n",
       "1 Eckhart Park                        86              \n",
       "2 Drake Ave & Fullerton Ave           503             \n",
       "3 McClurg Ct & Erie St                142             \n",
       "4 California Ave & Division St        216             \n",
       "5 Rush St & Hubbard St                125             \n",
       "6 Mies van der Rohe Way & Chicago Ave 173             \n",
       "  end_station_name            end_station_id start_lat start_lng end_lat\n",
       "1 Lincoln Ave & Diversey Pkwy 152            41.8964   -87.6610  41.9322\n",
       "2 Kosciuszko Park             499            41.9244   -87.7154  41.9306\n",
       "3 Indiana Ave & Roosevelt Rd  255            41.8945   -87.6179  41.8679\n",
       "4 Wood St & Augusta Blvd      657            41.9030   -87.6975  41.8992\n",
       "5 Sheridan Rd & Lawrence Ave  323            41.8902   -87.6262  41.9695\n",
       "6 Streeter Dr & Grand Ave     35             41.8969   -87.6217  41.8923\n",
       "  end_lng  member_type date       month day year day_of_week start_hour\n",
       "1 -87.6586 member      2020-04-26 04    26  2020 Sunday      17        \n",
       "2 -87.7238 member      2020-04-17 04    17  2020 Friday      17        \n",
       "3 -87.6230 member      2020-04-01 04    01  2020 Wednesday   17        \n",
       "4 -87.6722 member      2020-04-07 04    07  2020 Tuesday     12        \n",
       "5 -87.6547 casual      2020-04-18 04    18  2020 Saturday    10        \n",
       "6 -87.6120 member      2020-04-30 04    30  2020 Thursday    17        \n",
       "  year_month\n",
       "1 2020 - 04 \n",
       "2 2020 - 04 \n",
       "3 2020 - 04 \n",
       "4 2020 - 04 \n",
       "5 2020 - 04 \n",
       "6 2020 - 04 "
      ]
     },
     "metadata": {},
     "output_type": "display_data"
    }
   ],
   "source": [
    "head(full_df_clean)"
   ]
  },
  {
   "cell_type": "markdown",
   "id": "430edf58",
   "metadata": {},
   "source": [
    "We can also extract useful information from the bike rides (duration, distance etc)."
   ]
  },
  {
   "cell_type": "code",
   "execution_count": 16,
   "id": "978e6fe8",
   "metadata": {},
   "outputs": [],
   "source": [
    "# create new column ride_duration_mins -> total ride duration in mins\n",
    "\n",
    "full_df_clean <- full_df_clean %>%\n",
    "    mutate(ride_duration_mins = as.numeric(full_df_clean$ended_at - full_df_clean$started_at) / 60)"
   ]
  },
  {
   "cell_type": "code",
   "execution_count": 17,
   "id": "3075b072",
   "metadata": {},
   "outputs": [
    {
     "data": {
      "text/plain": [
       "     Min.   1st Qu.    Median      Mean   3rd Qu.      Max. \n",
       "-29049.97      7.97     14.62     26.32     26.72  58720.03 "
      ]
     },
     "metadata": {},
     "output_type": "display_data"
    }
   ],
   "source": [
    "summary(full_df_clean$ride_duration_mins)"
   ]
  },
  {
   "cell_type": "markdown",
   "id": "014ab972",
   "metadata": {},
   "source": [
    "It appears that there are rides where the end time is before the start time. We will treat this as a data entry error and will go ahead to drop them from our dataframe."
   ]
  },
  {
   "cell_type": "code",
   "execution_count": 18,
   "id": "aec0aab0",
   "metadata": {},
   "outputs": [
    {
     "data": {
      "text/html": [
       "<table>\n",
       "<thead><tr><th scope=col>ride_id</th><th scope=col>rideable_type</th><th scope=col>started_at</th><th scope=col>ended_at</th><th scope=col>start_station_name</th><th scope=col>start_station_id</th><th scope=col>end_station_name</th><th scope=col>end_station_id</th><th scope=col>start_lat</th><th scope=col>start_lng</th><th scope=col>...</th><th scope=col>end_lng</th><th scope=col>member_type</th><th scope=col>date</th><th scope=col>month</th><th scope=col>day</th><th scope=col>year</th><th scope=col>day_of_week</th><th scope=col>start_hour</th><th scope=col>year_month</th><th scope=col>ride_duration_mins</th></tr></thead>\n",
       "<tbody>\n",
       "\t<tr><td>7C1E92200AEFF70E                                                       </td><td>docked_bike                                                            </td><td>2020-04-27 17:20:30                                                    </td><td>2020-04-27 17:20:18                                                    </td><td><span style=white-space:pre-wrap>St. Clair St &amp; Erie St     </span></td><td>211                                                                    </td><td>Clinton St &amp; Washington Blvd                                       </td><td>91                                                                     </td><td>41.8944                                                                </td><td>-87.6227                                                               </td><td>...                                                                    </td><td>-87.6412                                                               </td><td>member                                                                 </td><td>2020-04-27                                                             </td><td>04                                                                     </td><td>27                                                                     </td><td>2020                                                                   </td><td><span style=white-space:pre-wrap>Monday   </span>                      </td><td>17                                                                     </td><td>2020 - 04                                                              </td><td>-0.20000000                                                            </td></tr>\n",
       "\t<tr><td>671BB1F73F4CD303                                                    </td><td>docked_bike                                                         </td><td>2020-04-20 16:51:18                                                 </td><td>2020-04-20 16:51:05                                                 </td><td>Lake Shore Dr &amp; Belmont Ave                                     </td><td>334                                                                 </td><td><span style=white-space:pre-wrap>Buckingham Fountain         </span></td><td><span style=white-space:pre-wrap>2  </span>                         </td><td>41.9408                                                             </td><td>-87.6392                                                            </td><td>...                                                                 </td><td>-87.6205                                                            </td><td>casual                                                              </td><td>2020-04-20                                                          </td><td>04                                                                  </td><td>20                                                                  </td><td>2020                                                                </td><td><span style=white-space:pre-wrap>Monday   </span>                   </td><td>16                                                                  </td><td>2020 - 04                                                           </td><td>-0.21666667                                                         </td></tr>\n",
       "\t<tr><td>502B972C6B1FCAE6                                                        </td><td>docked_bike                                                             </td><td>2020-04-12 19:09:54                                                     </td><td>2020-04-12 19:09:40                                                     </td><td><span style=white-space:pre-wrap>Clark St &amp; Schiller St     </span> </td><td>301                                                                     </td><td><span style=white-space:pre-wrap>Wells St &amp; Concord Ln       </span></td><td>289                                                                     </td><td>41.9080                                                                 </td><td>-87.6315                                                                </td><td>...                                                                     </td><td>-87.6347                                                                </td><td>member                                                                  </td><td>2020-04-12                                                              </td><td>04                                                                      </td><td>12                                                                      </td><td>2020                                                                    </td><td><span style=white-space:pre-wrap>Sunday   </span>                       </td><td>19                                                                      </td><td>2020 - 04                                                               </td><td>-0.23333333                                                             </td></tr>\n",
       "\t<tr><td>68E70FDF06F0A439                                                        </td><td>docked_bike                                                             </td><td>2020-04-29 17:37:11                                                     </td><td>2020-04-29 17:37:07                                                     </td><td><span style=white-space:pre-wrap>Dearborn St &amp; Adams St     </span> </td><td>37                                                                      </td><td><span style=white-space:pre-wrap>California Ave &amp; 23rd Pl    </span></td><td>442                                                                     </td><td>41.8794                                                                 </td><td>-87.6298                                                                </td><td>...                                                                     </td><td>-87.6951                                                                </td><td>member                                                                  </td><td>2020-04-29                                                              </td><td>04                                                                      </td><td>29                                                                      </td><td>2020                                                                    </td><td>Wednesday                                                               </td><td>17                                                                      </td><td>2020 - 04                                                               </td><td>-0.06666667                                                             </td></tr>\n",
       "\t<tr><td>6EB323BCC83A9D1D                                                        </td><td>docked_bike                                                             </td><td>2020-04-05 15:46:12                                                     </td><td>2020-04-05 15:46:11                                                     </td><td>Francisco Ave &amp; Foster Ave                                          </td><td>471                                                                     </td><td><span style=white-space:pre-wrap>Damen Ave &amp; Clybourn Ave    </span></td><td>163                                                                     </td><td>41.9756                                                                 </td><td>-87.7014                                                                </td><td>...                                                                     </td><td>-87.6779                                                                </td><td>member                                                                  </td><td>2020-04-05                                                              </td><td>04                                                                      </td><td>05                                                                      </td><td>2020                                                                    </td><td><span style=white-space:pre-wrap>Sunday   </span>                       </td><td>15                                                                      </td><td>2020 - 04                                                               </td><td>-0.01666667                                                             </td></tr>\n",
       "\t<tr><td>90105A0FA1F2B0F3                                                        </td><td>docked_bike                                                             </td><td>2020-04-13 14:06:59                                                     </td><td>2020-04-13 14:06:45                                                     </td><td><span style=white-space:pre-wrap>Racine Ave &amp; Belmont Ave   </span> </td><td>226                                                                     </td><td><span style=white-space:pre-wrap>Broadway &amp; Waveland Ave     </span></td><td>304                                                                     </td><td>41.9397                                                                 </td><td>-87.6589                                                                </td><td>...                                                                     </td><td>-87.6486                                                                </td><td>casual                                                                  </td><td>2020-04-13                                                              </td><td>04                                                                      </td><td>13                                                                      </td><td>2020                                                                    </td><td><span style=white-space:pre-wrap>Monday   </span>                       </td><td>14                                                                      </td><td>2020 - 04                                                               </td><td>-0.23333333                                                             </td></tr>\n",
       "</tbody>\n",
       "</table>\n"
      ],
      "text/latex": [
       "\\begin{tabular}{r|lllllllllllllllllllll}\n",
       " ride\\_id & rideable\\_type & started\\_at & ended\\_at & start\\_station\\_name & start\\_station\\_id & end\\_station\\_name & end\\_station\\_id & start\\_lat & start\\_lng & ... & end\\_lng & member\\_type & date & month & day & year & day\\_of\\_week & start\\_hour & year\\_month & ride\\_duration\\_mins\\\\\n",
       "\\hline\n",
       "\t 7C1E92200AEFF70E               & docked\\_bike                  & 2020-04-27 17:20:30            & 2020-04-27 17:20:18            & St. Clair St \\& Erie St       & 211                            & Clinton St \\& Washington Blvd & 91                             & 41.8944                        & -87.6227                       & ...                            & -87.6412                       & member                         & 2020-04-27                     & 04                             & 27                             & 2020                           & Monday                         & 17                             & 2020 - 04                      & -0.20000000                   \\\\\n",
       "\t 671BB1F73F4CD303              & docked\\_bike                 & 2020-04-20 16:51:18           & 2020-04-20 16:51:05           & Lake Shore Dr \\& Belmont Ave & 334                           & Buckingham Fountain           & 2                             & 41.9408                       & -87.6392                      & ...                           & -87.6205                      & casual                        & 2020-04-20                    & 04                            & 20                            & 2020                          & Monday                        & 16                            & 2020 - 04                     & -0.21666667                  \\\\\n",
       "\t 502B972C6B1FCAE6               & docked\\_bike                  & 2020-04-12 19:09:54            & 2020-04-12 19:09:40            & Clark St \\& Schiller St       & 301                            & Wells St \\& Concord Ln        & 289                            & 41.9080                        & -87.6315                       & ...                            & -87.6347                       & member                         & 2020-04-12                     & 04                             & 12                             & 2020                           & Sunday                         & 19                             & 2020 - 04                      & -0.23333333                   \\\\\n",
       "\t 68E70FDF06F0A439               & docked\\_bike                  & 2020-04-29 17:37:11            & 2020-04-29 17:37:07            & Dearborn St \\& Adams St       & 37                             & California Ave \\& 23rd Pl     & 442                            & 41.8794                        & -87.6298                       & ...                            & -87.6951                       & member                         & 2020-04-29                     & 04                             & 29                             & 2020                           & Wednesday                      & 17                             & 2020 - 04                      & -0.06666667                   \\\\\n",
       "\t 6EB323BCC83A9D1D               & docked\\_bike                  & 2020-04-05 15:46:12            & 2020-04-05 15:46:11            & Francisco Ave \\& Foster Ave   & 471                            & Damen Ave \\& Clybourn Ave     & 163                            & 41.9756                        & -87.7014                       & ...                            & -87.6779                       & member                         & 2020-04-05                     & 04                             & 05                             & 2020                           & Sunday                         & 15                             & 2020 - 04                      & -0.01666667                   \\\\\n",
       "\t 90105A0FA1F2B0F3               & docked\\_bike                  & 2020-04-13 14:06:59            & 2020-04-13 14:06:45            & Racine Ave \\& Belmont Ave     & 226                            & Broadway \\& Waveland Ave      & 304                            & 41.9397                        & -87.6589                       & ...                            & -87.6486                       & casual                         & 2020-04-13                     & 04                             & 13                             & 2020                           & Monday                         & 14                             & 2020 - 04                      & -0.23333333                   \\\\\n",
       "\\end{tabular}\n"
      ],
      "text/markdown": [
       "\n",
       "| ride_id | rideable_type | started_at | ended_at | start_station_name | start_station_id | end_station_name | end_station_id | start_lat | start_lng | ... | end_lng | member_type | date | month | day | year | day_of_week | start_hour | year_month | ride_duration_mins |\n",
       "|---|---|---|---|---|---|---|---|---|---|---|---|---|---|---|---|---|---|---|---|---|\n",
       "| 7C1E92200AEFF70E             | docked_bike                  | 2020-04-27 17:20:30          | 2020-04-27 17:20:18          | St. Clair St & Erie St       | 211                          | Clinton St & Washington Blvd | 91                           | 41.8944                      | -87.6227                     | ...                          | -87.6412                     | member                       | 2020-04-27                   | 04                           | 27                           | 2020                         | Monday                       | 17                           | 2020 - 04                    | -0.20000000                  |\n",
       "| 671BB1F73F4CD303             | docked_bike                  | 2020-04-20 16:51:18          | 2020-04-20 16:51:05          | Lake Shore Dr & Belmont Ave  | 334                          | Buckingham Fountain          | 2                            | 41.9408                      | -87.6392                     | ...                          | -87.6205                     | casual                       | 2020-04-20                   | 04                           | 20                           | 2020                         | Monday                       | 16                           | 2020 - 04                    | -0.21666667                  |\n",
       "| 502B972C6B1FCAE6             | docked_bike                  | 2020-04-12 19:09:54          | 2020-04-12 19:09:40          | Clark St & Schiller St       | 301                          | Wells St & Concord Ln        | 289                          | 41.9080                      | -87.6315                     | ...                          | -87.6347                     | member                       | 2020-04-12                   | 04                           | 12                           | 2020                         | Sunday                       | 19                           | 2020 - 04                    | -0.23333333                  |\n",
       "| 68E70FDF06F0A439             | docked_bike                  | 2020-04-29 17:37:11          | 2020-04-29 17:37:07          | Dearborn St & Adams St       | 37                           | California Ave & 23rd Pl     | 442                          | 41.8794                      | -87.6298                     | ...                          | -87.6951                     | member                       | 2020-04-29                   | 04                           | 29                           | 2020                         | Wednesday                    | 17                           | 2020 - 04                    | -0.06666667                  |\n",
       "| 6EB323BCC83A9D1D             | docked_bike                  | 2020-04-05 15:46:12          | 2020-04-05 15:46:11          | Francisco Ave & Foster Ave   | 471                          | Damen Ave & Clybourn Ave     | 163                          | 41.9756                      | -87.7014                     | ...                          | -87.6779                     | member                       | 2020-04-05                   | 04                           | 05                           | 2020                         | Sunday                       | 15                           | 2020 - 04                    | -0.01666667                  |\n",
       "| 90105A0FA1F2B0F3             | docked_bike                  | 2020-04-13 14:06:59          | 2020-04-13 14:06:45          | Racine Ave & Belmont Ave     | 226                          | Broadway & Waveland Ave      | 304                          | 41.9397                      | -87.6589                     | ...                          | -87.6486                     | casual                       | 2020-04-13                   | 04                           | 13                           | 2020                         | Monday                       | 14                           | 2020 - 04                    | -0.23333333                  |\n",
       "\n"
      ],
      "text/plain": [
       "  ride_id          rideable_type started_at          ended_at           \n",
       "1 7C1E92200AEFF70E docked_bike   2020-04-27 17:20:30 2020-04-27 17:20:18\n",
       "2 671BB1F73F4CD303 docked_bike   2020-04-20 16:51:18 2020-04-20 16:51:05\n",
       "3 502B972C6B1FCAE6 docked_bike   2020-04-12 19:09:54 2020-04-12 19:09:40\n",
       "4 68E70FDF06F0A439 docked_bike   2020-04-29 17:37:11 2020-04-29 17:37:07\n",
       "5 6EB323BCC83A9D1D docked_bike   2020-04-05 15:46:12 2020-04-05 15:46:11\n",
       "6 90105A0FA1F2B0F3 docked_bike   2020-04-13 14:06:59 2020-04-13 14:06:45\n",
       "  start_station_name          start_station_id end_station_name            \n",
       "1 St. Clair St & Erie St      211              Clinton St & Washington Blvd\n",
       "2 Lake Shore Dr & Belmont Ave 334              Buckingham Fountain         \n",
       "3 Clark St & Schiller St      301              Wells St & Concord Ln       \n",
       "4 Dearborn St & Adams St      37               California Ave & 23rd Pl    \n",
       "5 Francisco Ave & Foster Ave  471              Damen Ave & Clybourn Ave    \n",
       "6 Racine Ave & Belmont Ave    226              Broadway & Waveland Ave     \n",
       "  end_station_id start_lat start_lng ... end_lng  member_type date       month\n",
       "1 91             41.8944   -87.6227  ... -87.6412 member      2020-04-27 04   \n",
       "2 2              41.9408   -87.6392  ... -87.6205 casual      2020-04-20 04   \n",
       "3 289            41.9080   -87.6315  ... -87.6347 member      2020-04-12 04   \n",
       "4 442            41.8794   -87.6298  ... -87.6951 member      2020-04-29 04   \n",
       "5 163            41.9756   -87.7014  ... -87.6779 member      2020-04-05 04   \n",
       "6 304            41.9397   -87.6589  ... -87.6486 casual      2020-04-13 04   \n",
       "  day year day_of_week start_hour year_month ride_duration_mins\n",
       "1 27  2020 Monday      17         2020 - 04  -0.20000000       \n",
       "2 20  2020 Monday      16         2020 - 04  -0.21666667       \n",
       "3 12  2020 Sunday      19         2020 - 04  -0.23333333       \n",
       "4 29  2020 Wednesday   17         2020 - 04  -0.06666667       \n",
       "5 05  2020 Sunday      15         2020 - 04  -0.01666667       \n",
       "6 13  2020 Monday      14         2020 - 04  -0.23333333       "
      ]
     },
     "metadata": {},
     "output_type": "display_data"
    }
   ],
   "source": [
    "# check rides with negative ride duration\n",
    "\n",
    "head(filter(full_df_clean, ride_duration_mins < 0))"
   ]
  },
  {
   "cell_type": "code",
   "execution_count": 19,
   "id": "2a8d0b0b",
   "metadata": {},
   "outputs": [
    {
     "data": {
      "text/html": [
       "10310"
      ],
      "text/latex": [
       "10310"
      ],
      "text/markdown": [
       "10310"
      ],
      "text/plain": [
       "[1] 10310"
      ]
     },
     "metadata": {},
     "output_type": "display_data"
    }
   ],
   "source": [
    "# number of rows with negative ride duration\n",
    "\n",
    "dim(filter(full_df_clean, ride_duration_mins < 0))[1]"
   ]
  },
  {
   "cell_type": "code",
   "execution_count": 20,
   "id": "6225f94b",
   "metadata": {},
   "outputs": [
    {
     "name": "stdout",
     "output_type": "stream",
     "text": [
      "[1] 3343689      21\n"
     ]
    }
   ],
   "source": [
    "# drop rows with negative ride duration\n",
    "full_df_clean <- subset(full_df_clean, ride_duration_mins > 0)\n",
    "\n",
    "# get dimensions of resulting dataframe\n",
    "print(dim(full_df_clean))"
   ]
  },
  {
   "cell_type": "code",
   "execution_count": 21,
   "id": "f1354986",
   "metadata": {},
   "outputs": [
    {
     "data": {
      "text/plain": [
       "    Min.  1st Qu.   Median     Mean  3rd Qu.     Max. \n",
       "    0.02     8.02    14.67    27.85    26.78 58720.03 "
      ]
     },
     "metadata": {},
     "output_type": "display_data"
    }
   ],
   "source": [
    "summary(full_df_clean$ride_duration_mins)"
   ]
  },
  {
   "cell_type": "code",
   "execution_count": 22,
   "id": "2bb41b17",
   "metadata": {},
   "outputs": [],
   "source": [
    "# function to calculate distance in kilometers between two points\n",
    "# taking radius of earth = 6378.145 km\n",
    "\n",
    "euclidean.dist <- function(df)\n",
    "{\n",
    "rad <- pi/180\n",
    "a1 <- df$start_lat * rad\n",
    "a2 <- df$start_lng * rad\n",
    "b1 <- df$end_lat * rad\n",
    "b2 <- df$end_lng * rad\n",
    "dlon <- b2 - a2\n",
    "dlat <- b1 - a1\n",
    "a <- (sin(dlat/2))^2 + cos(a1) * cos(b1) * (sin(dlon/2))^2\n",
    "c <- 2 * atan2(sqrt(a), sqrt(1 - a))\n",
    "R <- 6378.145\n",
    "d <- R * c\n",
    "\n",
    "df['distance_km'] <- d\n",
    "df\n",
    "}"
   ]
  },
  {
   "cell_type": "code",
   "execution_count": 23,
   "id": "2f5d5089",
   "metadata": {},
   "outputs": [],
   "source": [
    "# apply function\n",
    "\n",
    "full_df_clean <- euclidean.dist(full_df_clean)"
   ]
  },
  {
   "cell_type": "code",
   "execution_count": 24,
   "id": "aef11ea1",
   "metadata": {},
   "outputs": [
    {
     "data": {
      "text/html": [
       "<table>\n",
       "<thead><tr><th scope=col>ride_id</th><th scope=col>rideable_type</th><th scope=col>started_at</th><th scope=col>ended_at</th><th scope=col>start_station_name</th><th scope=col>start_station_id</th><th scope=col>end_station_name</th><th scope=col>end_station_id</th><th scope=col>start_lat</th><th scope=col>start_lng</th><th scope=col>...</th><th scope=col>member_type</th><th scope=col>date</th><th scope=col>month</th><th scope=col>day</th><th scope=col>year</th><th scope=col>day_of_week</th><th scope=col>start_hour</th><th scope=col>year_month</th><th scope=col>ride_duration_mins</th><th scope=col>distance_km</th></tr></thead>\n",
       "<tbody>\n",
       "\t<tr><td>A847FADBBC638E45                                                           </td><td>docked_bike                                                                </td><td>2020-04-26 17:45:14                                                        </td><td>2020-04-26 18:12:03                                                        </td><td><span style=white-space:pre-wrap>Eckhart Park                       </span></td><td>86                                                                         </td><td>Lincoln Ave &amp; Diversey Pkwy                                            </td><td>152                                                                        </td><td>41.8964                                                                    </td><td>-87.6610                                                                   </td><td>...                                                                        </td><td>member                                                                     </td><td>2020-04-26                                                                 </td><td>04                                                                         </td><td>26                                                                         </td><td>2020                                                                       </td><td><span style=white-space:pre-wrap>Sunday   </span>                          </td><td>17                                                                         </td><td>2020 - 04                                                                  </td><td>26.81667                                                                   </td><td>3.9901987                                                                  </td></tr>\n",
       "\t<tr><td>5405B80E996FF60D                                                               </td><td>docked_bike                                                                    </td><td>2020-04-17 17:08:54                                                            </td><td>2020-04-17 17:17:03                                                            </td><td><span style=white-space:pre-wrap>Drake Ave &amp; Fullerton Ave          </span></td><td>503                                                                            </td><td><span style=white-space:pre-wrap>Kosciuszko Park            </span>            </td><td>499                                                                            </td><td>41.9244                                                                        </td><td>-87.7154                                                                       </td><td>...                                                                            </td><td>member                                                                         </td><td>2020-04-17                                                                     </td><td>04                                                                             </td><td>17                                                                             </td><td>2020                                                                           </td><td><span style=white-space:pre-wrap>Friday   </span>                              </td><td>17                                                                             </td><td>2020 - 04                                                                      </td><td> 8.15000                                                                       </td><td>0.9799703                                                                      </td></tr>\n",
       "\t<tr><td>5DD24A79A4E006F4                                                               </td><td>docked_bike                                                                    </td><td>2020-04-01 17:54:13                                                            </td><td>2020-04-01 18:08:36                                                            </td><td><span style=white-space:pre-wrap>McClurg Ct &amp; Erie St               </span></td><td>142                                                                            </td><td>Indiana Ave &amp; Roosevelt Rd                                                 </td><td>255                                                                            </td><td>41.8945                                                                        </td><td>-87.6179                                                                       </td><td>...                                                                            </td><td>member                                                                         </td><td>2020-04-01                                                                     </td><td>04                                                                             </td><td>01                                                                             </td><td>2020                                                                           </td><td>Wednesday                                                                      </td><td>17                                                                             </td><td>2020 - 04                                                                      </td><td>14.38333                                                                       </td><td>2.9911193                                                                      </td></tr>\n",
       "\t<tr><td>2A59BBDF5CDBA725                                                               </td><td>docked_bike                                                                    </td><td>2020-04-07 12:50:19                                                            </td><td>2020-04-07 13:02:31                                                            </td><td><span style=white-space:pre-wrap>California Ave &amp; Division St       </span></td><td>216                                                                            </td><td><span style=white-space:pre-wrap>Wood St &amp; Augusta Blvd     </span>        </td><td>657                                                                            </td><td>41.9030                                                                        </td><td>-87.6975                                                                       </td><td>...                                                                            </td><td>member                                                                         </td><td>2020-04-07                                                                     </td><td>04                                                                             </td><td>07                                                                             </td><td>2020                                                                           </td><td><span style=white-space:pre-wrap>Tuesday  </span>                              </td><td>12                                                                             </td><td>2020 - 04                                                                      </td><td>12.20000                                                                       </td><td>2.1384887                                                                      </td></tr>\n",
       "\t<tr><td>27AD306C119C6158                                                               </td><td>docked_bike                                                                    </td><td>2020-04-18 10:22:59                                                            </td><td>2020-04-18 11:15:54                                                            </td><td><span style=white-space:pre-wrap>Rush St &amp; Hubbard St               </span></td><td>125                                                                            </td><td>Sheridan Rd &amp; Lawrence Ave                                                 </td><td>323                                                                            </td><td>41.8902                                                                        </td><td>-87.6262                                                                       </td><td>...                                                                            </td><td>casual                                                                         </td><td>2020-04-18                                                                     </td><td>04                                                                             </td><td>18                                                                             </td><td>2020                                                                           </td><td>Saturday                                                                       </td><td>10                                                                             </td><td>2020 - 04                                                                      </td><td>52.91667                                                                       </td><td>9.1377451                                                                      </td></tr>\n",
       "\t<tr><td>356216E875132F61                                                       </td><td>docked_bike                                                            </td><td>2020-04-30 17:55:47                                                    </td><td>2020-04-30 18:01:11                                                    </td><td>Mies van der Rohe Way &amp; Chicago Ave                                </td><td>173                                                                    </td><td><span style=white-space:pre-wrap>Streeter Dr &amp; Grand Ave    </span></td><td>35                                                                     </td><td>41.8969                                                                </td><td>-87.6217                                                               </td><td>...                                                                    </td><td>member                                                                 </td><td>2020-04-30                                                             </td><td>04                                                                     </td><td>30                                                                     </td><td>2020                                                                   </td><td>Thursday                                                               </td><td>17                                                                     </td><td>2020 - 04                                                              </td><td> 5.40000                                                               </td><td>0.9530329                                                              </td></tr>\n",
       "</tbody>\n",
       "</table>\n"
      ],
      "text/latex": [
       "\\begin{tabular}{r|llllllllllllllllllllll}\n",
       " ride\\_id & rideable\\_type & started\\_at & ended\\_at & start\\_station\\_name & start\\_station\\_id & end\\_station\\_name & end\\_station\\_id & start\\_lat & start\\_lng & ... & member\\_type & date & month & day & year & day\\_of\\_week & start\\_hour & year\\_month & ride\\_duration\\_mins & distance\\_km\\\\\n",
       "\\hline\n",
       "\t A847FADBBC638E45                    & docked\\_bike                       & 2020-04-26 17:45:14                 & 2020-04-26 18:12:03                 & Eckhart Park                        & 86                                  & Lincoln Ave \\& Diversey Pkwy       & 152                                 & 41.8964                             & -87.6610                            & ...                                 & member                              & 2020-04-26                          & 04                                  & 26                                  & 2020                                & Sunday                              & 17                                  & 2020 - 04                           & 26.81667                            & 3.9901987                          \\\\\n",
       "\t 5405B80E996FF60D                      & docked\\_bike                         & 2020-04-17 17:08:54                   & 2020-04-17 17:17:03                   & Drake Ave \\& Fullerton Ave           & 503                                   & Kosciuszko Park                       & 499                                   & 41.9244                               & -87.7154                              & ...                                   & member                                & 2020-04-17                            & 04                                    & 17                                    & 2020                                  & Friday                                & 17                                    & 2020 - 04                             &  8.15000                              & 0.9799703                            \\\\\n",
       "\t 5DD24A79A4E006F4                      & docked\\_bike                         & 2020-04-01 17:54:13                   & 2020-04-01 18:08:36                   & McClurg Ct \\& Erie St                & 142                                   & Indiana Ave \\& Roosevelt Rd          & 255                                   & 41.8945                               & -87.6179                              & ...                                   & member                                & 2020-04-01                            & 04                                    & 01                                    & 2020                                  & Wednesday                             & 17                                    & 2020 - 04                             & 14.38333                              & 2.9911193                            \\\\\n",
       "\t 2A59BBDF5CDBA725                      & docked\\_bike                         & 2020-04-07 12:50:19                   & 2020-04-07 13:02:31                   & California Ave \\& Division St        & 216                                   & Wood St \\& Augusta Blvd              & 657                                   & 41.9030                               & -87.6975                              & ...                                   & member                                & 2020-04-07                            & 04                                    & 07                                    & 2020                                  & Tuesday                               & 12                                    & 2020 - 04                             & 12.20000                              & 2.1384887                            \\\\\n",
       "\t 27AD306C119C6158                      & docked\\_bike                         & 2020-04-18 10:22:59                   & 2020-04-18 11:15:54                   & Rush St \\& Hubbard St                & 125                                   & Sheridan Rd \\& Lawrence Ave          & 323                                   & 41.8902                               & -87.6262                              & ...                                   & casual                                & 2020-04-18                            & 04                                    & 18                                    & 2020                                  & Saturday                              & 10                                    & 2020 - 04                             & 52.91667                              & 9.1377451                            \\\\\n",
       "\t 356216E875132F61                      & docked\\_bike                         & 2020-04-30 17:55:47                   & 2020-04-30 18:01:11                   & Mies van der Rohe Way \\& Chicago Ave & 173                                   & Streeter Dr \\& Grand Ave             & 35                                    & 41.8969                               & -87.6217                              & ...                                   & member                                & 2020-04-30                            & 04                                    & 30                                    & 2020                                  & Thursday                              & 17                                    & 2020 - 04                             &  5.40000                              & 0.9530329                            \\\\\n",
       "\\end{tabular}\n"
      ],
      "text/markdown": [
       "\n",
       "| ride_id | rideable_type | started_at | ended_at | start_station_name | start_station_id | end_station_name | end_station_id | start_lat | start_lng | ... | member_type | date | month | day | year | day_of_week | start_hour | year_month | ride_duration_mins | distance_km |\n",
       "|---|---|---|---|---|---|---|---|---|---|---|---|---|---|---|---|---|---|---|---|---|\n",
       "| A847FADBBC638E45                    | docked_bike                         | 2020-04-26 17:45:14                 | 2020-04-26 18:12:03                 | Eckhart Park                        | 86                                  | Lincoln Ave & Diversey Pkwy         | 152                                 | 41.8964                             | -87.6610                            | ...                                 | member                              | 2020-04-26                          | 04                                  | 26                                  | 2020                                | Sunday                              | 17                                  | 2020 - 04                           | 26.81667                            | 3.9901987                           |\n",
       "| 5405B80E996FF60D                    | docked_bike                         | 2020-04-17 17:08:54                 | 2020-04-17 17:17:03                 | Drake Ave & Fullerton Ave           | 503                                 | Kosciuszko Park                     | 499                                 | 41.9244                             | -87.7154                            | ...                                 | member                              | 2020-04-17                          | 04                                  | 17                                  | 2020                                | Friday                              | 17                                  | 2020 - 04                           |  8.15000                            | 0.9799703                           |\n",
       "| 5DD24A79A4E006F4                    | docked_bike                         | 2020-04-01 17:54:13                 | 2020-04-01 18:08:36                 | McClurg Ct & Erie St                | 142                                 | Indiana Ave & Roosevelt Rd          | 255                                 | 41.8945                             | -87.6179                            | ...                                 | member                              | 2020-04-01                          | 04                                  | 01                                  | 2020                                | Wednesday                           | 17                                  | 2020 - 04                           | 14.38333                            | 2.9911193                           |\n",
       "| 2A59BBDF5CDBA725                    | docked_bike                         | 2020-04-07 12:50:19                 | 2020-04-07 13:02:31                 | California Ave & Division St        | 216                                 | Wood St & Augusta Blvd              | 657                                 | 41.9030                             | -87.6975                            | ...                                 | member                              | 2020-04-07                          | 04                                  | 07                                  | 2020                                | Tuesday                             | 12                                  | 2020 - 04                           | 12.20000                            | 2.1384887                           |\n",
       "| 27AD306C119C6158                    | docked_bike                         | 2020-04-18 10:22:59                 | 2020-04-18 11:15:54                 | Rush St & Hubbard St                | 125                                 | Sheridan Rd & Lawrence Ave          | 323                                 | 41.8902                             | -87.6262                            | ...                                 | casual                              | 2020-04-18                          | 04                                  | 18                                  | 2020                                | Saturday                            | 10                                  | 2020 - 04                           | 52.91667                            | 9.1377451                           |\n",
       "| 356216E875132F61                    | docked_bike                         | 2020-04-30 17:55:47                 | 2020-04-30 18:01:11                 | Mies van der Rohe Way & Chicago Ave | 173                                 | Streeter Dr & Grand Ave             | 35                                  | 41.8969                             | -87.6217                            | ...                                 | member                              | 2020-04-30                          | 04                                  | 30                                  | 2020                                | Thursday                            | 17                                  | 2020 - 04                           |  5.40000                            | 0.9530329                           |\n",
       "\n"
      ],
      "text/plain": [
       "  ride_id          rideable_type started_at          ended_at           \n",
       "1 A847FADBBC638E45 docked_bike   2020-04-26 17:45:14 2020-04-26 18:12:03\n",
       "2 5405B80E996FF60D docked_bike   2020-04-17 17:08:54 2020-04-17 17:17:03\n",
       "3 5DD24A79A4E006F4 docked_bike   2020-04-01 17:54:13 2020-04-01 18:08:36\n",
       "4 2A59BBDF5CDBA725 docked_bike   2020-04-07 12:50:19 2020-04-07 13:02:31\n",
       "5 27AD306C119C6158 docked_bike   2020-04-18 10:22:59 2020-04-18 11:15:54\n",
       "6 356216E875132F61 docked_bike   2020-04-30 17:55:47 2020-04-30 18:01:11\n",
       "  start_station_name                  start_station_id\n",
       "1 Eckhart Park                        86              \n",
       "2 Drake Ave & Fullerton Ave           503             \n",
       "3 McClurg Ct & Erie St                142             \n",
       "4 California Ave & Division St        216             \n",
       "5 Rush St & Hubbard St                125             \n",
       "6 Mies van der Rohe Way & Chicago Ave 173             \n",
       "  end_station_name            end_station_id start_lat start_lng ...\n",
       "1 Lincoln Ave & Diversey Pkwy 152            41.8964   -87.6610  ...\n",
       "2 Kosciuszko Park             499            41.9244   -87.7154  ...\n",
       "3 Indiana Ave & Roosevelt Rd  255            41.8945   -87.6179  ...\n",
       "4 Wood St & Augusta Blvd      657            41.9030   -87.6975  ...\n",
       "5 Sheridan Rd & Lawrence Ave  323            41.8902   -87.6262  ...\n",
       "6 Streeter Dr & Grand Ave     35             41.8969   -87.6217  ...\n",
       "  member_type date       month day year day_of_week start_hour year_month\n",
       "1 member      2020-04-26 04    26  2020 Sunday      17         2020 - 04 \n",
       "2 member      2020-04-17 04    17  2020 Friday      17         2020 - 04 \n",
       "3 member      2020-04-01 04    01  2020 Wednesday   17         2020 - 04 \n",
       "4 member      2020-04-07 04    07  2020 Tuesday     12         2020 - 04 \n",
       "5 casual      2020-04-18 04    18  2020 Saturday    10         2020 - 04 \n",
       "6 member      2020-04-30 04    30  2020 Thursday    17         2020 - 04 \n",
       "  ride_duration_mins distance_km\n",
       "1 26.81667           3.9901987  \n",
       "2  8.15000           0.9799703  \n",
       "3 14.38333           2.9911193  \n",
       "4 12.20000           2.1384887  \n",
       "5 52.91667           9.1377451  \n",
       "6  5.40000           0.9530329  "
      ]
     },
     "metadata": {},
     "output_type": "display_data"
    }
   ],
   "source": [
    "head(full_df_clean)"
   ]
  },
  {
   "cell_type": "code",
   "execution_count": null,
   "id": "897f1045",
   "metadata": {},
   "outputs": [],
   "source": [
    "# save our clean dataframe\n",
    "\n",
    "full_df_clean %>%\n",
    "    write.csv('full_df_clean.csv')"
   ]
  },
  {
   "cell_type": "markdown",
   "id": "f4d97123",
   "metadata": {},
   "source": [
    "### Analyse Data"
   ]
  },
  {
   "cell_type": "code",
   "execution_count": 25,
   "id": "0751160d",
   "metadata": {},
   "outputs": [],
   "source": [
    "# function to allow easy resizing of plots\n",
    "\n",
    "fig <- function(width, heigth){options(repr.plot.width = width, repr.plot.height = heigth)}"
   ]
  },
  {
   "cell_type": "code",
   "execution_count": 26,
   "id": "419681b4",
   "metadata": {},
   "outputs": [
    {
     "data": {
      "text/html": [
       "<table>\n",
       "<thead><tr><th scope=col>member_type</th><th scope=col>total_rides</th><th scope=col>perc_of_total</th></tr></thead>\n",
       "<tbody>\n",
       "\t<tr><td>casual  </td><td>1366517 </td><td>40.86854</td></tr>\n",
       "\t<tr><td>member  </td><td>1977172 </td><td>59.13146</td></tr>\n",
       "</tbody>\n",
       "</table>\n"
      ],
      "text/latex": [
       "\\begin{tabular}{r|lll}\n",
       " member\\_type & total\\_rides & perc\\_of\\_total\\\\\n",
       "\\hline\n",
       "\t casual   & 1366517  & 40.86854\\\\\n",
       "\t member   & 1977172  & 59.13146\\\\\n",
       "\\end{tabular}\n"
      ],
      "text/markdown": [
       "\n",
       "| member_type | total_rides | perc_of_total |\n",
       "|---|---|---|\n",
       "| casual   | 1366517  | 40.86854 |\n",
       "| member   | 1977172  | 59.13146 |\n",
       "\n"
      ],
      "text/plain": [
       "  member_type total_rides perc_of_total\n",
       "1 casual      1366517     40.86854     \n",
       "2 member      1977172     59.13146     "
      ]
     },
     "metadata": {},
     "output_type": "display_data"
    }
   ],
   "source": [
    "# number of rides by casual vs member riders\n",
    "\n",
    "full_df_clean %>% \n",
    "    group_by(member_type) %>% \n",
    "    summarise(total_rides = length(ride_id),\n",
    "              'perc_of_total' = (length(ride_id) / nrow(full_df_clean)) * 100)"
   ]
  },
  {
   "cell_type": "markdown",
   "id": "78ec341b",
   "metadata": {},
   "source": [
    "Rides by members account for approximately 59% of the dataset for the 12-months period."
   ]
  },
  {
   "cell_type": "code",
   "execution_count": 27,
   "id": "bd9b5f4b",
   "metadata": {},
   "outputs": [],
   "source": [
    "# function to calculate total rides based on selected variable\n",
    "\n",
    "total_rides <- function(df, var)\n",
    "{\n",
    "var = enquo(arg = var)\n",
    "new_df <- df %>%\n",
    "    group_by(member_type, !!var) %>% \n",
    "    summarise(total_rides = length(ride_id),\n",
    "              'perc_of_total' = (length(ride_id) / nrow(df)) * 100)\n",
    "new_df\n",
    "}"
   ]
  },
  {
   "cell_type": "code",
   "execution_count": 28,
   "id": "ddae5244",
   "metadata": {},
   "outputs": [],
   "source": [
    "# function to calculate percentage difference of total rides based on selected variable\n",
    "\n",
    "rides_perc_diff <- function(df, var)\n",
    "{\n",
    "var = enquo(arg = var)\n",
    "new_df <- df %>%\n",
    "    group_by(!!var) %>%\n",
    "    summarise(total_rides = length(ride_id),\n",
    "              'perc_of_total' = (length(ride_id) / nrow(full_df_clean)) * 100,\n",
    "              'member_riders_perc' = (sum(member_type == 'member') / length(ride_id)) * 100,\n",
    "              'casual_riders_perc' = (sum(member_type == 'casual') / length(ride_id)) * 100,\n",
    "              'relative_diff_perc' = ((member_riders_perc - casual_riders_perc) / member_riders_perc) * 100)\n",
    "new_df\n",
    "}"
   ]
  },
  {
   "cell_type": "code",
   "execution_count": 29,
   "id": "f9654832",
   "metadata": {},
   "outputs": [
    {
     "data": {
      "text/html": [
       "<table>\n",
       "<thead><tr><th scope=col>member_type</th><th scope=col>year_month</th><th scope=col>total_rides</th><th scope=col>perc_of_total</th></tr></thead>\n",
       "<tbody>\n",
       "\t<tr><td>casual   </td><td>2021 - 03</td><td> 83918   </td><td>2.5097430</td></tr>\n",
       "\t<tr><td>member   </td><td>2021 - 03</td><td>144399   </td><td>4.3185535</td></tr>\n",
       "\t<tr><td>casual   </td><td>2021 - 02</td><td> 10072   </td><td>0.3012242</td></tr>\n",
       "\t<tr><td>member   </td><td>2021 - 02</td><td> 39332   </td><td>1.1763056</td></tr>\n",
       "\t<tr><td>casual   </td><td>2021 - 01</td><td> 18095   </td><td>0.5411688</td></tr>\n",
       "\t<tr><td>member   </td><td>2021 - 01</td><td> 78631   </td><td>2.3516242</td></tr>\n",
       "\t<tr><td>casual   </td><td>2020 - 12</td><td> 29960   </td><td>0.8960163</td></tr>\n",
       "\t<tr><td>member   </td><td>2020 - 12</td><td>101062   </td><td>3.0224701</td></tr>\n",
       "\t<tr><td>casual   </td><td>2020 - 11</td><td> 72847   </td><td>2.1786416</td></tr>\n",
       "\t<tr><td>member   </td><td>2020 - 11</td><td>149069   </td><td>4.4582196</td></tr>\n",
       "\t<tr><td>casual   </td><td>2020 - 10</td><td>122317   </td><td>3.6581452</td></tr>\n",
       "\t<tr><td>member   </td><td>2020 - 10</td><td>215058   </td><td>6.4317585</td></tr>\n",
       "\t<tr><td>casual   </td><td>2020 - 09</td><td>214672   </td><td>6.4202143</td></tr>\n",
       "\t<tr><td>member   </td><td>2020 - 09</td><td>283556   </td><td>8.4803341</td></tr>\n",
       "\t<tr><td>casual   </td><td>2020 - 08</td><td>281945   </td><td>8.4321538</td></tr>\n",
       "\t<tr><td>member   </td><td>2020 - 08</td><td>323707   </td><td>9.6811336</td></tr>\n",
       "\t<tr><td>casual   </td><td>2020 - 07</td><td>268103   </td><td>8.0181799</td></tr>\n",
       "\t<tr><td>member   </td><td>2020 - 07</td><td>280514   </td><td>8.3893568</td></tr>\n",
       "\t<tr><td>casual   </td><td>2020 - 06</td><td>154329   </td><td>4.6155309</td></tr>\n",
       "\t<tr><td>member   </td><td>2020 - 06</td><td>187711   </td><td>5.6138893</td></tr>\n",
       "\t<tr><td>casual   </td><td>2020 - 05</td><td> 86693   </td><td>2.5927351</td></tr>\n",
       "\t<tr><td>member   </td><td>2020 - 05</td><td>113079   </td><td>3.3818636</td></tr>\n",
       "\t<tr><td>casual   </td><td>2020 - 04</td><td> 23566   </td><td>0.7047904</td></tr>\n",
       "\t<tr><td>member   </td><td>2020 - 04</td><td> 61054   </td><td>1.8259473</td></tr>\n",
       "</tbody>\n",
       "</table>\n"
      ],
      "text/latex": [
       "\\begin{tabular}{r|llll}\n",
       " member\\_type & year\\_month & total\\_rides & perc\\_of\\_total\\\\\n",
       "\\hline\n",
       "\t casual    & 2021 - 03 &  83918    & 2.5097430\\\\\n",
       "\t member    & 2021 - 03 & 144399    & 4.3185535\\\\\n",
       "\t casual    & 2021 - 02 &  10072    & 0.3012242\\\\\n",
       "\t member    & 2021 - 02 &  39332    & 1.1763056\\\\\n",
       "\t casual    & 2021 - 01 &  18095    & 0.5411688\\\\\n",
       "\t member    & 2021 - 01 &  78631    & 2.3516242\\\\\n",
       "\t casual    & 2020 - 12 &  29960    & 0.8960163\\\\\n",
       "\t member    & 2020 - 12 & 101062    & 3.0224701\\\\\n",
       "\t casual    & 2020 - 11 &  72847    & 2.1786416\\\\\n",
       "\t member    & 2020 - 11 & 149069    & 4.4582196\\\\\n",
       "\t casual    & 2020 - 10 & 122317    & 3.6581452\\\\\n",
       "\t member    & 2020 - 10 & 215058    & 6.4317585\\\\\n",
       "\t casual    & 2020 - 09 & 214672    & 6.4202143\\\\\n",
       "\t member    & 2020 - 09 & 283556    & 8.4803341\\\\\n",
       "\t casual    & 2020 - 08 & 281945    & 8.4321538\\\\\n",
       "\t member    & 2020 - 08 & 323707    & 9.6811336\\\\\n",
       "\t casual    & 2020 - 07 & 268103    & 8.0181799\\\\\n",
       "\t member    & 2020 - 07 & 280514    & 8.3893568\\\\\n",
       "\t casual    & 2020 - 06 & 154329    & 4.6155309\\\\\n",
       "\t member    & 2020 - 06 & 187711    & 5.6138893\\\\\n",
       "\t casual    & 2020 - 05 &  86693    & 2.5927351\\\\\n",
       "\t member    & 2020 - 05 & 113079    & 3.3818636\\\\\n",
       "\t casual    & 2020 - 04 &  23566    & 0.7047904\\\\\n",
       "\t member    & 2020 - 04 &  61054    & 1.8259473\\\\\n",
       "\\end{tabular}\n"
      ],
      "text/markdown": [
       "\n",
       "| member_type | year_month | total_rides | perc_of_total |\n",
       "|---|---|---|---|\n",
       "| casual    | 2021 - 03 |  83918    | 2.5097430 |\n",
       "| member    | 2021 - 03 | 144399    | 4.3185535 |\n",
       "| casual    | 2021 - 02 |  10072    | 0.3012242 |\n",
       "| member    | 2021 - 02 |  39332    | 1.1763056 |\n",
       "| casual    | 2021 - 01 |  18095    | 0.5411688 |\n",
       "| member    | 2021 - 01 |  78631    | 2.3516242 |\n",
       "| casual    | 2020 - 12 |  29960    | 0.8960163 |\n",
       "| member    | 2020 - 12 | 101062    | 3.0224701 |\n",
       "| casual    | 2020 - 11 |  72847    | 2.1786416 |\n",
       "| member    | 2020 - 11 | 149069    | 4.4582196 |\n",
       "| casual    | 2020 - 10 | 122317    | 3.6581452 |\n",
       "| member    | 2020 - 10 | 215058    | 6.4317585 |\n",
       "| casual    | 2020 - 09 | 214672    | 6.4202143 |\n",
       "| member    | 2020 - 09 | 283556    | 8.4803341 |\n",
       "| casual    | 2020 - 08 | 281945    | 8.4321538 |\n",
       "| member    | 2020 - 08 | 323707    | 9.6811336 |\n",
       "| casual    | 2020 - 07 | 268103    | 8.0181799 |\n",
       "| member    | 2020 - 07 | 280514    | 8.3893568 |\n",
       "| casual    | 2020 - 06 | 154329    | 4.6155309 |\n",
       "| member    | 2020 - 06 | 187711    | 5.6138893 |\n",
       "| casual    | 2020 - 05 |  86693    | 2.5927351 |\n",
       "| member    | 2020 - 05 | 113079    | 3.3818636 |\n",
       "| casual    | 2020 - 04 |  23566    | 0.7047904 |\n",
       "| member    | 2020 - 04 |  61054    | 1.8259473 |\n",
       "\n"
      ],
      "text/plain": [
       "   member_type year_month total_rides perc_of_total\n",
       "1  casual      2021 - 03   83918      2.5097430    \n",
       "2  member      2021 - 03  144399      4.3185535    \n",
       "3  casual      2021 - 02   10072      0.3012242    \n",
       "4  member      2021 - 02   39332      1.1763056    \n",
       "5  casual      2021 - 01   18095      0.5411688    \n",
       "6  member      2021 - 01   78631      2.3516242    \n",
       "7  casual      2020 - 12   29960      0.8960163    \n",
       "8  member      2020 - 12  101062      3.0224701    \n",
       "9  casual      2020 - 11   72847      2.1786416    \n",
       "10 member      2020 - 11  149069      4.4582196    \n",
       "11 casual      2020 - 10  122317      3.6581452    \n",
       "12 member      2020 - 10  215058      6.4317585    \n",
       "13 casual      2020 - 09  214672      6.4202143    \n",
       "14 member      2020 - 09  283556      8.4803341    \n",
       "15 casual      2020 - 08  281945      8.4321538    \n",
       "16 member      2020 - 08  323707      9.6811336    \n",
       "17 casual      2020 - 07  268103      8.0181799    \n",
       "18 member      2020 - 07  280514      8.3893568    \n",
       "19 casual      2020 - 06  154329      4.6155309    \n",
       "20 member      2020 - 06  187711      5.6138893    \n",
       "21 casual      2020 - 05   86693      2.5927351    \n",
       "22 member      2020 - 05  113079      3.3818636    \n",
       "23 casual      2020 - 04   23566      0.7047904    \n",
       "24 member      2020 - 04   61054      1.8259473    "
      ]
     },
     "metadata": {},
     "output_type": "display_data"
    }
   ],
   "source": [
    "# number of rides per month\n",
    "\n",
    "rides_per_month <- total_rides(df = full_df_clean, var = year_month)\n",
    "rides_per_month[order(rides_per_month$year_month, decreasing = TRUE),]"
   ]
  },
  {
   "cell_type": "code",
   "execution_count": 30,
   "id": "2b1ff6a2",
   "metadata": {},
   "outputs": [
    {
     "data": {
      "text/html": [
       "<table>\n",
       "<thead><tr><th scope=col>year_month</th><th scope=col>total_rides</th><th scope=col>perc_of_total</th><th scope=col>member_riders_perc</th><th scope=col>casual_riders_perc</th><th scope=col>relative_diff_perc</th></tr></thead>\n",
       "<tbody>\n",
       "\t<tr><td>2021 - 03</td><td>228317   </td><td> 6.828297</td><td>63.24496 </td><td>36.75504 </td><td>41.884639</td></tr>\n",
       "\t<tr><td>2021 - 02</td><td> 49404   </td><td> 1.477530</td><td>79.61299 </td><td>20.38701 </td><td>74.392352</td></tr>\n",
       "\t<tr><td>2021 - 01</td><td> 96726   </td><td> 2.892793</td><td>81.29252 </td><td>18.70748 </td><td>76.987448</td></tr>\n",
       "\t<tr><td>2020 - 12</td><td>131022   </td><td> 3.918486</td><td>77.13361 </td><td>22.86639 </td><td>70.354832</td></tr>\n",
       "\t<tr><td>2020 - 11</td><td>221916   </td><td> 6.636861</td><td>67.17362 </td><td>32.82638 </td><td>51.132026</td></tr>\n",
       "\t<tr><td>2020 - 10</td><td>337375   </td><td>10.089904</td><td>63.74450 </td><td>36.25550 </td><td>43.123715</td></tr>\n",
       "\t<tr><td>2020 - 09</td><td>498228   </td><td>14.900548</td><td>56.91290 </td><td>43.08710 </td><td>24.292909</td></tr>\n",
       "\t<tr><td>2020 - 08</td><td>605652   </td><td>18.113287</td><td>53.44769 </td><td>46.55231 </td><td>12.901173</td></tr>\n",
       "\t<tr><td>2020 - 07</td><td>548617   </td><td>16.407537</td><td>51.13112 </td><td>48.86888 </td><td> 4.424378</td></tr>\n",
       "\t<tr><td>2020 - 06</td><td>342040   </td><td>10.229420</td><td>54.87984 </td><td>45.12016 </td><td>17.783721</td></tr>\n",
       "\t<tr><td>2020 - 05</td><td>199772   </td><td> 5.974599</td><td>56.60403 </td><td>43.39597 </td><td>23.334129</td></tr>\n",
       "\t<tr><td>2020 - 04</td><td> 84620   </td><td> 2.530738</td><td>72.15079 </td><td>27.84921 </td><td>61.401382</td></tr>\n",
       "</tbody>\n",
       "</table>\n"
      ],
      "text/latex": [
       "\\begin{tabular}{r|llllll}\n",
       " year\\_month & total\\_rides & perc\\_of\\_total & member\\_riders\\_perc & casual\\_riders\\_perc & relative\\_diff\\_perc\\\\\n",
       "\\hline\n",
       "\t 2021 - 03 & 228317    &  6.828297 & 63.24496  & 36.75504  & 41.884639\\\\\n",
       "\t 2021 - 02 &  49404    &  1.477530 & 79.61299  & 20.38701  & 74.392352\\\\\n",
       "\t 2021 - 01 &  96726    &  2.892793 & 81.29252  & 18.70748  & 76.987448\\\\\n",
       "\t 2020 - 12 & 131022    &  3.918486 & 77.13361  & 22.86639  & 70.354832\\\\\n",
       "\t 2020 - 11 & 221916    &  6.636861 & 67.17362  & 32.82638  & 51.132026\\\\\n",
       "\t 2020 - 10 & 337375    & 10.089904 & 63.74450  & 36.25550  & 43.123715\\\\\n",
       "\t 2020 - 09 & 498228    & 14.900548 & 56.91290  & 43.08710  & 24.292909\\\\\n",
       "\t 2020 - 08 & 605652    & 18.113287 & 53.44769  & 46.55231  & 12.901173\\\\\n",
       "\t 2020 - 07 & 548617    & 16.407537 & 51.13112  & 48.86888  &  4.424378\\\\\n",
       "\t 2020 - 06 & 342040    & 10.229420 & 54.87984  & 45.12016  & 17.783721\\\\\n",
       "\t 2020 - 05 & 199772    &  5.974599 & 56.60403  & 43.39597  & 23.334129\\\\\n",
       "\t 2020 - 04 &  84620    &  2.530738 & 72.15079  & 27.84921  & 61.401382\\\\\n",
       "\\end{tabular}\n"
      ],
      "text/markdown": [
       "\n",
       "| year_month | total_rides | perc_of_total | member_riders_perc | casual_riders_perc | relative_diff_perc |\n",
       "|---|---|---|---|---|---|\n",
       "| 2021 - 03 | 228317    |  6.828297 | 63.24496  | 36.75504  | 41.884639 |\n",
       "| 2021 - 02 |  49404    |  1.477530 | 79.61299  | 20.38701  | 74.392352 |\n",
       "| 2021 - 01 |  96726    |  2.892793 | 81.29252  | 18.70748  | 76.987448 |\n",
       "| 2020 - 12 | 131022    |  3.918486 | 77.13361  | 22.86639  | 70.354832 |\n",
       "| 2020 - 11 | 221916    |  6.636861 | 67.17362  | 32.82638  | 51.132026 |\n",
       "| 2020 - 10 | 337375    | 10.089904 | 63.74450  | 36.25550  | 43.123715 |\n",
       "| 2020 - 09 | 498228    | 14.900548 | 56.91290  | 43.08710  | 24.292909 |\n",
       "| 2020 - 08 | 605652    | 18.113287 | 53.44769  | 46.55231  | 12.901173 |\n",
       "| 2020 - 07 | 548617    | 16.407537 | 51.13112  | 48.86888  |  4.424378 |\n",
       "| 2020 - 06 | 342040    | 10.229420 | 54.87984  | 45.12016  | 17.783721 |\n",
       "| 2020 - 05 | 199772    |  5.974599 | 56.60403  | 43.39597  | 23.334129 |\n",
       "| 2020 - 04 |  84620    |  2.530738 | 72.15079  | 27.84921  | 61.401382 |\n",
       "\n"
      ],
      "text/plain": [
       "   year_month total_rides perc_of_total member_riders_perc casual_riders_perc\n",
       "1  2021 - 03  228317       6.828297     63.24496           36.75504          \n",
       "2  2021 - 02   49404       1.477530     79.61299           20.38701          \n",
       "3  2021 - 01   96726       2.892793     81.29252           18.70748          \n",
       "4  2020 - 12  131022       3.918486     77.13361           22.86639          \n",
       "5  2020 - 11  221916       6.636861     67.17362           32.82638          \n",
       "6  2020 - 10  337375      10.089904     63.74450           36.25550          \n",
       "7  2020 - 09  498228      14.900548     56.91290           43.08710          \n",
       "8  2020 - 08  605652      18.113287     53.44769           46.55231          \n",
       "9  2020 - 07  548617      16.407537     51.13112           48.86888          \n",
       "10 2020 - 06  342040      10.229420     54.87984           45.12016          \n",
       "11 2020 - 05  199772       5.974599     56.60403           43.39597          \n",
       "12 2020 - 04   84620       2.530738     72.15079           27.84921          \n",
       "   relative_diff_perc\n",
       "1  41.884639         \n",
       "2  74.392352         \n",
       "3  76.987448         \n",
       "4  70.354832         \n",
       "5  51.132026         \n",
       "6  43.123715         \n",
       "7  24.292909         \n",
       "8  12.901173         \n",
       "9   4.424378         \n",
       "10 17.783721         \n",
       "11 23.334129         \n",
       "12 61.401382         "
      ]
     },
     "metadata": {},
     "output_type": "display_data"
    }
   ],
   "source": [
    "# get % difference between casual riders vs members\n",
    "\n",
    "rides_percent_diff_month <- rides_perc_diff(df = full_df_clean, var = year_month)\n",
    "rides_percent_diff_month[order(rides_percent_diff_month$year_month, decreasing = TRUE),]"
   ]
  },
  {
   "cell_type": "code",
   "execution_count": 31,
   "id": "b89d8a37",
   "metadata": {},
   "outputs": [
    {
     "data": {
      "image/png": "[encoded data removed]",
      "text/plain": [
       "plot without title"
      ]
     },
     "metadata": {},
     "output_type": "display_data"
    }
   ],
   "source": [
    "# plot monthly counts\n",
    "\n",
    "fig(16, 8)\n",
    "\n",
    "full_df_clean %>%\n",
    "    ggplot(aes(year_month, fill = member_type)) +\n",
    "    geom_bar(position = 'dodge') +\n",
    "    labs(x = 'Month', title = 'Total Rides per Month') +\n",
    "    coord_flip() + \n",
    "    theme(plot.title = element_text(size = 22), \n",
    "          axis.text = element_text(size = 14),\n",
    "          axis.title = element_text(size = 16),\n",
    "          axis.title.x = element_blank(),\n",
    "          legend.title = element_text(size = 16),\n",
    "          legend.text = element_text(size = 14))"
   ]
  },
  {
   "cell_type": "markdown",
   "id": "b90640e1",
   "metadata": {
    "papermill": {
     "duration": 0.067221,
     "end_time": "2021-06-04T13:13:24.149065",
     "exception": false,
     "start_time": "2021-06-04T13:13:24.081844",
     "status": "completed"
    },
    "tags": []
   },
   "source": [
    "Some insights gathered from this chart:\n",
    "\n",
    "\n",
    "* Aug-2020 had the most rides, approximately 18.1% of the total rides.\n",
    "* Feb-2021 had the least rides, approximately 1.5% of the total rides.\n",
    "* There were more rides by members for each month during the 12-months period.\n",
    "* Jan-2021 had the largest relative difference between both groups, approximately 77%.\n",
    "* Jul-2020 had the smallest relative difference between both groups, approximately 4.4%.\n",
    "\n",
    "The distribution looks cyclical and seems to follow the seasonal weather. Let's compare it with climate data for Chicago. <br>\n",
    "We will use data from [Climate of Chicago](https://en.wikipedia.org/wiki/Climate_of_Chicago)."
   ]
  },
  {
   "cell_type": "code",
   "execution_count": 32,
   "id": "f7891f2d",
   "metadata": {},
   "outputs": [
    {
     "data": {
      "image/png": "[encoded data removed]",
      "text/plain": [
       "plot without title"
      ]
     },
     "metadata": {},
     "output_type": "display_data"
    }
   ],
   "source": [
    "# store monthly mean temperature of Chicago (C)\n",
    "chicago_mean_temp <- c(-3.2, -1.2, 4.4, 10.5, 16.6, 22.2, 24.8, 23.9, 19.9, 12.9, 5.8, -0.3)\n",
    "\n",
    "# create a 'Month' list\n",
    "month <- c('01 - Jan', '02 - Feb', \n",
    "           '03 - Mar', '04 - Apr', \n",
    "           '05 - May', '06 - Jun', \n",
    "           '07 - Jul', '08 - Aug', \n",
    "           '09 - Sep', '10 - Oct', \n",
    "           '11 - Nov', '12 - Dec')\n",
    "\n",
    "# plot monthly mean temperature of Chicago\n",
    "fig(16, 8)\n",
    "\n",
    "data.frame(month, chicago_mean_temp) %>%\n",
    "    ggplot(aes(x = month, y = chicago_mean_temp)) +\n",
    "    labs(x = 'Month', y = 'Mean temperature (C)', title = 'Mean temperature for Chicago (1991-2020)') +\n",
    "    geom_col() +\n",
    "    theme(plot.title = element_text(size = 22), \n",
    "          axis.text = element_text(size = 14),\n",
    "          axis.title = element_text(size = 16),\n",
    "          axis.title.x = element_blank())"
   ]
  },
  {
   "cell_type": "markdown",
   "id": "3e69a8d4",
   "metadata": {},
   "source": [
    "There appears to be a direct correlation between the temperature and the number of rides. This is possible as harsh winter conditions may be dangerous for cycling. Jun-2020 to Oct-2020 accounts for > 68% of the total rides. The temperatues during these months are more favourable for cycling."
   ]
  },
  {
   "cell_type": "code",
   "execution_count": 33,
   "id": "dffe1415",
   "metadata": {},
   "outputs": [],
   "source": [
    "# create days list for sorting purposes\n",
    "days <- c('Monday', \n",
    "          'Tuesday', \n",
    "          'Wednesday', \n",
    "          'Thursday', \n",
    "          'Friday', \n",
    "          'Saturday', \n",
    "          'Sunday')\n",
    "\n",
    "# sort column 'day_of_week' using the 'days' list\n",
    "full_df_clean$day_of_week <- factor(full_df_clean$day_of_week, levels = days)"
   ]
  },
  {
   "cell_type": "code",
   "execution_count": 34,
   "id": "9544912a",
   "metadata": {},
   "outputs": [
    {
     "data": {
      "text/html": [
       "<table>\n",
       "<thead><tr><th scope=col>member_type</th><th scope=col>day_of_week</th><th scope=col>total_rides</th><th scope=col>perc_of_total</th></tr></thead>\n",
       "<tbody>\n",
       "\t<tr><td>casual   </td><td>Monday   </td><td>144491   </td><td>4.321305 </td></tr>\n",
       "\t<tr><td>member   </td><td>Monday   </td><td>257574   </td><td>7.703288 </td></tr>\n",
       "\t<tr><td>casual   </td><td>Tuesday  </td><td>138738   </td><td>4.149250 </td></tr>\n",
       "\t<tr><td>member   </td><td>Tuesday  </td><td>274525   </td><td>8.210243 </td></tr>\n",
       "\t<tr><td>casual   </td><td>Wednesday</td><td>151017   </td><td>4.516479 </td></tr>\n",
       "\t<tr><td>member   </td><td>Wednesday</td><td>294769   </td><td>8.815682 </td></tr>\n",
       "\t<tr><td>casual   </td><td>Thursday </td><td>158383   </td><td>4.736774 </td></tr>\n",
       "\t<tr><td>member   </td><td>Thursday </td><td>289445   </td><td>8.656457 </td></tr>\n",
       "\t<tr><td>casual   </td><td>Friday   </td><td>198883   </td><td>5.948011 </td></tr>\n",
       "\t<tr><td>member   </td><td>Friday   </td><td>294737   </td><td>8.814725 </td></tr>\n",
       "\t<tr><td>casual   </td><td>Saturday </td><td>322416   </td><td>9.642524 </td></tr>\n",
       "\t<tr><td>member   </td><td>Saturday </td><td>310828   </td><td>9.295960 </td></tr>\n",
       "\t<tr><td>casual   </td><td>Sunday   </td><td>252589   </td><td>7.554201 </td></tr>\n",
       "\t<tr><td>member   </td><td>Sunday   </td><td>255294   </td><td>7.635100 </td></tr>\n",
       "</tbody>\n",
       "</table>\n"
      ],
      "text/latex": [
       "\\begin{tabular}{r|llll}\n",
       " member\\_type & day\\_of\\_week & total\\_rides & perc\\_of\\_total\\\\\n",
       "\\hline\n",
       "\t casual    & Monday    & 144491    & 4.321305 \\\\\n",
       "\t member    & Monday    & 257574    & 7.703288 \\\\\n",
       "\t casual    & Tuesday   & 138738    & 4.149250 \\\\\n",
       "\t member    & Tuesday   & 274525    & 8.210243 \\\\\n",
       "\t casual    & Wednesday & 151017    & 4.516479 \\\\\n",
       "\t member    & Wednesday & 294769    & 8.815682 \\\\\n",
       "\t casual    & Thursday  & 158383    & 4.736774 \\\\\n",
       "\t member    & Thursday  & 289445    & 8.656457 \\\\\n",
       "\t casual    & Friday    & 198883    & 5.948011 \\\\\n",
       "\t member    & Friday    & 294737    & 8.814725 \\\\\n",
       "\t casual    & Saturday  & 322416    & 9.642524 \\\\\n",
       "\t member    & Saturday  & 310828    & 9.295960 \\\\\n",
       "\t casual    & Sunday    & 252589    & 7.554201 \\\\\n",
       "\t member    & Sunday    & 255294    & 7.635100 \\\\\n",
       "\\end{tabular}\n"
      ],
      "text/markdown": [
       "\n",
       "| member_type | day_of_week | total_rides | perc_of_total |\n",
       "|---|---|---|---|\n",
       "| casual    | Monday    | 144491    | 4.321305  |\n",
       "| member    | Monday    | 257574    | 7.703288  |\n",
       "| casual    | Tuesday   | 138738    | 4.149250  |\n",
       "| member    | Tuesday   | 274525    | 8.210243  |\n",
       "| casual    | Wednesday | 151017    | 4.516479  |\n",
       "| member    | Wednesday | 294769    | 8.815682  |\n",
       "| casual    | Thursday  | 158383    | 4.736774  |\n",
       "| member    | Thursday  | 289445    | 8.656457  |\n",
       "| casual    | Friday    | 198883    | 5.948011  |\n",
       "| member    | Friday    | 294737    | 8.814725  |\n",
       "| casual    | Saturday  | 322416    | 9.642524  |\n",
       "| member    | Saturday  | 310828    | 9.295960  |\n",
       "| casual    | Sunday    | 252589    | 7.554201  |\n",
       "| member    | Sunday    | 255294    | 7.635100  |\n",
       "\n"
      ],
      "text/plain": [
       "   member_type day_of_week total_rides perc_of_total\n",
       "1  casual      Monday      144491      4.321305     \n",
       "2  member      Monday      257574      7.703288     \n",
       "3  casual      Tuesday     138738      4.149250     \n",
       "4  member      Tuesday     274525      8.210243     \n",
       "5  casual      Wednesday   151017      4.516479     \n",
       "6  member      Wednesday   294769      8.815682     \n",
       "7  casual      Thursday    158383      4.736774     \n",
       "8  member      Thursday    289445      8.656457     \n",
       "9  casual      Friday      198883      5.948011     \n",
       "10 member      Friday      294737      8.814725     \n",
       "11 casual      Saturday    322416      9.642524     \n",
       "12 member      Saturday    310828      9.295960     \n",
       "13 casual      Sunday      252589      7.554201     \n",
       "14 member      Sunday      255294      7.635100     "
      ]
     },
     "metadata": {},
     "output_type": "display_data"
    }
   ],
   "source": [
    "# total rides by day of week\n",
    "\n",
    "rides_per_DoW <- total_rides(df = full_df_clean, var = day_of_week)\n",
    "rides_per_DoW[order(rides_per_DoW$day_of_week),]"
   ]
  },
  {
   "cell_type": "code",
   "execution_count": 35,
   "id": "72494a48",
   "metadata": {},
   "outputs": [
    {
     "data": {
      "text/html": [
       "<table>\n",
       "<thead><tr><th scope=col>day_of_week</th><th scope=col>total_rides</th><th scope=col>perc_of_total</th><th scope=col>member_riders_perc</th><th scope=col>casual_riders_perc</th><th scope=col>relative_diff_perc</th></tr></thead>\n",
       "<tbody>\n",
       "\t<tr><td>Monday   </td><td>402065   </td><td>12.02459 </td><td>64.06278 </td><td>35.93722 </td><td>43.903111</td></tr>\n",
       "\t<tr><td>Tuesday  </td><td>413263   </td><td>12.35949 </td><td>66.42864 </td><td>33.57136 </td><td>49.462526</td></tr>\n",
       "\t<tr><td>Wednesday</td><td>445786   </td><td>13.33216 </td><td>66.12343 </td><td>33.87657 </td><td>48.767679</td></tr>\n",
       "\t<tr><td>Thursday </td><td>447828   </td><td>13.39323 </td><td>64.63307 </td><td>35.36693 </td><td>45.280451</td></tr>\n",
       "\t<tr><td>Friday   </td><td>493620   </td><td>14.76274 </td><td>59.70929 </td><td>40.29071 </td><td>32.521875</td></tr>\n",
       "\t<tr><td>Saturday </td><td>633244   </td><td>18.93848 </td><td>49.08503 </td><td>50.91497 </td><td>-3.728107</td></tr>\n",
       "\t<tr><td>Sunday   </td><td>507883   </td><td>15.18930 </td><td>50.26630 </td><td>49.73370 </td><td> 1.059563</td></tr>\n",
       "</tbody>\n",
       "</table>\n"
      ],
      "text/latex": [
       "\\begin{tabular}{r|llllll}\n",
       " day\\_of\\_week & total\\_rides & perc\\_of\\_total & member\\_riders\\_perc & casual\\_riders\\_perc & relative\\_diff\\_perc\\\\\n",
       "\\hline\n",
       "\t Monday    & 402065    & 12.02459  & 64.06278  & 35.93722  & 43.903111\\\\\n",
       "\t Tuesday   & 413263    & 12.35949  & 66.42864  & 33.57136  & 49.462526\\\\\n",
       "\t Wednesday & 445786    & 13.33216  & 66.12343  & 33.87657  & 48.767679\\\\\n",
       "\t Thursday  & 447828    & 13.39323  & 64.63307  & 35.36693  & 45.280451\\\\\n",
       "\t Friday    & 493620    & 14.76274  & 59.70929  & 40.29071  & 32.521875\\\\\n",
       "\t Saturday  & 633244    & 18.93848  & 49.08503  & 50.91497  & -3.728107\\\\\n",
       "\t Sunday    & 507883    & 15.18930  & 50.26630  & 49.73370  &  1.059563\\\\\n",
       "\\end{tabular}\n"
      ],
      "text/markdown": [
       "\n",
       "| day_of_week | total_rides | perc_of_total | member_riders_perc | casual_riders_perc | relative_diff_perc |\n",
       "|---|---|---|---|---|---|\n",
       "| Monday    | 402065    | 12.02459  | 64.06278  | 35.93722  | 43.903111 |\n",
       "| Tuesday   | 413263    | 12.35949  | 66.42864  | 33.57136  | 49.462526 |\n",
       "| Wednesday | 445786    | 13.33216  | 66.12343  | 33.87657  | 48.767679 |\n",
       "| Thursday  | 447828    | 13.39323  | 64.63307  | 35.36693  | 45.280451 |\n",
       "| Friday    | 493620    | 14.76274  | 59.70929  | 40.29071  | 32.521875 |\n",
       "| Saturday  | 633244    | 18.93848  | 49.08503  | 50.91497  | -3.728107 |\n",
       "| Sunday    | 507883    | 15.18930  | 50.26630  | 49.73370  |  1.059563 |\n",
       "\n"
      ],
      "text/plain": [
       "  day_of_week total_rides perc_of_total member_riders_perc casual_riders_perc\n",
       "1 Monday      402065      12.02459      64.06278           35.93722          \n",
       "2 Tuesday     413263      12.35949      66.42864           33.57136          \n",
       "3 Wednesday   445786      13.33216      66.12343           33.87657          \n",
       "4 Thursday    447828      13.39323      64.63307           35.36693          \n",
       "5 Friday      493620      14.76274      59.70929           40.29071          \n",
       "6 Saturday    633244      18.93848      49.08503           50.91497          \n",
       "7 Sunday      507883      15.18930      50.26630           49.73370          \n",
       "  relative_diff_perc\n",
       "1 43.903111         \n",
       "2 49.462526         \n",
       "3 48.767679         \n",
       "4 45.280451         \n",
       "5 32.521875         \n",
       "6 -3.728107         \n",
       "7  1.059563         "
      ]
     },
     "metadata": {},
     "output_type": "display_data"
    }
   ],
   "source": [
    "# get % difference between casual riders vs members\n",
    "\n",
    "rides_percent_diff_DoW <- rides_perc_diff(df = full_df_clean, var = day_of_week)\n",
    "rides_percent_diff_DoW"
   ]
  },
  {
   "cell_type": "code",
   "execution_count": 36,
   "id": "1e51eb3e",
   "metadata": {},
   "outputs": [
    {
     "data": {
      "text/html": [
       "43.9871285140825"
      ],
      "text/latex": [
       "43.9871285140825"
      ],
      "text/markdown": [
       "43.9871285140825"
      ],
      "text/plain": [
       "[1] 43.98713"
      ]
     },
     "metadata": {},
     "output_type": "display_data"
    }
   ],
   "source": [
    "# calculate mean relative % difference for weekdays\n",
    "\n",
    "weekday_rides <- rides_percent_diff_DoW %>%\n",
    "    filter(day_of_week == 'Monday' |\n",
    "           day_of_week == 'Tuesday' |\n",
    "           day_of_week == 'Wednesday' |\n",
    "           day_of_week == 'Thursday' |\n",
    "           day_of_week == 'Friday')\n",
    "           \n",
    "           \n",
    "mean(weekday_rides$relative_diff_perc)"
   ]
  },
  {
   "cell_type": "code",
   "execution_count": 37,
   "id": "8b8ddad2",
   "metadata": {},
   "outputs": [
    {
     "data": {
      "image/png": "[encoded data removed]",
      "text/plain": [
       "plot without title"
      ]
     },
     "metadata": {},
     "output_type": "display_data"
    }
   ],
   "source": [
    "# plot daily counts\n",
    "\n",
    "fig(16, 8)\n",
    "\n",
    "full_df_clean %>%\n",
    "    ggplot(aes(day_of_week, fill = member_type)) +\n",
    "    geom_bar(position = 'dodge') +\n",
    "    labs(x = 'Day of Week', title = 'Total Rides per DoW') +\n",
    "    coord_flip() + \n",
    "    theme(plot.title = element_text(size = 22), \n",
    "          axis.text = element_text(size = 14),\n",
    "          axis.title = element_text(size = 16),\n",
    "          axis.title.x = element_blank(),\n",
    "          legend.title = element_text(size = 16),\n",
    "          legend.text = element_text(size = 14))"
   ]
  },
  {
   "cell_type": "markdown",
   "id": "7094e62d",
   "metadata": {
    "papermill": {
     "duration": 0.067221,
     "end_time": "2021-06-04T13:13:24.149065",
     "exception": false,
     "start_time": "2021-06-04T13:13:24.081844",
     "status": "completed"
    },
    "tags": []
   },
   "source": [
    "Some insights gathered from this chart:\n",
    "\n",
    "\n",
    "* Total rides during weekends is almost distributed equally among members and casual riders.\n",
    "* The average relative difference between the 2 groups during weekdays is 43.99%.\n",
    "* Except Saturday, there were more rides by members for each day of week during the 12-months period.\n",
    "* It is likely that members are mainly using the bikes as their primary mode of transportation for work during office hours.\n",
    "* Casual riders may be riding on adhoc basis or for leisure."
   ]
  },
  {
   "cell_type": "code",
   "execution_count": 38,
   "id": "781cfc2d",
   "metadata": {},
   "outputs": [
    {
     "data": {
      "text/html": [
       "<table>\n",
       "<thead><tr><th scope=col>member_type</th><th scope=col>start_hour</th><th scope=col>total_rides</th><th scope=col>perc_of_total</th></tr></thead>\n",
       "<tbody>\n",
       "\t<tr><td>casual    </td><td>00        </td><td> 21307    </td><td>0.63723032</td></tr>\n",
       "\t<tr><td>member    </td><td>00        </td><td> 11221    </td><td>0.33558743</td></tr>\n",
       "\t<tr><td>casual    </td><td>01        </td><td> 13261    </td><td>0.39659789</td></tr>\n",
       "\t<tr><td>member    </td><td>01        </td><td>  6274    </td><td>0.18763707</td></tr>\n",
       "\t<tr><td>casual    </td><td>02        </td><td>  7295    </td><td>0.21817220</td></tr>\n",
       "\t<tr><td>member    </td><td>02        </td><td>  3353    </td><td>0.10027846</td></tr>\n",
       "\t<tr><td>casual    </td><td>03        </td><td>  3854    </td><td>0.11526192</td></tr>\n",
       "\t<tr><td>member    </td><td>03        </td><td>  2116    </td><td>0.06328340</td></tr>\n",
       "\t<tr><td>casual    </td><td>04        </td><td>  3183    </td><td>0.09519426</td></tr>\n",
       "\t<tr><td>member    </td><td>04        </td><td>  3355    </td><td>0.10033828</td></tr>\n",
       "\t<tr><td>casual    </td><td>05        </td><td>  5090    </td><td>0.15222708</td></tr>\n",
       "\t<tr><td>member    </td><td>05        </td><td> 16756    </td><td>0.50112316</td></tr>\n",
       "\t<tr><td>casual    </td><td>06        </td><td> 12310    </td><td>0.36815625</td></tr>\n",
       "\t<tr><td>member    </td><td>06        </td><td> 55043    </td><td>1.64617583</td></tr>\n",
       "\t<tr><td>casual    </td><td>07        </td><td> 22149    </td><td>0.66241208</td></tr>\n",
       "\t<tr><td>member    </td><td>07        </td><td> 92157    </td><td>2.75614748</td></tr>\n",
       "\t<tr><td>casual    </td><td>08        </td><td> 30287    </td><td>0.90579596</td></tr>\n",
       "\t<tr><td>member    </td><td>08        </td><td> 99777    </td><td>2.98403948</td></tr>\n",
       "\t<tr><td>casual    </td><td>09        </td><td> 38954    </td><td>1.16500069</td></tr>\n",
       "\t<tr><td>member    </td><td>09        </td><td> 84122    </td><td>2.51584403</td></tr>\n",
       "\t<tr><td>casual    </td><td>10        </td><td> 55876    </td><td>1.67108843</td></tr>\n",
       "\t<tr><td>member    </td><td>10        </td><td> 89237    </td><td>2.66881878</td></tr>\n",
       "\t<tr><td>casual    </td><td>11        </td><td> 77289    </td><td>2.31148890</td></tr>\n",
       "\t<tr><td>member    </td><td>11        </td><td>111567    </td><td>3.33664405</td></tr>\n",
       "\t<tr><td>casual    </td><td>12        </td><td> 94049    </td><td>2.81273169</td></tr>\n",
       "\t<tr><td>member    </td><td>12        </td><td>131180    </td><td>3.92321176</td></tr>\n",
       "\t<tr><td>casual    </td><td>13        </td><td>102218    </td><td>3.05704269</td></tr>\n",
       "\t<tr><td>member    </td><td>13        </td><td>130559    </td><td>3.90463946</td></tr>\n",
       "\t<tr><td>casual    </td><td>14        </td><td>108492    </td><td>3.24467975</td></tr>\n",
       "\t<tr><td>member    </td><td>14        </td><td>130621    </td><td>3.90649370</td></tr>\n",
       "\t<tr><td>casual    </td><td>15        </td><td>114150    </td><td>3.41389406</td></tr>\n",
       "\t<tr><td>member    </td><td>15        </td><td>145112    </td><td>4.33987730</td></tr>\n",
       "\t<tr><td>casual    </td><td>16        </td><td>121065    </td><td>3.62070157</td></tr>\n",
       "\t<tr><td>member    </td><td>16        </td><td>173992    </td><td>5.20359399</td></tr>\n",
       "\t<tr><td>casual    </td><td>17        </td><td>134423    </td><td>4.02020044</td></tr>\n",
       "\t<tr><td>member    </td><td>17        </td><td>208413    </td><td>6.23302586</td></tr>\n",
       "\t<tr><td>casual    </td><td>18        </td><td>121421    </td><td>3.63134849</td></tr>\n",
       "\t<tr><td>member    </td><td>18        </td><td>180967    </td><td>5.41219593</td></tr>\n",
       "\t<tr><td>casual    </td><td>19        </td><td> 92919    </td><td>2.77893668</td></tr>\n",
       "\t<tr><td>member    </td><td>19        </td><td>125551    </td><td>3.75486476</td></tr>\n",
       "\t<tr><td>casual    </td><td>20        </td><td> 65064    </td><td>1.94587475</td></tr>\n",
       "\t<tr><td>member    </td><td>20        </td><td> 76624    </td><td>2.29160068</td></tr>\n",
       "\t<tr><td>casual    </td><td>21        </td><td> 46791    </td><td>1.39938254</td></tr>\n",
       "\t<tr><td>member    </td><td>21        </td><td> 45574    </td><td>1.36298561</td></tr>\n",
       "\t<tr><td>casual    </td><td>22        </td><td> 41663    </td><td>1.24601899</td></tr>\n",
       "\t<tr><td>member    </td><td>22        </td><td> 31954    </td><td>0.95565108</td></tr>\n",
       "\t<tr><td>casual    </td><td>23        </td><td> 33407    </td><td>0.99910608</td></tr>\n",
       "\t<tr><td>member    </td><td>23        </td><td> 21647    </td><td>0.64739873</td></tr>\n",
       "</tbody>\n",
       "</table>\n"
      ],
      "text/latex": [
       "\\begin{tabular}{r|llll}\n",
       " member\\_type & start\\_hour & total\\_rides & perc\\_of\\_total\\\\\n",
       "\\hline\n",
       "\t casual     & 00         &  21307     & 0.63723032\\\\\n",
       "\t member     & 00         &  11221     & 0.33558743\\\\\n",
       "\t casual     & 01         &  13261     & 0.39659789\\\\\n",
       "\t member     & 01         &   6274     & 0.18763707\\\\\n",
       "\t casual     & 02         &   7295     & 0.21817220\\\\\n",
       "\t member     & 02         &   3353     & 0.10027846\\\\\n",
       "\t casual     & 03         &   3854     & 0.11526192\\\\\n",
       "\t member     & 03         &   2116     & 0.06328340\\\\\n",
       "\t casual     & 04         &   3183     & 0.09519426\\\\\n",
       "\t member     & 04         &   3355     & 0.10033828\\\\\n",
       "\t casual     & 05         &   5090     & 0.15222708\\\\\n",
       "\t member     & 05         &  16756     & 0.50112316\\\\\n",
       "\t casual     & 06         &  12310     & 0.36815625\\\\\n",
       "\t member     & 06         &  55043     & 1.64617583\\\\\n",
       "\t casual     & 07         &  22149     & 0.66241208\\\\\n",
       "\t member     & 07         &  92157     & 2.75614748\\\\\n",
       "\t casual     & 08         &  30287     & 0.90579596\\\\\n",
       "\t member     & 08         &  99777     & 2.98403948\\\\\n",
       "\t casual     & 09         &  38954     & 1.16500069\\\\\n",
       "\t member     & 09         &  84122     & 2.51584403\\\\\n",
       "\t casual     & 10         &  55876     & 1.67108843\\\\\n",
       "\t member     & 10         &  89237     & 2.66881878\\\\\n",
       "\t casual     & 11         &  77289     & 2.31148890\\\\\n",
       "\t member     & 11         & 111567     & 3.33664405\\\\\n",
       "\t casual     & 12         &  94049     & 2.81273169\\\\\n",
       "\t member     & 12         & 131180     & 3.92321176\\\\\n",
       "\t casual     & 13         & 102218     & 3.05704269\\\\\n",
       "\t member     & 13         & 130559     & 3.90463946\\\\\n",
       "\t casual     & 14         & 108492     & 3.24467975\\\\\n",
       "\t member     & 14         & 130621     & 3.90649370\\\\\n",
       "\t casual     & 15         & 114150     & 3.41389406\\\\\n",
       "\t member     & 15         & 145112     & 4.33987730\\\\\n",
       "\t casual     & 16         & 121065     & 3.62070157\\\\\n",
       "\t member     & 16         & 173992     & 5.20359399\\\\\n",
       "\t casual     & 17         & 134423     & 4.02020044\\\\\n",
       "\t member     & 17         & 208413     & 6.23302586\\\\\n",
       "\t casual     & 18         & 121421     & 3.63134849\\\\\n",
       "\t member     & 18         & 180967     & 5.41219593\\\\\n",
       "\t casual     & 19         &  92919     & 2.77893668\\\\\n",
       "\t member     & 19         & 125551     & 3.75486476\\\\\n",
       "\t casual     & 20         &  65064     & 1.94587475\\\\\n",
       "\t member     & 20         &  76624     & 2.29160068\\\\\n",
       "\t casual     & 21         &  46791     & 1.39938254\\\\\n",
       "\t member     & 21         &  45574     & 1.36298561\\\\\n",
       "\t casual     & 22         &  41663     & 1.24601899\\\\\n",
       "\t member     & 22         &  31954     & 0.95565108\\\\\n",
       "\t casual     & 23         &  33407     & 0.99910608\\\\\n",
       "\t member     & 23         &  21647     & 0.64739873\\\\\n",
       "\\end{tabular}\n"
      ],
      "text/markdown": [
       "\n",
       "| member_type | start_hour | total_rides | perc_of_total |\n",
       "|---|---|---|---|\n",
       "| casual     | 00         |  21307     | 0.63723032 |\n",
       "| member     | 00         |  11221     | 0.33558743 |\n",
       "| casual     | 01         |  13261     | 0.39659789 |\n",
       "| member     | 01         |   6274     | 0.18763707 |\n",
       "| casual     | 02         |   7295     | 0.21817220 |\n",
       "| member     | 02         |   3353     | 0.10027846 |\n",
       "| casual     | 03         |   3854     | 0.11526192 |\n",
       "| member     | 03         |   2116     | 0.06328340 |\n",
       "| casual     | 04         |   3183     | 0.09519426 |\n",
       "| member     | 04         |   3355     | 0.10033828 |\n",
       "| casual     | 05         |   5090     | 0.15222708 |\n",
       "| member     | 05         |  16756     | 0.50112316 |\n",
       "| casual     | 06         |  12310     | 0.36815625 |\n",
       "| member     | 06         |  55043     | 1.64617583 |\n",
       "| casual     | 07         |  22149     | 0.66241208 |\n",
       "| member     | 07         |  92157     | 2.75614748 |\n",
       "| casual     | 08         |  30287     | 0.90579596 |\n",
       "| member     | 08         |  99777     | 2.98403948 |\n",
       "| casual     | 09         |  38954     | 1.16500069 |\n",
       "| member     | 09         |  84122     | 2.51584403 |\n",
       "| casual     | 10         |  55876     | 1.67108843 |\n",
       "| member     | 10         |  89237     | 2.66881878 |\n",
       "| casual     | 11         |  77289     | 2.31148890 |\n",
       "| member     | 11         | 111567     | 3.33664405 |\n",
       "| casual     | 12         |  94049     | 2.81273169 |\n",
       "| member     | 12         | 131180     | 3.92321176 |\n",
       "| casual     | 13         | 102218     | 3.05704269 |\n",
       "| member     | 13         | 130559     | 3.90463946 |\n",
       "| casual     | 14         | 108492     | 3.24467975 |\n",
       "| member     | 14         | 130621     | 3.90649370 |\n",
       "| casual     | 15         | 114150     | 3.41389406 |\n",
       "| member     | 15         | 145112     | 4.33987730 |\n",
       "| casual     | 16         | 121065     | 3.62070157 |\n",
       "| member     | 16         | 173992     | 5.20359399 |\n",
       "| casual     | 17         | 134423     | 4.02020044 |\n",
       "| member     | 17         | 208413     | 6.23302586 |\n",
       "| casual     | 18         | 121421     | 3.63134849 |\n",
       "| member     | 18         | 180967     | 5.41219593 |\n",
       "| casual     | 19         |  92919     | 2.77893668 |\n",
       "| member     | 19         | 125551     | 3.75486476 |\n",
       "| casual     | 20         |  65064     | 1.94587475 |\n",
       "| member     | 20         |  76624     | 2.29160068 |\n",
       "| casual     | 21         |  46791     | 1.39938254 |\n",
       "| member     | 21         |  45574     | 1.36298561 |\n",
       "| casual     | 22         |  41663     | 1.24601899 |\n",
       "| member     | 22         |  31954     | 0.95565108 |\n",
       "| casual     | 23         |  33407     | 0.99910608 |\n",
       "| member     | 23         |  21647     | 0.64739873 |\n",
       "\n"
      ],
      "text/plain": [
       "   member_type start_hour total_rides perc_of_total\n",
       "1  casual      00          21307      0.63723032   \n",
       "2  member      00          11221      0.33558743   \n",
       "3  casual      01          13261      0.39659789   \n",
       "4  member      01           6274      0.18763707   \n",
       "5  casual      02           7295      0.21817220   \n",
       "6  member      02           3353      0.10027846   \n",
       "7  casual      03           3854      0.11526192   \n",
       "8  member      03           2116      0.06328340   \n",
       "9  casual      04           3183      0.09519426   \n",
       "10 member      04           3355      0.10033828   \n",
       "11 casual      05           5090      0.15222708   \n",
       "12 member      05          16756      0.50112316   \n",
       "13 casual      06          12310      0.36815625   \n",
       "14 member      06          55043      1.64617583   \n",
       "15 casual      07          22149      0.66241208   \n",
       "16 member      07          92157      2.75614748   \n",
       "17 casual      08          30287      0.90579596   \n",
       "18 member      08          99777      2.98403948   \n",
       "19 casual      09          38954      1.16500069   \n",
       "20 member      09          84122      2.51584403   \n",
       "21 casual      10          55876      1.67108843   \n",
       "22 member      10          89237      2.66881878   \n",
       "23 casual      11          77289      2.31148890   \n",
       "24 member      11         111567      3.33664405   \n",
       "25 casual      12          94049      2.81273169   \n",
       "26 member      12         131180      3.92321176   \n",
       "27 casual      13         102218      3.05704269   \n",
       "28 member      13         130559      3.90463946   \n",
       "29 casual      14         108492      3.24467975   \n",
       "30 member      14         130621      3.90649370   \n",
       "31 casual      15         114150      3.41389406   \n",
       "32 member      15         145112      4.33987730   \n",
       "33 casual      16         121065      3.62070157   \n",
       "34 member      16         173992      5.20359399   \n",
       "35 casual      17         134423      4.02020044   \n",
       "36 member      17         208413      6.23302586   \n",
       "37 casual      18         121421      3.63134849   \n",
       "38 member      18         180967      5.41219593   \n",
       "39 casual      19          92919      2.77893668   \n",
       "40 member      19         125551      3.75486476   \n",
       "41 casual      20          65064      1.94587475   \n",
       "42 member      20          76624      2.29160068   \n",
       "43 casual      21          46791      1.39938254   \n",
       "44 member      21          45574      1.36298561   \n",
       "45 casual      22          41663      1.24601899   \n",
       "46 member      22          31954      0.95565108   \n",
       "47 casual      23          33407      0.99910608   \n",
       "48 member      23          21647      0.64739873   "
      ]
     },
     "metadata": {},
     "output_type": "display_data"
    }
   ],
   "source": [
    "# total rides by hour of day\n",
    "\n",
    "rides_per_HoD <- total_rides(df = full_df_clean, var = start_hour)\n",
    "rides_per_HoD[order(rides_per_HoD$start_hour),]"
   ]
  },
  {
   "cell_type": "code",
   "execution_count": 39,
   "id": "08eb4974",
   "metadata": {},
   "outputs": [
    {
     "data": {
      "text/html": [
       "<table>\n",
       "<thead><tr><th scope=col>start_hour</th><th scope=col>total_rides</th><th scope=col>perc_of_total</th><th scope=col>member_riders_perc</th><th scope=col>casual_riders_perc</th><th scope=col>relative_diff_perc</th></tr></thead>\n",
       "<tbody>\n",
       "\t<tr><td>00         </td><td> 32528     </td><td> 0.9728177 </td><td>34.49643   </td><td>65.50357   </td><td> -89.885037</td></tr>\n",
       "\t<tr><td>01         </td><td> 19535     </td><td> 0.5842350 </td><td>32.11671   </td><td>67.88329   </td><td>-111.364361</td></tr>\n",
       "\t<tr><td>02         </td><td> 10648     </td><td> 0.3184507 </td><td>31.48948   </td><td>68.51052   </td><td>-117.566358</td></tr>\n",
       "\t<tr><td>03         </td><td>  5970     </td><td> 0.1785453 </td><td>35.44389   </td><td>64.55611   </td><td> -82.136106</td></tr>\n",
       "\t<tr><td>04         </td><td>  6538     </td><td> 0.1955325 </td><td>51.31539   </td><td>48.68461   </td><td>   5.126677</td></tr>\n",
       "\t<tr><td>05         </td><td> 21846     </td><td> 0.6533502 </td><td>76.70054   </td><td>23.29946   </td><td>  69.622822</td></tr>\n",
       "\t<tr><td>06         </td><td> 67353     </td><td> 2.0143321 </td><td>81.72316   </td><td>18.27684   </td><td>  77.635667</td></tr>\n",
       "\t<tr><td>07         </td><td>114306     </td><td> 3.4185596 </td><td>80.62306   </td><td>19.37694   </td><td>  75.966015</td></tr>\n",
       "\t<tr><td>08         </td><td>130064     </td><td> 3.8898354 </td><td>76.71377   </td><td>23.28623   </td><td>  69.645309</td></tr>\n",
       "\t<tr><td>09         </td><td>123076     </td><td> 3.6808447 </td><td>68.34964   </td><td>31.65036   </td><td>  53.693445</td></tr>\n",
       "\t<tr><td>10         </td><td>145113     </td><td> 4.3399072 </td><td>61.49484   </td><td>38.50516   </td><td>  37.384717</td></tr>\n",
       "\t<tr><td>11         </td><td>188856     </td><td> 5.6481329 </td><td>59.07517   </td><td>40.92483   </td><td>  30.724139</td></tr>\n",
       "\t<tr><td>12         </td><td>225229     </td><td> 6.7359434 </td><td>58.24294   </td><td>41.75706   </td><td>  28.305382</td></tr>\n",
       "\t<tr><td>13         </td><td>232777     </td><td> 6.9616821 </td><td>56.08759   </td><td>43.91241   </td><td>  21.707427</td></tr>\n",
       "\t<tr><td>14         </td><td>239113     </td><td> 7.1511734 </td><td>54.62731   </td><td>45.37269   </td><td>  16.941380</td></tr>\n",
       "\t<tr><td>15         </td><td>259262     </td><td> 7.7537714 </td><td>55.97118   </td><td>44.02882   </td><td>  21.336623</td></tr>\n",
       "\t<tr><td>16         </td><td>295057     </td><td> 8.8242956 </td><td>58.96894   </td><td>41.03106   </td><td>  30.419215</td></tr>\n",
       "\t<tr><td>17         </td><td>342836     </td><td>10.2532263 </td><td>60.79087   </td><td>39.20913   </td><td>  35.501624</td></tr>\n",
       "\t<tr><td>18         </td><td>302388     </td><td> 9.0435444 </td><td>59.84596   </td><td>40.15404   </td><td>  32.904342</td></tr>\n",
       "\t<tr><td>19         </td><td>218470     </td><td> 6.5338014 </td><td>57.46830   </td><td>42.53170   </td><td>  25.991032</td></tr>\n",
       "\t<tr><td>20         </td><td>141688     </td><td> 4.2374754 </td><td>54.07939   </td><td>45.92061   </td><td>  15.086657</td></tr>\n",
       "\t<tr><td>21         </td><td> 92365     </td><td> 2.7623682 </td><td>49.34120   </td><td>50.65880   </td><td>  -2.670382</td></tr>\n",
       "\t<tr><td>22         </td><td> 73617     </td><td> 2.2016701 </td><td>43.40574   </td><td>56.59426   </td><td> -30.384302</td></tr>\n",
       "\t<tr><td>23         </td><td> 55054     </td><td> 1.6465048 </td><td>39.31958   </td><td>60.68042   </td><td> -54.326235</td></tr>\n",
       "</tbody>\n",
       "</table>\n"
      ],
      "text/latex": [
       "\\begin{tabular}{r|llllll}\n",
       " start\\_hour & total\\_rides & perc\\_of\\_total & member\\_riders\\_perc & casual\\_riders\\_perc & relative\\_diff\\_perc\\\\\n",
       "\\hline\n",
       "\t 00          &  32528      &  0.9728177  & 34.49643    & 65.50357    &  -89.885037\\\\\n",
       "\t 01          &  19535      &  0.5842350  & 32.11671    & 67.88329    & -111.364361\\\\\n",
       "\t 02          &  10648      &  0.3184507  & 31.48948    & 68.51052    & -117.566358\\\\\n",
       "\t 03          &   5970      &  0.1785453  & 35.44389    & 64.55611    &  -82.136106\\\\\n",
       "\t 04          &   6538      &  0.1955325  & 51.31539    & 48.68461    &    5.126677\\\\\n",
       "\t 05          &  21846      &  0.6533502  & 76.70054    & 23.29946    &   69.622822\\\\\n",
       "\t 06          &  67353      &  2.0143321  & 81.72316    & 18.27684    &   77.635667\\\\\n",
       "\t 07          & 114306      &  3.4185596  & 80.62306    & 19.37694    &   75.966015\\\\\n",
       "\t 08          & 130064      &  3.8898354  & 76.71377    & 23.28623    &   69.645309\\\\\n",
       "\t 09          & 123076      &  3.6808447  & 68.34964    & 31.65036    &   53.693445\\\\\n",
       "\t 10          & 145113      &  4.3399072  & 61.49484    & 38.50516    &   37.384717\\\\\n",
       "\t 11          & 188856      &  5.6481329  & 59.07517    & 40.92483    &   30.724139\\\\\n",
       "\t 12          & 225229      &  6.7359434  & 58.24294    & 41.75706    &   28.305382\\\\\n",
       "\t 13          & 232777      &  6.9616821  & 56.08759    & 43.91241    &   21.707427\\\\\n",
       "\t 14          & 239113      &  7.1511734  & 54.62731    & 45.37269    &   16.941380\\\\\n",
       "\t 15          & 259262      &  7.7537714  & 55.97118    & 44.02882    &   21.336623\\\\\n",
       "\t 16          & 295057      &  8.8242956  & 58.96894    & 41.03106    &   30.419215\\\\\n",
       "\t 17          & 342836      & 10.2532263  & 60.79087    & 39.20913    &   35.501624\\\\\n",
       "\t 18          & 302388      &  9.0435444  & 59.84596    & 40.15404    &   32.904342\\\\\n",
       "\t 19          & 218470      &  6.5338014  & 57.46830    & 42.53170    &   25.991032\\\\\n",
       "\t 20          & 141688      &  4.2374754  & 54.07939    & 45.92061    &   15.086657\\\\\n",
       "\t 21          &  92365      &  2.7623682  & 49.34120    & 50.65880    &   -2.670382\\\\\n",
       "\t 22          &  73617      &  2.2016701  & 43.40574    & 56.59426    &  -30.384302\\\\\n",
       "\t 23          &  55054      &  1.6465048  & 39.31958    & 60.68042    &  -54.326235\\\\\n",
       "\\end{tabular}\n"
      ],
      "text/markdown": [
       "\n",
       "| start_hour | total_rides | perc_of_total | member_riders_perc | casual_riders_perc | relative_diff_perc |\n",
       "|---|---|---|---|---|---|\n",
       "| 00          |  32528      |  0.9728177  | 34.49643    | 65.50357    |  -89.885037 |\n",
       "| 01          |  19535      |  0.5842350  | 32.11671    | 67.88329    | -111.364361 |\n",
       "| 02          |  10648      |  0.3184507  | 31.48948    | 68.51052    | -117.566358 |\n",
       "| 03          |   5970      |  0.1785453  | 35.44389    | 64.55611    |  -82.136106 |\n",
       "| 04          |   6538      |  0.1955325  | 51.31539    | 48.68461    |    5.126677 |\n",
       "| 05          |  21846      |  0.6533502  | 76.70054    | 23.29946    |   69.622822 |\n",
       "| 06          |  67353      |  2.0143321  | 81.72316    | 18.27684    |   77.635667 |\n",
       "| 07          | 114306      |  3.4185596  | 80.62306    | 19.37694    |   75.966015 |\n",
       "| 08          | 130064      |  3.8898354  | 76.71377    | 23.28623    |   69.645309 |\n",
       "| 09          | 123076      |  3.6808447  | 68.34964    | 31.65036    |   53.693445 |\n",
       "| 10          | 145113      |  4.3399072  | 61.49484    | 38.50516    |   37.384717 |\n",
       "| 11          | 188856      |  5.6481329  | 59.07517    | 40.92483    |   30.724139 |\n",
       "| 12          | 225229      |  6.7359434  | 58.24294    | 41.75706    |   28.305382 |\n",
       "| 13          | 232777      |  6.9616821  | 56.08759    | 43.91241    |   21.707427 |\n",
       "| 14          | 239113      |  7.1511734  | 54.62731    | 45.37269    |   16.941380 |\n",
       "| 15          | 259262      |  7.7537714  | 55.97118    | 44.02882    |   21.336623 |\n",
       "| 16          | 295057      |  8.8242956  | 58.96894    | 41.03106    |   30.419215 |\n",
       "| 17          | 342836      | 10.2532263  | 60.79087    | 39.20913    |   35.501624 |\n",
       "| 18          | 302388      |  9.0435444  | 59.84596    | 40.15404    |   32.904342 |\n",
       "| 19          | 218470      |  6.5338014  | 57.46830    | 42.53170    |   25.991032 |\n",
       "| 20          | 141688      |  4.2374754  | 54.07939    | 45.92061    |   15.086657 |\n",
       "| 21          |  92365      |  2.7623682  | 49.34120    | 50.65880    |   -2.670382 |\n",
       "| 22          |  73617      |  2.2016701  | 43.40574    | 56.59426    |  -30.384302 |\n",
       "| 23          |  55054      |  1.6465048  | 39.31958    | 60.68042    |  -54.326235 |\n",
       "\n"
      ],
      "text/plain": [
       "   start_hour total_rides perc_of_total member_riders_perc casual_riders_perc\n",
       "1  00          32528       0.9728177    34.49643           65.50357          \n",
       "2  01          19535       0.5842350    32.11671           67.88329          \n",
       "3  02          10648       0.3184507    31.48948           68.51052          \n",
       "4  03           5970       0.1785453    35.44389           64.55611          \n",
       "5  04           6538       0.1955325    51.31539           48.68461          \n",
       "6  05          21846       0.6533502    76.70054           23.29946          \n",
       "7  06          67353       2.0143321    81.72316           18.27684          \n",
       "8  07         114306       3.4185596    80.62306           19.37694          \n",
       "9  08         130064       3.8898354    76.71377           23.28623          \n",
       "10 09         123076       3.6808447    68.34964           31.65036          \n",
       "11 10         145113       4.3399072    61.49484           38.50516          \n",
       "12 11         188856       5.6481329    59.07517           40.92483          \n",
       "13 12         225229       6.7359434    58.24294           41.75706          \n",
       "14 13         232777       6.9616821    56.08759           43.91241          \n",
       "15 14         239113       7.1511734    54.62731           45.37269          \n",
       "16 15         259262       7.7537714    55.97118           44.02882          \n",
       "17 16         295057       8.8242956    58.96894           41.03106          \n",
       "18 17         342836      10.2532263    60.79087           39.20913          \n",
       "19 18         302388       9.0435444    59.84596           40.15404          \n",
       "20 19         218470       6.5338014    57.46830           42.53170          \n",
       "21 20         141688       4.2374754    54.07939           45.92061          \n",
       "22 21          92365       2.7623682    49.34120           50.65880          \n",
       "23 22          73617       2.2016701    43.40574           56.59426          \n",
       "24 23          55054       1.6465048    39.31958           60.68042          \n",
       "   relative_diff_perc\n",
       "1   -89.885037       \n",
       "2  -111.364361       \n",
       "3  -117.566358       \n",
       "4   -82.136106       \n",
       "5     5.126677       \n",
       "6    69.622822       \n",
       "7    77.635667       \n",
       "8    75.966015       \n",
       "9    69.645309       \n",
       "10   53.693445       \n",
       "11   37.384717       \n",
       "12   30.724139       \n",
       "13   28.305382       \n",
       "14   21.707427       \n",
       "15   16.941380       \n",
       "16   21.336623       \n",
       "17   30.419215       \n",
       "18   35.501624       \n",
       "19   32.904342       \n",
       "20   25.991032       \n",
       "21   15.086657       \n",
       "22   -2.670382       \n",
       "23  -30.384302       \n",
       "24  -54.326235       "
      ]
     },
     "metadata": {},
     "output_type": "display_data"
    }
   ],
   "source": [
    "# get % difference between casual riders vs members\n",
    "\n",
    "rides_percent_diff_HoD <- rides_perc_diff(df = full_df_clean, var = start_hour)\n",
    "rides_percent_diff_HoD"
   ]
  },
  {
   "cell_type": "code",
   "execution_count": 40,
   "id": "4f35d1fd",
   "metadata": {},
   "outputs": [
    {
     "data": {
      "image/png": "[encoded data removed]",
      "text/plain": [
       "plot without title"
      ]
     },
     "metadata": {},
     "output_type": "display_data"
    }
   ],
   "source": [
    "# plot hourly counts\n",
    "\n",
    "fig(16, 8)\n",
    "\n",
    "full_df_clean %>%\n",
    "    ggplot(aes(start_hour, fill = member_type)) +\n",
    "    geom_bar(position = 'dodge') +\n",
    "    labs(x = 'Ride Start Hour', title = 'Total Rides per HoD') + \n",
    "    theme(plot.title = element_text(size = 22), \n",
    "          axis.text = element_text(size = 14),\n",
    "          axis.title = element_text(size = 16),\n",
    "          axis.title.y = element_blank(),\n",
    "          legend.title = element_text(size = 16),\n",
    "          legend.text = element_text(size = 14))"
   ]
  },
  {
   "cell_type": "markdown",
   "id": "e3ff03dd",
   "metadata": {},
   "source": [
    "Some insights gathered from this chart:\n",
    "\n",
    "\n",
    "* There are more rides by casual riders for rides that started between 2100hrs to 0300hrs.\n",
    "* The largest relative difference are for rides that started between 0500hrs and 0800hrs.\n",
    "* This trend seems to support our earlier analysis that members are mainly using the bikes as their primary mode of transportation for work during office hours."
   ]
  },
  {
   "cell_type": "code",
   "execution_count": 41,
   "id": "6b11f7c1",
   "metadata": {},
   "outputs": [
    {
     "data": {
      "image/png": "[encoded data removed]",
      "text/plain": [
       "plot without title"
      ]
     },
     "metadata": {},
     "output_type": "display_data"
    }
   ],
   "source": [
    "# plot weekday vs weekend comparison\n",
    "\n",
    "fig(16, 12)\n",
    "full_df_clean %>%\n",
    "    mutate(part_of_week = ifelse(day_of_week == 'Saturday' | day_of_week == 'Sunday',\n",
    "                                   'Weekend',\n",
    "                                   'Weekday')) %>%\n",
    "    ggplot(aes(start_hour, fill = member_type)) +\n",
    "    labs(x = 'Ride Start Hour', title = 'Total Rides per HoD') +\n",
    "    geom_bar(position = 'dodge') +\n",
    "    facet_wrap(~ part_of_week, nrow = 2) +\n",
    "    theme(plot.title = element_text(size = 22),\n",
    "          strip.text = element_text(size = 16),\n",
    "          axis.text = element_text(size = 14),\n",
    "          axis.title = element_text(size = 16),\n",
    "          axis.title.y = element_blank(),\n",
    "          legend.title = element_text(size = 16),\n",
    "          legend.text = element_text(size = 14))"
   ]
  },
  {
   "cell_type": "markdown",
   "id": "3f6e05c0",
   "metadata": {},
   "source": [
    "It is interesting to see that the number of rides between the 2 groups is almost equally distributed during weekends. While the trend for weekdays is close to that of the entire week."
   ]
  },
  {
   "cell_type": "code",
   "execution_count": 42,
   "id": "c87c7ec4",
   "metadata": {},
   "outputs": [
    {
     "data": {
      "text/html": [
       "<table>\n",
       "<thead><tr><th scope=col>member_type</th><th scope=col>rideable_type</th><th scope=col>total_rides</th><th scope=col>perc_of_total</th></tr></thead>\n",
       "<tbody>\n",
       "\t<tr><td>casual       </td><td>docked_bike  </td><td>1111358      </td><td>33.237481    </td></tr>\n",
       "\t<tr><td>member       </td><td>docked_bike  </td><td>1432357      </td><td>42.837626    </td></tr>\n",
       "\t<tr><td>casual       </td><td>electric_bike</td><td> 184581      </td><td> 5.520280    </td></tr>\n",
       "\t<tr><td>member       </td><td>electric_bike</td><td> 296096      </td><td> 8.855369    </td></tr>\n",
       "\t<tr><td>casual       </td><td>classic_bike </td><td>  70578      </td><td> 2.110782    </td></tr>\n",
       "\t<tr><td>member       </td><td>classic_bike </td><td> 248719      </td><td> 7.438461    </td></tr>\n",
       "</tbody>\n",
       "</table>\n"
      ],
      "text/latex": [
       "\\begin{tabular}{r|llll}\n",
       " member\\_type & rideable\\_type & total\\_rides & perc\\_of\\_total\\\\\n",
       "\\hline\n",
       "\t casual          & docked\\_bike   & 1111358         & 33.237481      \\\\\n",
       "\t member          & docked\\_bike   & 1432357         & 42.837626      \\\\\n",
       "\t casual          & electric\\_bike &  184581         &  5.520280      \\\\\n",
       "\t member          & electric\\_bike &  296096         &  8.855369      \\\\\n",
       "\t casual          & classic\\_bike  &   70578         &  2.110782      \\\\\n",
       "\t member          & classic\\_bike  &  248719         &  7.438461      \\\\\n",
       "\\end{tabular}\n"
      ],
      "text/markdown": [
       "\n",
       "| member_type | rideable_type | total_rides | perc_of_total |\n",
       "|---|---|---|---|\n",
       "| casual        | docked_bike   | 1111358       | 33.237481     |\n",
       "| member        | docked_bike   | 1432357       | 42.837626     |\n",
       "| casual        | electric_bike |  184581       |  5.520280     |\n",
       "| member        | electric_bike |  296096       |  8.855369     |\n",
       "| casual        | classic_bike  |   70578       |  2.110782     |\n",
       "| member        | classic_bike  |  248719       |  7.438461     |\n",
       "\n"
      ],
      "text/plain": [
       "  member_type rideable_type total_rides perc_of_total\n",
       "1 casual      docked_bike   1111358     33.237481    \n",
       "2 member      docked_bike   1432357     42.837626    \n",
       "3 casual      electric_bike  184581      5.520280    \n",
       "4 member      electric_bike  296096      8.855369    \n",
       "5 casual      classic_bike    70578      2.110782    \n",
       "6 member      classic_bike   248719      7.438461    "
      ]
     },
     "metadata": {},
     "output_type": "display_data"
    }
   ],
   "source": [
    "# total rides by bike type\n",
    "\n",
    "rides_per_bike <- total_rides(df = full_df_clean, var = rideable_type)\n",
    "rides_per_bike[order(rides_per_bike$rideable_type),]"
   ]
  },
  {
   "cell_type": "code",
   "execution_count": 43,
   "id": "1938cbc9",
   "metadata": {},
   "outputs": [
    {
     "data": {
      "text/html": [
       "<table>\n",
       "<thead><tr><th scope=col>rideable_type</th><th scope=col>total_rides</th><th scope=col>perc_of_total</th><th scope=col>member_riders_perc</th><th scope=col>casual_riders_perc</th><th scope=col>relative_diff_perc</th></tr></thead>\n",
       "<tbody>\n",
       "\t<tr><td>docked_bike  </td><td>2543715      </td><td>76.075107    </td><td>56.30965     </td><td>43.69035     </td><td>22.41054     </td></tr>\n",
       "\t<tr><td>electric_bike</td><td> 480677      </td><td>14.375649    </td><td>61.59979     </td><td>38.40021     </td><td>37.66177     </td></tr>\n",
       "\t<tr><td>classic_bike </td><td> 319297      </td><td> 9.549243    </td><td>77.89581     </td><td>22.10419     </td><td>71.62340     </td></tr>\n",
       "</tbody>\n",
       "</table>\n"
      ],
      "text/latex": [
       "\\begin{tabular}{r|llllll}\n",
       " rideable\\_type & total\\_rides & perc\\_of\\_total & member\\_riders\\_perc & casual\\_riders\\_perc & relative\\_diff\\_perc\\\\\n",
       "\\hline\n",
       "\t docked\\_bike   & 2543715         & 76.075107       & 56.30965        & 43.69035        & 22.41054       \\\\\n",
       "\t electric\\_bike &  480677         & 14.375649       & 61.59979        & 38.40021        & 37.66177       \\\\\n",
       "\t classic\\_bike  &  319297         &  9.549243       & 77.89581        & 22.10419        & 71.62340       \\\\\n",
       "\\end{tabular}\n"
      ],
      "text/markdown": [
       "\n",
       "| rideable_type | total_rides | perc_of_total | member_riders_perc | casual_riders_perc | relative_diff_perc |\n",
       "|---|---|---|---|---|---|\n",
       "| docked_bike   | 2543715       | 76.075107     | 56.30965      | 43.69035      | 22.41054      |\n",
       "| electric_bike |  480677       | 14.375649     | 61.59979      | 38.40021      | 37.66177      |\n",
       "| classic_bike  |  319297       |  9.549243     | 77.89581      | 22.10419      | 71.62340      |\n",
       "\n"
      ],
      "text/plain": [
       "  rideable_type total_rides perc_of_total member_riders_perc casual_riders_perc\n",
       "1 docked_bike   2543715     76.075107     56.30965           43.69035          \n",
       "2 electric_bike  480677     14.375649     61.59979           38.40021          \n",
       "3 classic_bike   319297      9.549243     77.89581           22.10419          \n",
       "  relative_diff_perc\n",
       "1 22.41054          \n",
       "2 37.66177          \n",
       "3 71.62340          "
      ]
     },
     "metadata": {},
     "output_type": "display_data"
    }
   ],
   "source": [
    "# get % difference between casual riders vs members\n",
    "\n",
    "rides_percent_diff_bike <- rides_perc_diff(df = full_df_clean, var = rideable_type)\n",
    "rides_percent_diff_bike"
   ]
  },
  {
   "cell_type": "code",
   "execution_count": 44,
   "id": "bdd6347a",
   "metadata": {},
   "outputs": [
    {
     "data": {
      "image/png": "[encoded data removed]",
      "text/plain": [
       "plot without title"
      ]
     },
     "metadata": {},
     "output_type": "display_data"
    }
   ],
   "source": [
    "# plot total rides by bike type\n",
    "\n",
    "fig(16, 8)\n",
    "\n",
    "full_df_clean %>%\n",
    "    ggplot(aes(rideable_type, fill = member_type)) +\n",
    "    geom_bar(position = 'dodge') +\n",
    "    labs(x = 'Type of Bike', title = 'Total Rides per Bike Type') + \n",
    "    theme(plot.title = element_text(size = 22), \n",
    "          axis.text = element_text(size = 14),\n",
    "          axis.title = element_text(size = 16),\n",
    "          axis.title.y = element_blank(),\n",
    "          legend.title = element_text(size = 16),\n",
    "          legend.text = element_text(size = 14))"
   ]
  },
  {
   "cell_type": "code",
   "execution_count": 53,
   "id": "07e21d77",
   "metadata": {},
   "outputs": [],
   "source": [
    "# split casual and member rides\n",
    "\n",
    "casual <- full_df_clean %>%\n",
    "    filter(member_type == 'casual')\n",
    "\n",
    "member <- full_df_clean %>%\n",
    "    filter(member_type == 'member')"
   ]
  },
  {
   "cell_type": "code",
   "execution_count": 54,
   "id": "40ccb315",
   "metadata": {},
   "outputs": [
    {
     "data": {
      "text/html": [
       "<table>\n",
       "<thead><tr><th scope=col>rideable_type</th><th scope=col>total_rides</th><th scope=col>perc_of_total</th></tr></thead>\n",
       "<tbody>\n",
       "\t<tr><td>docked_bike  </td><td>1111358      </td><td>81.32778     </td></tr>\n",
       "\t<tr><td>electric_bike</td><td> 184581      </td><td>13.50741     </td></tr>\n",
       "\t<tr><td>classic_bike </td><td>  70578      </td><td> 5.16481     </td></tr>\n",
       "</tbody>\n",
       "</table>\n"
      ],
      "text/latex": [
       "\\begin{tabular}{r|lll}\n",
       " rideable\\_type & total\\_rides & perc\\_of\\_total\\\\\n",
       "\\hline\n",
       "\t docked\\_bike   & 1111358         & 81.32778       \\\\\n",
       "\t electric\\_bike &  184581         & 13.50741       \\\\\n",
       "\t classic\\_bike  &   70578         &  5.16481       \\\\\n",
       "\\end{tabular}\n"
      ],
      "text/markdown": [
       "\n",
       "| rideable_type | total_rides | perc_of_total |\n",
       "|---|---|---|\n",
       "| docked_bike   | 1111358       | 81.32778      |\n",
       "| electric_bike |  184581       | 13.50741      |\n",
       "| classic_bike  |   70578       |  5.16481      |\n",
       "\n"
      ],
      "text/plain": [
       "  rideable_type total_rides perc_of_total\n",
       "1 docked_bike   1111358     81.32778     \n",
       "2 electric_bike  184581     13.50741     \n",
       "3 classic_bike    70578      5.16481     "
      ]
     },
     "metadata": {},
     "output_type": "display_data"
    }
   ],
   "source": [
    "# calculate individual percentage share\n",
    "\n",
    "casual %>%\n",
    "    group_by(rideable_type) %>%\n",
    "    summarise(total_rides = length(ride_id),\n",
    "             'perc_of_total' = (length(ride_id) / nrow(casual)) * 100)"
   ]
  },
  {
   "cell_type": "code",
   "execution_count": 55,
   "id": "78402fc1",
   "metadata": {},
   "outputs": [
    {
     "data": {
      "text/html": [
       "<table>\n",
       "<thead><tr><th scope=col>rideable_type</th><th scope=col>total_rides</th><th scope=col>perc_of_total</th></tr></thead>\n",
       "<tbody>\n",
       "\t<tr><td>docked_bike  </td><td>1432357      </td><td>72.44473     </td></tr>\n",
       "\t<tr><td>electric_bike</td><td> 296096      </td><td>14.97573     </td></tr>\n",
       "\t<tr><td>classic_bike </td><td> 248719      </td><td>12.57953     </td></tr>\n",
       "</tbody>\n",
       "</table>\n"
      ],
      "text/latex": [
       "\\begin{tabular}{r|lll}\n",
       " rideable\\_type & total\\_rides & perc\\_of\\_total\\\\\n",
       "\\hline\n",
       "\t docked\\_bike   & 1432357         & 72.44473       \\\\\n",
       "\t electric\\_bike &  296096         & 14.97573       \\\\\n",
       "\t classic\\_bike  &  248719         & 12.57953       \\\\\n",
       "\\end{tabular}\n"
      ],
      "text/markdown": [
       "\n",
       "| rideable_type | total_rides | perc_of_total |\n",
       "|---|---|---|\n",
       "| docked_bike   | 1432357       | 72.44473      |\n",
       "| electric_bike |  296096       | 14.97573      |\n",
       "| classic_bike  |  248719       | 12.57953      |\n",
       "\n"
      ],
      "text/plain": [
       "  rideable_type total_rides perc_of_total\n",
       "1 docked_bike   1432357     72.44473     \n",
       "2 electric_bike  296096     14.97573     \n",
       "3 classic_bike   248719     12.57953     "
      ]
     },
     "metadata": {},
     "output_type": "display_data"
    }
   ],
   "source": [
    "# calculate individual percentage share\n",
    "\n",
    "member %>%\n",
    "    group_by(rideable_type) %>%\n",
    "    summarise(total_rides = length(ride_id),\n",
    "             'perc_of_total' = (length(ride_id) / nrow(member)) * 100)"
   ]
  },
  {
   "cell_type": "code",
   "execution_count": 50,
   "id": "8245f8e5",
   "metadata": {},
   "outputs": [
    {
     "data": {
      "image/png": "[encoded data removed]",
      "text/plain": [
       "plot without title"
      ]
     },
     "metadata": {},
     "output_type": "display_data"
    }
   ],
   "source": [
    "# plot total rides by bike type for each group\n",
    "\n",
    "fig(16, 8)\n",
    "\n",
    "full_df_clean %>%\n",
    "    ggplot(aes(member_type, fill = rideable_type)) +\n",
    "    geom_bar(position = 'dodge') +\n",
    "    labs(x = 'Type of Bike', title = 'Total Rides per Bike Type') + \n",
    "    theme(plot.title = element_text(size = 22), \n",
    "          axis.text = element_text(size = 14),\n",
    "          axis.title = element_text(size = 16),\n",
    "          axis.title.y = element_blank(),\n",
    "          legend.title = element_text(size = 16),\n",
    "          legend.text = element_text(size = 14))"
   ]
  },
  {
   "cell_type": "markdown",
   "id": "723249cb",
   "metadata": {},
   "source": [
    "Some insights gathered from this chart:\n",
    "\n",
    "* There are more rides by members across all three bike types.\n",
    "* Casual riders prefer docked and electric bikes as compared to classic bikes.\n",
    "* 81% of rides by casual riders are with a docked bike, as compared to 72% of rides by members."
   ]
  },
  {
   "cell_type": "code",
   "execution_count": 45,
   "id": "4fc4bd25",
   "metadata": {},
   "outputs": [
    {
     "data": {
      "text/html": [
       "<table>\n",
       "<thead><tr><th scope=col>member_type</th><th scope=col>mean_duration_mins</th><th scope=col>median_duration_mins</th><th scope=col>mean_distance_km</th><th scope=col>median_distance_km</th></tr></thead>\n",
       "<tbody>\n",
       "\t<tr><td>casual  </td><td>45.11388</td><td>21.48333</td><td>2.164240</td><td>1.654501</td></tr>\n",
       "\t<tr><td>member  </td><td>15.92328</td><td>11.53333</td><td>2.260434</td><td>1.713488</td></tr>\n",
       "</tbody>\n",
       "</table>\n"
      ],
      "text/latex": [
       "\\begin{tabular}{r|lllll}\n",
       " member\\_type & mean\\_duration\\_mins & median\\_duration\\_mins & mean\\_distance\\_km & median\\_distance\\_km\\\\\n",
       "\\hline\n",
       "\t casual   & 45.11388 & 21.48333 & 2.164240 & 1.654501\\\\\n",
       "\t member   & 15.92328 & 11.53333 & 2.260434 & 1.713488\\\\\n",
       "\\end{tabular}\n"
      ],
      "text/markdown": [
       "\n",
       "| member_type | mean_duration_mins | median_duration_mins | mean_distance_km | median_distance_km |\n",
       "|---|---|---|---|---|\n",
       "| casual   | 45.11388 | 21.48333 | 2.164240 | 1.654501 |\n",
       "| member   | 15.92328 | 11.53333 | 2.260434 | 1.713488 |\n",
       "\n"
      ],
      "text/plain": [
       "  member_type mean_duration_mins median_duration_mins mean_distance_km\n",
       "1 casual      45.11388           21.48333             2.164240        \n",
       "2 member      15.92328           11.53333             2.260434        \n",
       "  median_distance_km\n",
       "1 1.654501          \n",
       "2 1.713488          "
      ]
     },
     "metadata": {},
     "output_type": "display_data"
    }
   ],
   "source": [
    "# calculate mean and median ride duration and distance covered for both groups\n",
    "\n",
    "agg_duration_distance <- full_df_clean %>% \n",
    "    group_by(member_type) %>% \n",
    "    summarise(mean_duration_mins = mean(ride_duration_mins),\n",
    "              median_duration_mins = median(ride_duration_mins),\n",
    "              mean_distance_km = mean(distance_km),\n",
    "              median_distance_km = median(distance_km))\n",
    "\n",
    "agg_duration_distance"
   ]
  },
  {
   "cell_type": "markdown",
   "id": "084cbb28",
   "metadata": {},
   "source": [
    "There is a distinct difference in the ride duration between casual and member riders. This tells us that member riders are more likely to have a destination in mind but casual riders are more likely using the bike to explore places.\n",
    "\n",
    "As for the distance covered, there is not much difference between the 2 groups."
   ]
  },
  {
   "cell_type": "code",
   "execution_count": 49,
   "id": "ff213f78",
   "metadata": {},
   "outputs": [
    {
     "data": {
      "text/html": [
       "<table>\n",
       "<thead><tr><th scope=col>member_type</th><th scope=col>day_of_week</th><th scope=col>mean_duration_mins</th><th scope=col>median_duration_mins</th><th scope=col>mean_distance_km</th><th scope=col>median_distance_km</th></tr></thead>\n",
       "<tbody>\n",
       "\t<tr><td>casual   </td><td>Monday   </td><td>45.07045 </td><td>21.08333 </td><td>2.036103 </td><td>1.538916 </td></tr>\n",
       "\t<tr><td>member   </td><td>Monday   </td><td>15.12339 </td><td>10.88333 </td><td>2.205428 </td><td>1.643737 </td></tr>\n",
       "\t<tr><td>casual   </td><td>Tuesday  </td><td>40.52171 </td><td>19.36667 </td><td>2.088147 </td><td>1.612817 </td></tr>\n",
       "\t<tr><td>member   </td><td>Tuesday  </td><td>14.96723 </td><td>10.91667 </td><td>2.210805 </td><td>1.662827 </td></tr>\n",
       "\t<tr><td>casual   </td><td>Wednesday</td><td>40.48280 </td><td>18.76667 </td><td>2.126467 </td><td>1.654287 </td></tr>\n",
       "\t<tr><td>member   </td><td>Wednesday</td><td>15.05202 </td><td>10.96667 </td><td>2.226518 </td><td>1.674629 </td></tr>\n",
       "\t<tr><td>casual   </td><td>Thursday </td><td>43.23258 </td><td>18.93333 </td><td>2.128558 </td><td>1.657903 </td></tr>\n",
       "\t<tr><td>member   </td><td>Thursday </td><td>15.02532 </td><td>11.00000 </td><td>2.222677 </td><td>1.685707 </td></tr>\n",
       "\t<tr><td>casual   </td><td>Friday   </td><td>42.94270 </td><td>20.06667 </td><td>2.175829 </td><td>1.690727 </td></tr>\n",
       "\t<tr><td>member   </td><td>Friday   </td><td>15.55998 </td><td>11.33333 </td><td>2.236755 </td><td>1.696243 </td></tr>\n",
       "\t<tr><td>casual   </td><td>Saturday </td><td>47.05828 </td><td>23.70000 </td><td>2.298084 </td><td>1.756444 </td></tr>\n",
       "\t<tr><td>member   </td><td>Saturday </td><td>17.65254 </td><td>13.00000 </td><td>2.368319 </td><td>1.849202 </td></tr>\n",
       "\t<tr><td>casual   </td><td>Sunday   </td><td>50.83713 </td><td>24.80000 </td><td>2.144320 </td><td>1.606017 </td></tr>\n",
       "\t<tr><td>member   </td><td>Sunday   </td><td>18.09644 </td><td>13.10000 </td><td>2.347249 </td><td>1.817116 </td></tr>\n",
       "</tbody>\n",
       "</table>\n"
      ],
      "text/latex": [
       "\\begin{tabular}{r|llllll}\n",
       " member\\_type & day\\_of\\_week & mean\\_duration\\_mins & median\\_duration\\_mins & mean\\_distance\\_km & median\\_distance\\_km\\\\\n",
       "\\hline\n",
       "\t casual    & Monday    & 45.07045  & 21.08333  & 2.036103  & 1.538916 \\\\\n",
       "\t member    & Monday    & 15.12339  & 10.88333  & 2.205428  & 1.643737 \\\\\n",
       "\t casual    & Tuesday   & 40.52171  & 19.36667  & 2.088147  & 1.612817 \\\\\n",
       "\t member    & Tuesday   & 14.96723  & 10.91667  & 2.210805  & 1.662827 \\\\\n",
       "\t casual    & Wednesday & 40.48280  & 18.76667  & 2.126467  & 1.654287 \\\\\n",
       "\t member    & Wednesday & 15.05202  & 10.96667  & 2.226518  & 1.674629 \\\\\n",
       "\t casual    & Thursday  & 43.23258  & 18.93333  & 2.128558  & 1.657903 \\\\\n",
       "\t member    & Thursday  & 15.02532  & 11.00000  & 2.222677  & 1.685707 \\\\\n",
       "\t casual    & Friday    & 42.94270  & 20.06667  & 2.175829  & 1.690727 \\\\\n",
       "\t member    & Friday    & 15.55998  & 11.33333  & 2.236755  & 1.696243 \\\\\n",
       "\t casual    & Saturday  & 47.05828  & 23.70000  & 2.298084  & 1.756444 \\\\\n",
       "\t member    & Saturday  & 17.65254  & 13.00000  & 2.368319  & 1.849202 \\\\\n",
       "\t casual    & Sunday    & 50.83713  & 24.80000  & 2.144320  & 1.606017 \\\\\n",
       "\t member    & Sunday    & 18.09644  & 13.10000  & 2.347249  & 1.817116 \\\\\n",
       "\\end{tabular}\n"
      ],
      "text/markdown": [
       "\n",
       "| member_type | day_of_week | mean_duration_mins | median_duration_mins | mean_distance_km | median_distance_km |\n",
       "|---|---|---|---|---|---|\n",
       "| casual    | Monday    | 45.07045  | 21.08333  | 2.036103  | 1.538916  |\n",
       "| member    | Monday    | 15.12339  | 10.88333  | 2.205428  | 1.643737  |\n",
       "| casual    | Tuesday   | 40.52171  | 19.36667  | 2.088147  | 1.612817  |\n",
       "| member    | Tuesday   | 14.96723  | 10.91667  | 2.210805  | 1.662827  |\n",
       "| casual    | Wednesday | 40.48280  | 18.76667  | 2.126467  | 1.654287  |\n",
       "| member    | Wednesday | 15.05202  | 10.96667  | 2.226518  | 1.674629  |\n",
       "| casual    | Thursday  | 43.23258  | 18.93333  | 2.128558  | 1.657903  |\n",
       "| member    | Thursday  | 15.02532  | 11.00000  | 2.222677  | 1.685707  |\n",
       "| casual    | Friday    | 42.94270  | 20.06667  | 2.175829  | 1.690727  |\n",
       "| member    | Friday    | 15.55998  | 11.33333  | 2.236755  | 1.696243  |\n",
       "| casual    | Saturday  | 47.05828  | 23.70000  | 2.298084  | 1.756444  |\n",
       "| member    | Saturday  | 17.65254  | 13.00000  | 2.368319  | 1.849202  |\n",
       "| casual    | Sunday    | 50.83713  | 24.80000  | 2.144320  | 1.606017  |\n",
       "| member    | Sunday    | 18.09644  | 13.10000  | 2.347249  | 1.817116  |\n",
       "\n"
      ],
      "text/plain": [
       "   member_type day_of_week mean_duration_mins median_duration_mins\n",
       "1  casual      Monday      45.07045           21.08333            \n",
       "2  member      Monday      15.12339           10.88333            \n",
       "3  casual      Tuesday     40.52171           19.36667            \n",
       "4  member      Tuesday     14.96723           10.91667            \n",
       "5  casual      Wednesday   40.48280           18.76667            \n",
       "6  member      Wednesday   15.05202           10.96667            \n",
       "7  casual      Thursday    43.23258           18.93333            \n",
       "8  member      Thursday    15.02532           11.00000            \n",
       "9  casual      Friday      42.94270           20.06667            \n",
       "10 member      Friday      15.55998           11.33333            \n",
       "11 casual      Saturday    47.05828           23.70000            \n",
       "12 member      Saturday    17.65254           13.00000            \n",
       "13 casual      Sunday      50.83713           24.80000            \n",
       "14 member      Sunday      18.09644           13.10000            \n",
       "   mean_distance_km median_distance_km\n",
       "1  2.036103         1.538916          \n",
       "2  2.205428         1.643737          \n",
       "3  2.088147         1.612817          \n",
       "4  2.210805         1.662827          \n",
       "5  2.126467         1.654287          \n",
       "6  2.226518         1.674629          \n",
       "7  2.128558         1.657903          \n",
       "8  2.222677         1.685707          \n",
       "9  2.175829         1.690727          \n",
       "10 2.236755         1.696243          \n",
       "11 2.298084         1.756444          \n",
       "12 2.368319         1.849202          \n",
       "13 2.144320         1.606017          \n",
       "14 2.347249         1.817116          "
      ]
     },
     "metadata": {},
     "output_type": "display_data"
    }
   ],
   "source": [
    "# calculate mean and median ride duration and distance covered for both groups\n",
    "# for each day of week\n",
    "\n",
    "agg_duration_distance_DoW <- full_df_clean %>% \n",
    "    group_by(member_type, day_of_week) %>% \n",
    "    summarise(mean_duration_mins = mean(ride_duration_mins),\n",
    "              median_duration_mins = median(ride_duration_mins),\n",
    "              mean_distance_km = mean(distance_km),\n",
    "              median_distance_km = median(distance_km))\n",
    "\n",
    "agg_duration_distance_DoW[order(agg_duration_distance_DoW$day_of_week),]"
   ]
  },
  {
   "cell_type": "markdown",
   "id": "b7bf210c",
   "metadata": {},
   "source": [
    "* Casual riders tend to have longer rides for all days.\n",
    "* It is interesting to see that members mean ride duration is consistent during weekdays, which further supports our earlier observation."
   ]
  },
  {
   "cell_type": "markdown",
   "id": "c4700f48",
   "metadata": {},
   "source": [
    "### Findings"
   ]
  },
  {
   "cell_type": "markdown",
   "id": "18216204",
   "metadata": {},
   "source": [
    "To sum up, the aim of this analysis is to determine how casual and member riders differ in their usage of the shared bicycles and how the marketing team can use the insights gathered to develop a targeted marketing approach to get casual riders to purchase an annual membership.\n",
    "\n",
    "\n",
    "The main difference between casual and member riders are:\n",
    "\n",
    "* Members tend to use the bikes as their primary mode of transportaion for work, as there were significantly higher percentage of rides by members between 0600hrs to 0800hrs and 1700hrs to 1900hrs on weekdays.\n",
    "* Casual riders prefer docked bke over the other 2 options. This is likely because they do not have an end destination and wouldn't mind having to return the bike to the original pickup point.\n",
    "* Casual riders tend to avoid cycling during winter."
   ]
  },
  {
   "cell_type": "markdown",
   "id": "ae575bba",
   "metadata": {},
   "source": [
    "![image info](./images/membership.jfif)"
   ]
  },
  {
   "cell_type": "markdown",
   "id": "dcbf10a8",
   "metadata": {},
   "source": [
    "### Recommendations"
   ]
  },
  {
   "cell_type": "markdown",
   "id": "5e6dc781",
   "metadata": {},
   "source": [
    "Based on the above findings, here are my top three receommendations:\n",
    "\n",
    "* Provide discounted rides for new members during weekdays morning and evening rush hour (for a certain period like the first month), to push towards making the bicycles as their primary mode of transportation.\n",
    "* Form a partnership with a sportswear brand (Decathlon) and provide discounts on cycling gears for members, with special emphasis on winter cycling gears.\n",
    "* Have a campaign where members can collect points once they cycled a particular route for a certain number of times (e.g. home -> office or office -> home). These points can then be used to redeem rides."
   ]
  }
 ],
 "metadata": {
  "kernelspec": {
   "display_name": "R",
   "language": "R",
   "name": "ir"
  },
  "language_info": {
   "codemirror_mode": "r",
   "file_extension": ".r",
   "mimetype": "text/x-r-source",
   "name": "R",
   "pygments_lexer": "r",
   "version": "3.6.1"
  }
 },
 "nbformat": 4,
 "nbformat_minor": 5
}
