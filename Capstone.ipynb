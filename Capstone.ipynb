{
 "cells": [
  {
   "cell_type": "markdown",
   "id": "ada82e7d",
   "metadata": {},
   "source": [
    "# Introduction"
   ]
  },
  {
   "cell_type": "markdown",
   "id": "69b6d853",
   "metadata": {},
   "source": [
    "## Background Information:\n",
    "\n",
    "In 2016, Cyclistic launched a successful bike-share offering. Since then, the program has grown to a fleet of 5,824 bicycles that are geotracked and locked into a network of 692 stations across Chicago. The bikes can be unlocked from one station and returned to any other station in the system anytime.\n",
    "\n",
    "Until now, Cyclistic’s marketing strategy relied on building general awareness and appealing to broad consumer segments. One approach that helped make these things possible was the flexibility of its pricing plans: single-ride passes, full-day passes, and annual memberships. Customers who purchase single-ride or full-day passes are referred to as casual riders. Customers who purchase annual memberships are Cyclistic members."
   ]
  },
  {
   "cell_type": "markdown",
   "id": "37a51e15",
   "metadata": {},
   "source": [
    "## The Problem:\n",
    "\n",
    "Cyclistic’s finance analysts have concluded that annual members are much more profitable than casual riders. Although the pricing flexibility helps Cyclistic attract more customers, __the executive team believes that maximizing the number of annual members will be key to future growth.__ Rather than creating a marketing campaign that targets all-new customers, there is a very good chance to convert casual riders into members with targeted marketing."
   ]
  },
  {
   "cell_type": "markdown",
   "id": "5db1d174",
   "metadata": {},
   "source": [
    "## Objective: \n",
    "\n",
    "- To better understand how annual members and casual riders differ.\n",
    "\n",
    "- To determine why casual riders would buy a membership.\n",
    "\n",
    "\n",
    "__The insights generated from this analysis would allow Cyclistic to design marketing strategies aimed at converting casual riders into annual members.__"
   ]
  },
  {
   "cell_type": "markdown",
   "id": "7054e6c6",
   "metadata": {},
   "source": [
    "![image info](./images/bike_sharing.jpeg)"
   ]
  },
  {
   "cell_type": "markdown",
   "id": "a915c790",
   "metadata": {},
   "source": [
    "### Load Libraries"
   ]
  },
  {
   "cell_type": "code",
   "execution_count": 1,
   "id": "6b06a2d9",
   "metadata": {},
   "outputs": [
    {
     "name": "stderr",
     "output_type": "stream",
     "text": [
      "Registered S3 methods overwritten by 'ggplot2':\n",
      "  method         from \n",
      "  [.quosures     rlang\n",
      "  c.quosures     rlang\n",
      "  print.quosures rlang\n",
      "Registered S3 method overwritten by 'rvest':\n",
      "  method            from\n",
      "  read_xml.response xml2\n",
      "── Attaching packages ─────────────────────────────────────── tidyverse 1.2.1 ──\n",
      "✔ ggplot2 3.1.1       ✔ purrr   0.3.2  \n",
      "✔ tibble  2.1.1       ✔ dplyr   0.8.0.1\n",
      "✔ tidyr   0.8.3       ✔ stringr 1.4.0  \n",
      "✔ readr   1.3.1       ✔ forcats 0.4.0  \n",
      "── Conflicts ────────────────────────────────────────── tidyverse_conflicts() ──\n",
      "✖ dplyr::filter() masks stats::filter()\n",
      "✖ dplyr::lag()    masks stats::lag()\n",
      "\n",
      "Attaching package: ‘lubridate’\n",
      "\n",
      "The following object is masked from ‘package:base’:\n",
      "\n",
      "    date\n",
      "\n"
     ]
    }
   ],
   "source": [
    "library(\"tidyverse\")\n",
    "library('lubridate')\n",
    "library('ggplot2')"
   ]
  },
  {
   "cell_type": "markdown",
   "id": "006a6564",
   "metadata": {},
   "source": [
    "### Load Data\n",
    "\n",
    "We will use data from Jun-2020 to May-2021 for this analysis. Data is provided by month and we will merge them into one dataframe."
   ]
  },
  {
   "cell_type": "code",
   "execution_count": 2,
   "id": "5221352b",
   "metadata": {},
   "outputs": [],
   "source": [
    "# load individual datasets\n",
    "\n",
    "tripdata_2020_06 <- read.csv(\"data/csv/202006-divvy-tripdata.csv\")\n",
    "tripdata_2020_07 <- read.csv(\"data/csv/202007-divvy-tripdata.csv\")\n",
    "tripdata_2020_08 <- read.csv(\"data/csv/202008-divvy-tripdata.csv\")\n",
    "tripdata_2020_09 <- read.csv(\"data/csv/202009-divvy-tripdata.csv\")\n",
    "tripdata_2020_10 <- read.csv(\"data/csv/202010-divvy-tripdata.csv\")\n",
    "tripdata_2020_11 <- read.csv(\"data/csv/202011-divvy-tripdata.csv\")\n",
    "tripdata_2020_12 <- read.csv(\"data/csv/202012-divvy-tripdata.csv\")\n",
    "tripdata_2021_01 <- read.csv(\"data/csv/202101-divvy-tripdata.csv\")\n",
    "tripdata_2021_02 <- read.csv(\"data/csv/202102-divvy-tripdata.csv\")\n",
    "tripdata_2021_03 <- read.csv(\"data/csv/202103-divvy-tripdata.csv\")\n",
    "tripdata_2021_04 <- read.csv(\"data/csv/202103-divvy-tripdata.csv\")\n",
    "tripdata_2021_05 <- read.csv(\"data/csv/202103-divvy-tripdata.csv\")"
   ]
  },
  {
   "cell_type": "code",
   "execution_count": 3,
   "id": "bbf8c376",
   "metadata": {},
   "outputs": [
    {
     "data": {
      "text/html": [
       "<table>\n",
       "<thead><tr><th scope=col>ride_id</th><th scope=col>rideable_type</th><th scope=col>started_at</th><th scope=col>ended_at</th><th scope=col>start_station_name</th><th scope=col>start_station_id</th><th scope=col>end_station_name</th><th scope=col>end_station_id</th><th scope=col>start_lat</th><th scope=col>start_lng</th><th scope=col>end_lat</th><th scope=col>end_lng</th><th scope=col>member_casual</th></tr></thead>\n",
       "<tbody>\n",
       "\t<tr><td>8CD5DE2C2B6C4CFC                                                       </td><td>docked_bike                                                            </td><td>2020-06-13 23:24:48                                                    </td><td>2020-06-13 23:36:55                                                    </td><td><span style=white-space:pre-wrap>Wilton Ave &amp; Belmont Ave   </span></td><td>117                                                                    </td><td>Damen Ave &amp; Clybourn Ave                                           </td><td>163                                                                    </td><td>41.94018                                                               </td><td>-87.65304                                                              </td><td>41.93193                                                               </td><td>-87.67786                                                              </td><td>casual                                                                 </td></tr>\n",
       "\t<tr><td>9A191EB2C751D85D                                                       </td><td>docked_bike                                                            </td><td>2020-06-26 07:26:10                                                    </td><td>2020-06-26 07:31:58                                                    </td><td><span style=white-space:pre-wrap>Federal St &amp; Polk St       </span></td><td> 41                                                                    </td><td><span style=white-space:pre-wrap>Daley Center Plaza      </span>       </td><td> 81                                                                    </td><td>41.87208                                                               </td><td>-87.62954                                                              </td><td>41.88424                                                               </td><td>-87.62963                                                              </td><td>member                                                                 </td></tr>\n",
       "\t<tr><td>F37D14B0B5659BCF                                                    </td><td>docked_bike                                                         </td><td>2020-06-23 17:12:41                                                 </td><td>2020-06-23 17:21:14                                                 </td><td><span style=white-space:pre-wrap>Daley Center Plaza         </span> </td><td> 81                                                                 </td><td><span style=white-space:pre-wrap>State St &amp; Harrison St  </span></td><td><span style=white-space:pre-wrap>  5</span>                         </td><td>41.88424                                                            </td><td>-87.62963                                                           </td><td>41.87405                                                            </td><td>-87.62772                                                           </td><td>member                                                              </td></tr>\n",
       "\t<tr><td>C41237B506E85FA1                                                       </td><td>docked_bike                                                            </td><td>2020-06-20 01:09:35                                                    </td><td>2020-06-20 01:28:24                                                    </td><td><span style=white-space:pre-wrap>Broadway &amp; Cornelia Ave    </span></td><td>303                                                                    </td><td><span style=white-space:pre-wrap>Broadway &amp; Berwyn Ave   </span>   </td><td>294                                                                    </td><td>41.94553                                                               </td><td>-87.64644                                                              </td><td>41.97835                                                               </td><td>-87.65975                                                              </td><td>casual                                                                 </td></tr>\n",
       "\t<tr><td>4B51B3B0BDA7787C               </td><td>docked_bike                    </td><td>2020-06-25 16:59:25            </td><td>2020-06-25 17:08:48            </td><td>Sheffield Ave &amp; Webster Ave</td><td>327                            </td><td>Wilton Ave &amp; Belmont Ave   </td><td>117                            </td><td>41.92154                       </td><td>-87.65382                      </td><td>41.94018                       </td><td>-87.65304                      </td><td>casual                         </td></tr>\n",
       "\t<tr><td>D50DF288196B53BE               </td><td>docked_bike                    </td><td>2020-06-17 18:07:18            </td><td>2020-06-17 18:18:14            </td><td>Sheffield Ave &amp; Webster Ave</td><td>327                            </td><td>Wilton Ave &amp; Belmont Ave   </td><td>117                            </td><td>41.92154                       </td><td>-87.65382                      </td><td>41.94018                       </td><td>-87.65304                      </td><td>casual                         </td></tr>\n",
       "</tbody>\n",
       "</table>\n"
      ],
      "text/latex": [
       "\\begin{tabular}{r|lllllllllllll}\n",
       " ride\\_id & rideable\\_type & started\\_at & ended\\_at & start\\_station\\_name & start\\_station\\_id & end\\_station\\_name & end\\_station\\_id & start\\_lat & start\\_lng & end\\_lat & end\\_lng & member\\_casual\\\\\n",
       "\\hline\n",
       "\t 8CD5DE2C2B6C4CFC              & docked\\_bike                 & 2020-06-13 23:24:48           & 2020-06-13 23:36:55           & Wilton Ave \\& Belmont Ave    & 117                           & Damen Ave \\& Clybourn Ave    & 163                           & 41.94018                      & -87.65304                     & 41.93193                      & -87.67786                     & casual                       \\\\\n",
       "\t 9A191EB2C751D85D              & docked\\_bike                 & 2020-06-26 07:26:10           & 2020-06-26 07:31:58           & Federal St \\& Polk St        &  41                           & Daley Center Plaza            &  81                           & 41.87208                      & -87.62954                     & 41.88424                      & -87.62963                     & member                       \\\\\n",
       "\t F37D14B0B5659BCF            & docked\\_bike               & 2020-06-23 17:12:41         & 2020-06-23 17:21:14         & Daley Center Plaza          &  81                         & State St \\& Harrison St    &   5                         & 41.88424                    & -87.62963                   & 41.87405                    & -87.62772                   & member                     \\\\\n",
       "\t C41237B506E85FA1              & docked\\_bike                 & 2020-06-20 01:09:35           & 2020-06-20 01:28:24           & Broadway \\& Cornelia Ave     & 303                           & Broadway \\& Berwyn Ave       & 294                           & 41.94553                      & -87.64644                     & 41.97835                      & -87.65975                     & casual                       \\\\\n",
       "\t 4B51B3B0BDA7787C              & docked\\_bike                 & 2020-06-25 16:59:25           & 2020-06-25 17:08:48           & Sheffield Ave \\& Webster Ave & 327                           & Wilton Ave \\& Belmont Ave    & 117                           & 41.92154                      & -87.65382                     & 41.94018                      & -87.65304                     & casual                       \\\\\n",
       "\t D50DF288196B53BE              & docked\\_bike                 & 2020-06-17 18:07:18           & 2020-06-17 18:18:14           & Sheffield Ave \\& Webster Ave & 327                           & Wilton Ave \\& Belmont Ave    & 117                           & 41.92154                      & -87.65382                     & 41.94018                      & -87.65304                     & casual                       \\\\\n",
       "\\end{tabular}\n"
      ],
      "text/markdown": [
       "\n",
       "| ride_id | rideable_type | started_at | ended_at | start_station_name | start_station_id | end_station_name | end_station_id | start_lat | start_lng | end_lat | end_lng | member_casual |\n",
       "|---|---|---|---|---|---|---|---|---|---|---|---|---|\n",
       "| 8CD5DE2C2B6C4CFC            | docked_bike                 | 2020-06-13 23:24:48         | 2020-06-13 23:36:55         | Wilton Ave & Belmont Ave    | 117                         | Damen Ave & Clybourn Ave    | 163                         | 41.94018                    | -87.65304                   | 41.93193                    | -87.67786                   | casual                      |\n",
       "| 9A191EB2C751D85D            | docked_bike                 | 2020-06-26 07:26:10         | 2020-06-26 07:31:58         | Federal St & Polk St        |  41                         | Daley Center Plaza          |  81                         | 41.87208                    | -87.62954                   | 41.88424                    | -87.62963                   | member                      |\n",
       "| F37D14B0B5659BCF            | docked_bike                 | 2020-06-23 17:12:41         | 2020-06-23 17:21:14         | Daley Center Plaza          |  81                         | State St & Harrison St      |   5                         | 41.88424                    | -87.62963                   | 41.87405                    | -87.62772                   | member                      |\n",
       "| C41237B506E85FA1            | docked_bike                 | 2020-06-20 01:09:35         | 2020-06-20 01:28:24         | Broadway & Cornelia Ave     | 303                         | Broadway & Berwyn Ave       | 294                         | 41.94553                    | -87.64644                   | 41.97835                    | -87.65975                   | casual                      |\n",
       "| 4B51B3B0BDA7787C            | docked_bike                 | 2020-06-25 16:59:25         | 2020-06-25 17:08:48         | Sheffield Ave & Webster Ave | 327                         | Wilton Ave & Belmont Ave    | 117                         | 41.92154                    | -87.65382                   | 41.94018                    | -87.65304                   | casual                      |\n",
       "| D50DF288196B53BE            | docked_bike                 | 2020-06-17 18:07:18         | 2020-06-17 18:18:14         | Sheffield Ave & Webster Ave | 327                         | Wilton Ave & Belmont Ave    | 117                         | 41.92154                    | -87.65382                   | 41.94018                    | -87.65304                   | casual                      |\n",
       "\n"
      ],
      "text/plain": [
       "  ride_id          rideable_type started_at          ended_at           \n",
       "1 8CD5DE2C2B6C4CFC docked_bike   2020-06-13 23:24:48 2020-06-13 23:36:55\n",
       "2 9A191EB2C751D85D docked_bike   2020-06-26 07:26:10 2020-06-26 07:31:58\n",
       "3 F37D14B0B5659BCF docked_bike   2020-06-23 17:12:41 2020-06-23 17:21:14\n",
       "4 C41237B506E85FA1 docked_bike   2020-06-20 01:09:35 2020-06-20 01:28:24\n",
       "5 4B51B3B0BDA7787C docked_bike   2020-06-25 16:59:25 2020-06-25 17:08:48\n",
       "6 D50DF288196B53BE docked_bike   2020-06-17 18:07:18 2020-06-17 18:18:14\n",
       "  start_station_name          start_station_id end_station_name        \n",
       "1 Wilton Ave & Belmont Ave    117              Damen Ave & Clybourn Ave\n",
       "2 Federal St & Polk St         41              Daley Center Plaza      \n",
       "3 Daley Center Plaza           81              State St & Harrison St  \n",
       "4 Broadway & Cornelia Ave     303              Broadway & Berwyn Ave   \n",
       "5 Sheffield Ave & Webster Ave 327              Wilton Ave & Belmont Ave\n",
       "6 Sheffield Ave & Webster Ave 327              Wilton Ave & Belmont Ave\n",
       "  end_station_id start_lat start_lng end_lat  end_lng   member_casual\n",
       "1 163            41.94018  -87.65304 41.93193 -87.67786 casual       \n",
       "2  81            41.87208  -87.62954 41.88424 -87.62963 member       \n",
       "3   5            41.88424  -87.62963 41.87405 -87.62772 member       \n",
       "4 294            41.94553  -87.64644 41.97835 -87.65975 casual       \n",
       "5 117            41.92154  -87.65382 41.94018 -87.65304 casual       \n",
       "6 117            41.92154  -87.65382 41.94018 -87.65304 casual       "
      ]
     },
     "metadata": {},
     "output_type": "display_data"
    }
   ],
   "source": [
    "# display sample data\n",
    "\n",
    "head(tripdata_2020_06)"
   ]
  },
  {
   "cell_type": "code",
   "execution_count": 4,
   "id": "61a964cd",
   "metadata": {},
   "outputs": [
    {
     "name": "stdout",
     "output_type": "stream",
     "text": [
      "[1] 3661690      13\n"
     ]
    }
   ],
   "source": [
    "# merging into one dataframe\n",
    "\n",
    "full_df <- rbind(tripdata_2020_06, \n",
    "                 tripdata_2020_07,\n",
    "                 tripdata_2020_08, \n",
    "                 tripdata_2020_09,\n",
    "                 tripdata_2020_10, \n",
    "                 tripdata_2020_11,\n",
    "                 tripdata_2020_12,\n",
    "                 tripdata_2021_01,\n",
    "                 tripdata_2021_02,\n",
    "                 tripdata_2021_03,\n",
    "                 tripdata_2021_04,\n",
    "                 tripdata_2021_05)\n",
    "\n",
    "# get dimensions of resulting dataframe\n",
    "print(dim(full_df))"
   ]
  },
  {
   "cell_type": "markdown",
   "id": "6f9f784a",
   "metadata": {},
   "source": [
    "### Data Quality Check"
   ]
  },
  {
   "cell_type": "code",
   "execution_count": 5,
   "id": "5a5a6047",
   "metadata": {},
   "outputs": [
    {
     "name": "stdout",
     "output_type": "stream",
     "text": [
      "[1] 3204489\n"
     ]
    }
   ],
   "source": [
    "# check for duplicate rows\n",
    "\n",
    "# get unique count of ride ID\n",
    "print(n_distinct(full_df$ride_id))"
   ]
  },
  {
   "cell_type": "markdown",
   "id": "094baa29",
   "metadata": {},
   "source": [
    "There are over 400k duplicates in the merged dataframe. We will go ahead and remove them."
   ]
  },
  {
   "cell_type": "code",
   "execution_count": 6,
   "id": "5494a9c2",
   "metadata": {},
   "outputs": [
    {
     "name": "stdout",
     "output_type": "stream",
     "text": [
      "[1] 3204489      13\n",
      "[1] 3204489\n"
     ]
    }
   ],
   "source": [
    "# drop duplicates\n",
    "full_df <- full_df[!duplicated(full_df$ride_id), ]\n",
    "\n",
    "# get dimensions of resulting dataframe\n",
    "print(dim(full_df))\n",
    "\n",
    "# get unique count of ride ID\n",
    "print(n_distinct(full_df$ride_id))"
   ]
  },
  {
   "cell_type": "code",
   "execution_count": 7,
   "id": "92862481",
   "metadata": {},
   "outputs": [
    {
     "name": "stdout",
     "output_type": "stream",
     "text": [
      "'data.frame':\t3204489 obs. of  13 variables:\n",
      " $ ride_id           : Factor w/ 3204489 levels \"00000550C665101A\",..: 189053 206525 326283 262994 100757 285656 29706 289700 211205 82745 ...\n",
      " $ rideable_type     : Factor w/ 3 levels \"docked_bike\",..: 1 1 1 1 1 1 1 1 1 1 ...\n",
      " $ started_at        : Factor w/ 2777637 levels \"2020-06-03 05:59:59\",..: 99985 239542 208684 169915 232343 139910 225668 155403 290665 268915 ...\n",
      " $ ended_at          : Factor w/ 2765669 levels \"2020-06-03 06:03:37\",..: 99802 239021 207940 169557 231559 139367 225227 155086 290026 267858 ...\n",
      " $ start_station_name: Factor w/ 707 levels \"2112 W Peterson Ave\",..: 598 227 166 49 481 481 227 482 73 398 ...\n",
      " $ start_station_id  : chr  \"117\" \"41\" \"81\" \"303\" ...\n",
      " $ end_station_name  : Factor w/ 707 levels \"\",\"2112 W Peterson Ave\",..: 172 167 525 49 602 602 167 50 240 577 ...\n",
      " $ end_station_id    : chr  \"163\" \"81\" \"5\" \"294\" ...\n",
      " $ start_lat         : num  41.9 41.9 41.9 41.9 41.9 ...\n",
      " $ start_lng         : num  -87.7 -87.6 -87.6 -87.6 -87.7 ...\n",
      " $ end_lat           : num  41.9 41.9 41.9 42 41.9 ...\n",
      " $ end_lng           : num  -87.7 -87.6 -87.6 -87.7 -87.7 ...\n",
      " $ member_casual     : Factor w/ 2 levels \"casual\",\"member\": 1 2 2 1 1 1 2 1 2 2 ...\n"
     ]
    }
   ],
   "source": [
    "# check data types\n",
    "\n",
    "str(full_df)"
   ]
  },
  {
   "cell_type": "code",
   "execution_count": 8,
   "id": "0715522e",
   "metadata": {},
   "outputs": [],
   "source": [
    "# convert started_at and ended_at to datetime format\n",
    "\n",
    "full_df$started_at <- as.POSIXct(full_df$started_at, \"%Y-%m-%d %H:%M:%S\")\n",
    "full_df$ended_at <- as.POSIXct(full_df$ended_at, \"%Y-%m-%d %H:%M:%S\")"
   ]
  },
  {
   "cell_type": "code",
   "execution_count": 9,
   "id": "1d0f388f",
   "metadata": {},
   "outputs": [
    {
     "name": "stdout",
     "output_type": "stream",
     "text": [
      " POSIXct[1:3204489], format: \"2020-06-13 23:24:48\" \"2020-06-26 07:26:10\" \"2020-06-23 17:12:41\" ...\n",
      " POSIXct[1:3204489], format: \"2020-06-13 23:36:55\" \"2020-06-26 07:31:58\" \"2020-06-23 17:21:14\" ...\n"
     ]
    }
   ],
   "source": [
    "# check resulting data type\n",
    "\n",
    "str(full_df$started_at)\n",
    "str(full_df$ended_at)"
   ]
  },
  {
   "cell_type": "code",
   "execution_count": 10,
   "id": "99347c36",
   "metadata": {},
   "outputs": [
    {
     "data": {
      "text/html": [
       "<dl>\n",
       "\t<dt>$ride_id</dt>\n",
       "\t\t<dd>0</dd>\n",
       "\t<dt>$rideable_type</dt>\n",
       "\t\t<dd>0</dd>\n",
       "\t<dt>$started_at</dt>\n",
       "\t\t<dd>0</dd>\n",
       "\t<dt>$ended_at</dt>\n",
       "\t\t<dd>0</dd>\n",
       "\t<dt>$start_station_name</dt>\n",
       "\t\t<dd>0</dd>\n",
       "\t<dt>$start_station_id</dt>\n",
       "\t\t<dd>83583</dd>\n",
       "\t<dt>$end_station_name</dt>\n",
       "\t\t<dd>0</dd>\n",
       "\t<dt>$end_station_id</dt>\n",
       "\t\t<dd>97684</dd>\n",
       "\t<dt>$start_lat</dt>\n",
       "\t\t<dd>0</dd>\n",
       "\t<dt>$start_lng</dt>\n",
       "\t\t<dd>0</dd>\n",
       "\t<dt>$end_lat</dt>\n",
       "\t\t<dd>4317</dd>\n",
       "\t<dt>$end_lng</dt>\n",
       "\t\t<dd>4317</dd>\n",
       "\t<dt>$member_casual</dt>\n",
       "\t\t<dd>0</dd>\n",
       "</dl>\n"
      ],
      "text/latex": [
       "\\begin{description}\n",
       "\\item[\\$ride\\_id] 0\n",
       "\\item[\\$rideable\\_type] 0\n",
       "\\item[\\$started\\_at] 0\n",
       "\\item[\\$ended\\_at] 0\n",
       "\\item[\\$start\\_station\\_name] 0\n",
       "\\item[\\$start\\_station\\_id] 83583\n",
       "\\item[\\$end\\_station\\_name] 0\n",
       "\\item[\\$end\\_station\\_id] 97684\n",
       "\\item[\\$start\\_lat] 0\n",
       "\\item[\\$start\\_lng] 0\n",
       "\\item[\\$end\\_lat] 4317\n",
       "\\item[\\$end\\_lng] 4317\n",
       "\\item[\\$member\\_casual] 0\n",
       "\\end{description}\n"
      ],
      "text/markdown": [
       "$ride_id\n",
       ":   0\n",
       "$rideable_type\n",
       ":   0\n",
       "$started_at\n",
       ":   0\n",
       "$ended_at\n",
       ":   0\n",
       "$start_station_name\n",
       ":   0\n",
       "$start_station_id\n",
       ":   83583\n",
       "$end_station_name\n",
       ":   0\n",
       "$end_station_id\n",
       ":   97684\n",
       "$start_lat\n",
       ":   0\n",
       "$start_lng\n",
       ":   0\n",
       "$end_lat\n",
       ":   4317\n",
       "$end_lng\n",
       ":   4317\n",
       "$member_casual\n",
       ":   0\n",
       "\n",
       "\n"
      ],
      "text/plain": [
       "$ride_id\n",
       "[1] 0\n",
       "\n",
       "$rideable_type\n",
       "[1] 0\n",
       "\n",
       "$started_at\n",
       "[1] 0\n",
       "\n",
       "$ended_at\n",
       "[1] 0\n",
       "\n",
       "$start_station_name\n",
       "[1] 0\n",
       "\n",
       "$start_station_id\n",
       "[1] 83583\n",
       "\n",
       "$end_station_name\n",
       "[1] 0\n",
       "\n",
       "$end_station_id\n",
       "[1] 97684\n",
       "\n",
       "$start_lat\n",
       "[1] 0\n",
       "\n",
       "$start_lng\n",
       "[1] 0\n",
       "\n",
       "$end_lat\n",
       "[1] 4317\n",
       "\n",
       "$end_lng\n",
       "[1] 4317\n",
       "\n",
       "$member_casual\n",
       "[1] 0\n"
      ]
     },
     "metadata": {},
     "output_type": "display_data"
    }
   ],
   "source": [
    "# check for null values\n",
    "\n",
    "map(full_df, ~sum(is.na(.)))"
   ]
  },
  {
   "cell_type": "markdown",
   "id": "14e0287e",
   "metadata": {},
   "source": [
    "There are over 90k rows with null values in the end_station_id column. We will go ahead and drop them."
   ]
  },
  {
   "cell_type": "code",
   "execution_count": 11,
   "id": "a985431c",
   "metadata": {},
   "outputs": [
    {
     "data": {
      "text/html": [
       "<dl>\n",
       "\t<dt>$ride_id</dt>\n",
       "\t\t<dd>0</dd>\n",
       "\t<dt>$rideable_type</dt>\n",
       "\t\t<dd>0</dd>\n",
       "\t<dt>$started_at</dt>\n",
       "\t\t<dd>0</dd>\n",
       "\t<dt>$ended_at</dt>\n",
       "\t\t<dd>0</dd>\n",
       "\t<dt>$start_station_name</dt>\n",
       "\t\t<dd>0</dd>\n",
       "\t<dt>$start_station_id</dt>\n",
       "\t\t<dd>0</dd>\n",
       "\t<dt>$end_station_name</dt>\n",
       "\t\t<dd>0</dd>\n",
       "\t<dt>$end_station_id</dt>\n",
       "\t\t<dd>0</dd>\n",
       "\t<dt>$start_lat</dt>\n",
       "\t\t<dd>0</dd>\n",
       "\t<dt>$start_lng</dt>\n",
       "\t\t<dd>0</dd>\n",
       "\t<dt>$end_lat</dt>\n",
       "\t\t<dd>0</dd>\n",
       "\t<dt>$end_lng</dt>\n",
       "\t\t<dd>0</dd>\n",
       "\t<dt>$member_casual</dt>\n",
       "\t\t<dd>0</dd>\n",
       "</dl>\n"
      ],
      "text/latex": [
       "\\begin{description}\n",
       "\\item[\\$ride\\_id] 0\n",
       "\\item[\\$rideable\\_type] 0\n",
       "\\item[\\$started\\_at] 0\n",
       "\\item[\\$ended\\_at] 0\n",
       "\\item[\\$start\\_station\\_name] 0\n",
       "\\item[\\$start\\_station\\_id] 0\n",
       "\\item[\\$end\\_station\\_name] 0\n",
       "\\item[\\$end\\_station\\_id] 0\n",
       "\\item[\\$start\\_lat] 0\n",
       "\\item[\\$start\\_lng] 0\n",
       "\\item[\\$end\\_lat] 0\n",
       "\\item[\\$end\\_lng] 0\n",
       "\\item[\\$member\\_casual] 0\n",
       "\\end{description}\n"
      ],
      "text/markdown": [
       "$ride_id\n",
       ":   0\n",
       "$rideable_type\n",
       ":   0\n",
       "$started_at\n",
       ":   0\n",
       "$ended_at\n",
       ":   0\n",
       "$start_station_name\n",
       ":   0\n",
       "$start_station_id\n",
       ":   0\n",
       "$end_station_name\n",
       ":   0\n",
       "$end_station_id\n",
       ":   0\n",
       "$start_lat\n",
       ":   0\n",
       "$start_lng\n",
       ":   0\n",
       "$end_lat\n",
       ":   0\n",
       "$end_lng\n",
       ":   0\n",
       "$member_casual\n",
       ":   0\n",
       "\n",
       "\n"
      ],
      "text/plain": [
       "$ride_id\n",
       "[1] 0\n",
       "\n",
       "$rideable_type\n",
       "[1] 0\n",
       "\n",
       "$started_at\n",
       "[1] 0\n",
       "\n",
       "$ended_at\n",
       "[1] 0\n",
       "\n",
       "$start_station_name\n",
       "[1] 0\n",
       "\n",
       "$start_station_id\n",
       "[1] 0\n",
       "\n",
       "$end_station_name\n",
       "[1] 0\n",
       "\n",
       "$end_station_id\n",
       "[1] 0\n",
       "\n",
       "$start_lat\n",
       "[1] 0\n",
       "\n",
       "$start_lng\n",
       "[1] 0\n",
       "\n",
       "$end_lat\n",
       "[1] 0\n",
       "\n",
       "$end_lng\n",
       "[1] 0\n",
       "\n",
       "$member_casual\n",
       "[1] 0\n"
      ]
     },
     "metadata": {},
     "output_type": "display_data"
    }
   ],
   "source": [
    "# drop null values\n",
    "\n",
    "full_df_clean <- drop_na(full_df)\n",
    "\n",
    "# check for null values\n",
    "\n",
    "map(full_df_clean, ~sum(is.na(.)))"
   ]
  },
  {
   "cell_type": "markdown",
   "id": "44d5e9a9",
   "metadata": {},
   "source": [
    "### Data Mining"
   ]
  },
  {
   "cell_type": "markdown",
   "id": "56a3a3e9",
   "metadata": {},
   "source": [
    "We can extract individual date parts which can be useful for our analysis."
   ]
  },
  {
   "cell_type": "code",
   "execution_count": 16,
   "id": "b4ea418c",
   "metadata": {},
   "outputs": [],
   "source": [
    "# extract date\n",
    "full_df_clean$date <- as.Date(full_df_clean$started_at) \n",
    "\n",
    "# extract month\n",
    "full_df_clean$month <- format(as.Date(full_df_clean$date), \"%m\")\n",
    "\n",
    "# extract day\n",
    "full_df_clean$day <- format(as.Date(full_df_clean$date), \"%d\")\n",
    "\n",
    "# extract year\n",
    "full_df_clean$year <- format(as.Date(full_df_clean$date), \"%Y\")\n",
    "\n",
    "# extract day of week\n",
    "full_df_clean$day_of_week <- format(as.Date(full_df_clean$date), \"%A\")\n",
    "\n",
    "# extract ride start hour\n",
    "full_df_clean <- full_df_clean %>%\n",
    "    mutate(start_hour = strftime(full_df_clean$started_at, tz = \"GMT\", \"%H\"))"
   ]
  },
  {
   "cell_type": "code",
   "execution_count": 17,
   "id": "e0a34732",
   "metadata": {},
   "outputs": [
    {
     "data": {
      "text/html": [
       "<table>\n",
       "<thead><tr><th scope=col>ride_id</th><th scope=col>rideable_type</th><th scope=col>started_at</th><th scope=col>ended_at</th><th scope=col>start_station_name</th><th scope=col>start_station_id</th><th scope=col>end_station_name</th><th scope=col>end_station_id</th><th scope=col>start_lat</th><th scope=col>start_lng</th><th scope=col>end_lat</th><th scope=col>end_lng</th><th scope=col>member_casual</th><th scope=col>date</th><th scope=col>month</th><th scope=col>day</th><th scope=col>year</th><th scope=col>day_of_week</th><th scope=col>start_hour</th></tr></thead>\n",
       "<tbody>\n",
       "\t<tr><td>8CD5DE2C2B6C4CFC                                                       </td><td>docked_bike                                                            </td><td>2020-06-13 23:24:48                                                    </td><td>2020-06-13 23:36:55                                                    </td><td><span style=white-space:pre-wrap>Wilton Ave &amp; Belmont Ave   </span></td><td>117                                                                    </td><td>Damen Ave &amp; Clybourn Ave                                           </td><td>163                                                                    </td><td>41.94018                                                               </td><td>-87.65304                                                              </td><td>41.93193                                                               </td><td>-87.67786                                                              </td><td>casual                                                                 </td><td>2020-06-13                                                             </td><td>06                                                                     </td><td>13                                                                     </td><td>2020                                                                   </td><td>Saturday                                                               </td><td>23                                                                     </td></tr>\n",
       "\t<tr><td>9A191EB2C751D85D                                                       </td><td>docked_bike                                                            </td><td>2020-06-26 07:26:10                                                    </td><td>2020-06-26 07:31:58                                                    </td><td><span style=white-space:pre-wrap>Federal St &amp; Polk St       </span></td><td>41                                                                     </td><td><span style=white-space:pre-wrap>Daley Center Plaza      </span>       </td><td>81                                                                     </td><td>41.87208                                                               </td><td>-87.62954                                                              </td><td>41.88424                                                               </td><td>-87.62963                                                              </td><td>member                                                                 </td><td>2020-06-26                                                             </td><td>06                                                                     </td><td>26                                                                     </td><td>2020                                                                   </td><td><span style=white-space:pre-wrap>Friday   </span>                      </td><td>07                                                                     </td></tr>\n",
       "\t<tr><td>F37D14B0B5659BCF                                                    </td><td>docked_bike                                                         </td><td>2020-06-23 17:12:41                                                 </td><td>2020-06-23 17:21:14                                                 </td><td><span style=white-space:pre-wrap>Daley Center Plaza         </span> </td><td>81                                                                  </td><td><span style=white-space:pre-wrap>State St &amp; Harrison St  </span></td><td><span style=white-space:pre-wrap>5  </span>                         </td><td>41.88424                                                            </td><td>-87.62963                                                           </td><td>41.87405                                                            </td><td>-87.62772                                                           </td><td>member                                                              </td><td>2020-06-23                                                          </td><td>06                                                                  </td><td>23                                                                  </td><td>2020                                                                </td><td><span style=white-space:pre-wrap>Tuesday  </span>                   </td><td>17                                                                  </td></tr>\n",
       "\t<tr><td>C41237B506E85FA1                                                       </td><td>docked_bike                                                            </td><td>2020-06-20 01:09:35                                                    </td><td>2020-06-20 01:28:24                                                    </td><td><span style=white-space:pre-wrap>Broadway &amp; Cornelia Ave    </span></td><td>303                                                                    </td><td><span style=white-space:pre-wrap>Broadway &amp; Berwyn Ave   </span>   </td><td>294                                                                    </td><td>41.94553                                                               </td><td>-87.64644                                                              </td><td>41.97835                                                               </td><td>-87.65975                                                              </td><td>casual                                                                 </td><td>2020-06-20                                                             </td><td>06                                                                     </td><td>20                                                                     </td><td>2020                                                                   </td><td>Saturday                                                               </td><td>01                                                                     </td></tr>\n",
       "\t<tr><td>4B51B3B0BDA7787C               </td><td>docked_bike                    </td><td>2020-06-25 16:59:25            </td><td>2020-06-25 17:08:48            </td><td>Sheffield Ave &amp; Webster Ave</td><td>327                            </td><td>Wilton Ave &amp; Belmont Ave   </td><td>117                            </td><td>41.92154                       </td><td>-87.65382                      </td><td>41.94018                       </td><td>-87.65304                      </td><td>casual                         </td><td>2020-06-25                     </td><td>06                             </td><td>25                             </td><td>2020                           </td><td>Thursday                       </td><td>16                             </td></tr>\n",
       "\t<tr><td>D50DF288196B53BE               </td><td>docked_bike                    </td><td>2020-06-17 18:07:18            </td><td>2020-06-17 18:18:14            </td><td>Sheffield Ave &amp; Webster Ave</td><td>327                            </td><td>Wilton Ave &amp; Belmont Ave   </td><td>117                            </td><td>41.92154                       </td><td>-87.65382                      </td><td>41.94018                       </td><td>-87.65304                      </td><td>casual                         </td><td>2020-06-17                     </td><td>06                             </td><td>17                             </td><td>2020                           </td><td>Wednesday                      </td><td>18                             </td></tr>\n",
       "</tbody>\n",
       "</table>\n"
      ],
      "text/latex": [
       "\\begin{tabular}{r|lllllllllllllllllll}\n",
       " ride\\_id & rideable\\_type & started\\_at & ended\\_at & start\\_station\\_name & start\\_station\\_id & end\\_station\\_name & end\\_station\\_id & start\\_lat & start\\_lng & end\\_lat & end\\_lng & member\\_casual & date & month & day & year & day\\_of\\_week & start\\_hour\\\\\n",
       "\\hline\n",
       "\t 8CD5DE2C2B6C4CFC              & docked\\_bike                 & 2020-06-13 23:24:48           & 2020-06-13 23:36:55           & Wilton Ave \\& Belmont Ave    & 117                           & Damen Ave \\& Clybourn Ave    & 163                           & 41.94018                      & -87.65304                     & 41.93193                      & -87.67786                     & casual                        & 2020-06-13                    & 06                            & 13                            & 2020                          & Saturday                      & 23                           \\\\\n",
       "\t 9A191EB2C751D85D              & docked\\_bike                 & 2020-06-26 07:26:10           & 2020-06-26 07:31:58           & Federal St \\& Polk St        & 41                            & Daley Center Plaza            & 81                            & 41.87208                      & -87.62954                     & 41.88424                      & -87.62963                     & member                        & 2020-06-26                    & 06                            & 26                            & 2020                          & Friday                        & 07                           \\\\\n",
       "\t F37D14B0B5659BCF            & docked\\_bike               & 2020-06-23 17:12:41         & 2020-06-23 17:21:14         & Daley Center Plaza          & 81                          & State St \\& Harrison St    & 5                           & 41.88424                    & -87.62963                   & 41.87405                    & -87.62772                   & member                      & 2020-06-23                  & 06                          & 23                          & 2020                        & Tuesday                     & 17                         \\\\\n",
       "\t C41237B506E85FA1              & docked\\_bike                 & 2020-06-20 01:09:35           & 2020-06-20 01:28:24           & Broadway \\& Cornelia Ave     & 303                           & Broadway \\& Berwyn Ave       & 294                           & 41.94553                      & -87.64644                     & 41.97835                      & -87.65975                     & casual                        & 2020-06-20                    & 06                            & 20                            & 2020                          & Saturday                      & 01                           \\\\\n",
       "\t 4B51B3B0BDA7787C              & docked\\_bike                 & 2020-06-25 16:59:25           & 2020-06-25 17:08:48           & Sheffield Ave \\& Webster Ave & 327                           & Wilton Ave \\& Belmont Ave    & 117                           & 41.92154                      & -87.65382                     & 41.94018                      & -87.65304                     & casual                        & 2020-06-25                    & 06                            & 25                            & 2020                          & Thursday                      & 16                           \\\\\n",
       "\t D50DF288196B53BE              & docked\\_bike                 & 2020-06-17 18:07:18           & 2020-06-17 18:18:14           & Sheffield Ave \\& Webster Ave & 327                           & Wilton Ave \\& Belmont Ave    & 117                           & 41.92154                      & -87.65382                     & 41.94018                      & -87.65304                     & casual                        & 2020-06-17                    & 06                            & 17                            & 2020                          & Wednesday                     & 18                           \\\\\n",
       "\\end{tabular}\n"
      ],
      "text/markdown": [
       "\n",
       "| ride_id | rideable_type | started_at | ended_at | start_station_name | start_station_id | end_station_name | end_station_id | start_lat | start_lng | end_lat | end_lng | member_casual | date | month | day | year | day_of_week | start_hour |\n",
       "|---|---|---|---|---|---|---|---|---|---|---|---|---|---|---|---|---|---|---|\n",
       "| 8CD5DE2C2B6C4CFC            | docked_bike                 | 2020-06-13 23:24:48         | 2020-06-13 23:36:55         | Wilton Ave & Belmont Ave    | 117                         | Damen Ave & Clybourn Ave    | 163                         | 41.94018                    | -87.65304                   | 41.93193                    | -87.67786                   | casual                      | 2020-06-13                  | 06                          | 13                          | 2020                        | Saturday                    | 23                          |\n",
       "| 9A191EB2C751D85D            | docked_bike                 | 2020-06-26 07:26:10         | 2020-06-26 07:31:58         | Federal St & Polk St        | 41                          | Daley Center Plaza          | 81                          | 41.87208                    | -87.62954                   | 41.88424                    | -87.62963                   | member                      | 2020-06-26                  | 06                          | 26                          | 2020                        | Friday                      | 07                          |\n",
       "| F37D14B0B5659BCF            | docked_bike                 | 2020-06-23 17:12:41         | 2020-06-23 17:21:14         | Daley Center Plaza          | 81                          | State St & Harrison St      | 5                           | 41.88424                    | -87.62963                   | 41.87405                    | -87.62772                   | member                      | 2020-06-23                  | 06                          | 23                          | 2020                        | Tuesday                     | 17                          |\n",
       "| C41237B506E85FA1            | docked_bike                 | 2020-06-20 01:09:35         | 2020-06-20 01:28:24         | Broadway & Cornelia Ave     | 303                         | Broadway & Berwyn Ave       | 294                         | 41.94553                    | -87.64644                   | 41.97835                    | -87.65975                   | casual                      | 2020-06-20                  | 06                          | 20                          | 2020                        | Saturday                    | 01                          |\n",
       "| 4B51B3B0BDA7787C            | docked_bike                 | 2020-06-25 16:59:25         | 2020-06-25 17:08:48         | Sheffield Ave & Webster Ave | 327                         | Wilton Ave & Belmont Ave    | 117                         | 41.92154                    | -87.65382                   | 41.94018                    | -87.65304                   | casual                      | 2020-06-25                  | 06                          | 25                          | 2020                        | Thursday                    | 16                          |\n",
       "| D50DF288196B53BE            | docked_bike                 | 2020-06-17 18:07:18         | 2020-06-17 18:18:14         | Sheffield Ave & Webster Ave | 327                         | Wilton Ave & Belmont Ave    | 117                         | 41.92154                    | -87.65382                   | 41.94018                    | -87.65304                   | casual                      | 2020-06-17                  | 06                          | 17                          | 2020                        | Wednesday                   | 18                          |\n",
       "\n"
      ],
      "text/plain": [
       "  ride_id          rideable_type started_at          ended_at           \n",
       "1 8CD5DE2C2B6C4CFC docked_bike   2020-06-13 23:24:48 2020-06-13 23:36:55\n",
       "2 9A191EB2C751D85D docked_bike   2020-06-26 07:26:10 2020-06-26 07:31:58\n",
       "3 F37D14B0B5659BCF docked_bike   2020-06-23 17:12:41 2020-06-23 17:21:14\n",
       "4 C41237B506E85FA1 docked_bike   2020-06-20 01:09:35 2020-06-20 01:28:24\n",
       "5 4B51B3B0BDA7787C docked_bike   2020-06-25 16:59:25 2020-06-25 17:08:48\n",
       "6 D50DF288196B53BE docked_bike   2020-06-17 18:07:18 2020-06-17 18:18:14\n",
       "  start_station_name          start_station_id end_station_name        \n",
       "1 Wilton Ave & Belmont Ave    117              Damen Ave & Clybourn Ave\n",
       "2 Federal St & Polk St        41               Daley Center Plaza      \n",
       "3 Daley Center Plaza          81               State St & Harrison St  \n",
       "4 Broadway & Cornelia Ave     303              Broadway & Berwyn Ave   \n",
       "5 Sheffield Ave & Webster Ave 327              Wilton Ave & Belmont Ave\n",
       "6 Sheffield Ave & Webster Ave 327              Wilton Ave & Belmont Ave\n",
       "  end_station_id start_lat start_lng end_lat  end_lng   member_casual\n",
       "1 163            41.94018  -87.65304 41.93193 -87.67786 casual       \n",
       "2 81             41.87208  -87.62954 41.88424 -87.62963 member       \n",
       "3 5              41.88424  -87.62963 41.87405 -87.62772 member       \n",
       "4 294            41.94553  -87.64644 41.97835 -87.65975 casual       \n",
       "5 117            41.92154  -87.65382 41.94018 -87.65304 casual       \n",
       "6 117            41.92154  -87.65382 41.94018 -87.65304 casual       \n",
       "  date       month day year day_of_week start_hour\n",
       "1 2020-06-13 06    13  2020 Saturday    23        \n",
       "2 2020-06-26 06    26  2020 Friday      07        \n",
       "3 2020-06-23 06    23  2020 Tuesday     17        \n",
       "4 2020-06-20 06    20  2020 Saturday    01        \n",
       "5 2020-06-25 06    25  2020 Thursday    16        \n",
       "6 2020-06-17 06    17  2020 Wednesday   18        "
      ]
     },
     "metadata": {},
     "output_type": "display_data"
    }
   ],
   "source": [
    "head(full_df_clean)"
   ]
  },
  {
   "cell_type": "markdown",
   "id": "430edf58",
   "metadata": {},
   "source": [
    "We can also extract useful information from the bike rides (duration, distance etc)."
   ]
  },
  {
   "cell_type": "code",
   "execution_count": 18,
   "id": "978e6fe8",
   "metadata": {},
   "outputs": [],
   "source": [
    "# create new column ride_duration_mins -> total ride duration in mins\n",
    "\n",
    "full_df_clean <- full_df_clean %>%\n",
    "    mutate(ride_duration_mins = as.numeric(full_df_clean$ended_at - full_df_clean$started_at) / 60)"
   ]
  },
  {
   "cell_type": "code",
   "execution_count": 19,
   "id": "3075b072",
   "metadata": {},
   "outputs": [
    {
     "data": {
      "text/plain": [
       "     Min.   1st Qu.    Median      Mean   3rd Qu.      Max. \n",
       "-29049.97      7.83     14.30     25.63     26.23  54283.35 "
      ]
     },
     "metadata": {},
     "output_type": "display_data"
    }
   ],
   "source": [
    "summary(full_df_clean$ride_duration_mins)"
   ]
  },
  {
   "cell_type": "markdown",
   "id": "014ab972",
   "metadata": {},
   "source": [
    "It appears that there are rides where the end time is before the start time. We will treat this as a data entry error and will go ahead to drop them from our dataframe."
   ]
  },
  {
   "cell_type": "code",
   "execution_count": 20,
   "id": "aec0aab0",
   "metadata": {},
   "outputs": [
    {
     "data": {
      "text/html": [
       "<table>\n",
       "<thead><tr><th scope=col>ride_id</th><th scope=col>rideable_type</th><th scope=col>started_at</th><th scope=col>ended_at</th><th scope=col>start_station_name</th><th scope=col>start_station_id</th><th scope=col>end_station_name</th><th scope=col>end_station_id</th><th scope=col>start_lat</th><th scope=col>start_lng</th><th scope=col>end_lat</th><th scope=col>end_lng</th><th scope=col>member_casual</th><th scope=col>date</th><th scope=col>month</th><th scope=col>day</th><th scope=col>year</th><th scope=col>day_of_week</th><th scope=col>start_hour</th><th scope=col>ride_duration_mins</th></tr></thead>\n",
       "<tbody>\n",
       "\t<tr><td>2344EF0C012BEDC7                                                               </td><td>docked_bike                                                                    </td><td>2020-06-30 12:49:45                                                            </td><td>2020-06-30 12:49:24                                                            </td><td><span style=white-space:pre-wrap>Lakefront Trail &amp; Bryn Mawr Ave    </span></td><td>459                                                                            </td><td>Lake Shore Dr &amp; Wellington Ave                                             </td><td>157                                                                            </td><td>41.98404                                                                       </td><td>-87.65231                                                                      </td><td>41.93669                                                                       </td><td>-87.63683                                                                      </td><td>member                                                                         </td><td>2020-06-30                                                                     </td><td>06                                                                             </td><td>30                                                                             </td><td>2020                                                                           </td><td>Tuesday                                                                        </td><td>12                                                                             </td><td>-0.35000000                                                                    </td></tr>\n",
       "\t<tr><td>870547A756460EFB                                                               </td><td>docked_bike                                                                    </td><td>2020-06-07 16:02:33                                                            </td><td>2020-06-07 16:02:26                                                            </td><td><span style=white-space:pre-wrap>Wilton Ave &amp; Belmont Ave           </span></td><td>117                                                                            </td><td><span style=white-space:pre-wrap>Rush St &amp; Superior St          </span>    </td><td>161                                                                            </td><td>41.94018                                                                       </td><td>-87.65304                                                                      </td><td>41.89576                                                                       </td><td>-87.62591                                                                      </td><td>casual                                                                         </td><td>2020-06-07                                                                     </td><td>06                                                                             </td><td>07                                                                             </td><td>2020                                                                           </td><td>Sunday                                                                         </td><td>16                                                                             </td><td>-0.11666667                                                                    </td></tr>\n",
       "\t<tr><td>B5D8BCC20CAB2CBF                                                           </td><td>docked_bike                                                                </td><td>2020-06-16 12:37:26                                                        </td><td>2020-06-16 12:37:24                                                        </td><td>Mies van der Rohe Way &amp; Chicago Ave                                    </td><td>173                                                                        </td><td><span style=white-space:pre-wrap>Sheffield Ave &amp; Willow St      </span></td><td>93                                                                         </td><td>41.89691                                                                   </td><td>-87.62174                                                                  </td><td>41.91369                                                                   </td><td>-87.65286                                                                  </td><td>member                                                                     </td><td>2020-06-16                                                                 </td><td>06                                                                         </td><td>16                                                                         </td><td>2020                                                                       </td><td>Tuesday                                                                    </td><td>12                                                                         </td><td>-0.03333333                                                                </td></tr>\n",
       "\t<tr><td>D4D3282374FB5B2A                                                               </td><td>docked_bike                                                                    </td><td>2020-06-30 18:55:29                                                            </td><td>2020-06-30 18:55:26                                                            </td><td><span style=white-space:pre-wrap>Sheffield Ave &amp; Kingsbury St       </span></td><td>20                                                                             </td><td><span style=white-space:pre-wrap>Greenview Ave &amp; Diversey Pkwy  </span>    </td><td>319                                                                            </td><td>41.91052                                                                       </td><td>-87.65311                                                                      </td><td>41.93259                                                                       </td><td>-87.66594                                                                      </td><td>casual                                                                         </td><td>2020-06-30                                                                     </td><td>06                                                                             </td><td>30                                                                             </td><td>2020                                                                           </td><td>Tuesday                                                                        </td><td>18                                                                             </td><td>-0.05000000                                                                    </td></tr>\n",
       "\t<tr><td>D7C40BD25CA7B392                                                           </td><td>docked_bike                                                                </td><td>2020-06-28 17:37:54                                                        </td><td>2020-06-28 17:37:53                                                        </td><td><span style=white-space:pre-wrap>Montrose Harbor                    </span></td><td>249                                                                        </td><td>Lakefront Trail &amp; Bryn Mawr Ave                                        </td><td>459                                                                        </td><td>41.96398                                                                   </td><td>-87.63818                                                                  </td><td>41.98404                                                                   </td><td>-87.65231                                                                  </td><td>member                                                                     </td><td>2020-06-28                                                                 </td><td>06                                                                         </td><td>28                                                                         </td><td>2020                                                                       </td><td>Sunday                                                                     </td><td>17                                                                         </td><td>-0.01666667                                                                </td></tr>\n",
       "\t<tr><td>107186E0900BFB98                                                               </td><td>docked_bike                                                                    </td><td>2020-06-16 18:22:19                                                            </td><td>2020-06-16 18:22:15                                                            </td><td><span style=white-space:pre-wrap>Loomis St &amp; Archer Ave             </span></td><td>366                                                                            </td><td><span style=white-space:pre-wrap>Wood St &amp; 35th St              </span>    </td><td>369                                                                            </td><td>41.84163                                                                       </td><td>-87.65743                                                                      </td><td>41.83010                                                                       </td><td>-87.67030                                                                      </td><td>member                                                                         </td><td>2020-06-16                                                                     </td><td>06                                                                             </td><td>16                                                                             </td><td>2020                                                                           </td><td>Tuesday                                                                        </td><td>18                                                                             </td><td>-0.06666667                                                                    </td></tr>\n",
       "</tbody>\n",
       "</table>\n"
      ],
      "text/latex": [
       "\\begin{tabular}{r|llllllllllllllllllll}\n",
       " ride\\_id & rideable\\_type & started\\_at & ended\\_at & start\\_station\\_name & start\\_station\\_id & end\\_station\\_name & end\\_station\\_id & start\\_lat & start\\_lng & end\\_lat & end\\_lng & member\\_casual & date & month & day & year & day\\_of\\_week & start\\_hour & ride\\_duration\\_mins\\\\\n",
       "\\hline\n",
       "\t 2344EF0C012BEDC7                      & docked\\_bike                         & 2020-06-30 12:49:45                   & 2020-06-30 12:49:24                   & Lakefront Trail \\& Bryn Mawr Ave     & 459                                   & Lake Shore Dr \\& Wellington Ave      & 157                                   & 41.98404                              & -87.65231                             & 41.93669                              & -87.63683                             & member                                & 2020-06-30                            & 06                                    & 30                                    & 2020                                  & Tuesday                               & 12                                    & -0.35000000                          \\\\\n",
       "\t 870547A756460EFB                      & docked\\_bike                         & 2020-06-07 16:02:33                   & 2020-06-07 16:02:26                   & Wilton Ave \\& Belmont Ave            & 117                                   & Rush St \\& Superior St               & 161                                   & 41.94018                              & -87.65304                             & 41.89576                              & -87.62591                             & casual                                & 2020-06-07                            & 06                                    & 07                                    & 2020                                  & Sunday                                & 16                                    & -0.11666667                          \\\\\n",
       "\t B5D8BCC20CAB2CBF                      & docked\\_bike                         & 2020-06-16 12:37:26                   & 2020-06-16 12:37:24                   & Mies van der Rohe Way \\& Chicago Ave & 173                                   & Sheffield Ave \\& Willow St           & 93                                    & 41.89691                              & -87.62174                             & 41.91369                              & -87.65286                             & member                                & 2020-06-16                            & 06                                    & 16                                    & 2020                                  & Tuesday                               & 12                                    & -0.03333333                          \\\\\n",
       "\t D4D3282374FB5B2A                      & docked\\_bike                         & 2020-06-30 18:55:29                   & 2020-06-30 18:55:26                   & Sheffield Ave \\& Kingsbury St        & 20                                    & Greenview Ave \\& Diversey Pkwy       & 319                                   & 41.91052                              & -87.65311                             & 41.93259                              & -87.66594                             & casual                                & 2020-06-30                            & 06                                    & 30                                    & 2020                                  & Tuesday                               & 18                                    & -0.05000000                          \\\\\n",
       "\t D7C40BD25CA7B392                    & docked\\_bike                       & 2020-06-28 17:37:54                 & 2020-06-28 17:37:53                 & Montrose Harbor                     & 249                                 & Lakefront Trail \\& Bryn Mawr Ave   & 459                                 & 41.96398                            & -87.63818                           & 41.98404                            & -87.65231                           & member                              & 2020-06-28                          & 06                                  & 28                                  & 2020                                & Sunday                              & 17                                  & -0.01666667                        \\\\\n",
       "\t 107186E0900BFB98                      & docked\\_bike                         & 2020-06-16 18:22:19                   & 2020-06-16 18:22:15                   & Loomis St \\& Archer Ave              & 366                                   & Wood St \\& 35th St                   & 369                                   & 41.84163                              & -87.65743                             & 41.83010                              & -87.67030                             & member                                & 2020-06-16                            & 06                                    & 16                                    & 2020                                  & Tuesday                               & 18                                    & -0.06666667                          \\\\\n",
       "\\end{tabular}\n"
      ],
      "text/markdown": [
       "\n",
       "| ride_id | rideable_type | started_at | ended_at | start_station_name | start_station_id | end_station_name | end_station_id | start_lat | start_lng | end_lat | end_lng | member_casual | date | month | day | year | day_of_week | start_hour | ride_duration_mins |\n",
       "|---|---|---|---|---|---|---|---|---|---|---|---|---|---|---|---|---|---|---|---|\n",
       "| 2344EF0C012BEDC7                    | docked_bike                         | 2020-06-30 12:49:45                 | 2020-06-30 12:49:24                 | Lakefront Trail & Bryn Mawr Ave     | 459                                 | Lake Shore Dr & Wellington Ave      | 157                                 | 41.98404                            | -87.65231                           | 41.93669                            | -87.63683                           | member                              | 2020-06-30                          | 06                                  | 30                                  | 2020                                | Tuesday                             | 12                                  | -0.35000000                         |\n",
       "| 870547A756460EFB                    | docked_bike                         | 2020-06-07 16:02:33                 | 2020-06-07 16:02:26                 | Wilton Ave & Belmont Ave            | 117                                 | Rush St & Superior St               | 161                                 | 41.94018                            | -87.65304                           | 41.89576                            | -87.62591                           | casual                              | 2020-06-07                          | 06                                  | 07                                  | 2020                                | Sunday                              | 16                                  | -0.11666667                         |\n",
       "| B5D8BCC20CAB2CBF                    | docked_bike                         | 2020-06-16 12:37:26                 | 2020-06-16 12:37:24                 | Mies van der Rohe Way & Chicago Ave | 173                                 | Sheffield Ave & Willow St           | 93                                  | 41.89691                            | -87.62174                           | 41.91369                            | -87.65286                           | member                              | 2020-06-16                          | 06                                  | 16                                  | 2020                                | Tuesday                             | 12                                  | -0.03333333                         |\n",
       "| D4D3282374FB5B2A                    | docked_bike                         | 2020-06-30 18:55:29                 | 2020-06-30 18:55:26                 | Sheffield Ave & Kingsbury St        | 20                                  | Greenview Ave & Diversey Pkwy       | 319                                 | 41.91052                            | -87.65311                           | 41.93259                            | -87.66594                           | casual                              | 2020-06-30                          | 06                                  | 30                                  | 2020                                | Tuesday                             | 18                                  | -0.05000000                         |\n",
       "| D7C40BD25CA7B392                    | docked_bike                         | 2020-06-28 17:37:54                 | 2020-06-28 17:37:53                 | Montrose Harbor                     | 249                                 | Lakefront Trail & Bryn Mawr Ave     | 459                                 | 41.96398                            | -87.63818                           | 41.98404                            | -87.65231                           | member                              | 2020-06-28                          | 06                                  | 28                                  | 2020                                | Sunday                              | 17                                  | -0.01666667                         |\n",
       "| 107186E0900BFB98                    | docked_bike                         | 2020-06-16 18:22:19                 | 2020-06-16 18:22:15                 | Loomis St & Archer Ave              | 366                                 | Wood St & 35th St                   | 369                                 | 41.84163                            | -87.65743                           | 41.83010                            | -87.67030                           | member                              | 2020-06-16                          | 06                                  | 16                                  | 2020                                | Tuesday                             | 18                                  | -0.06666667                         |\n",
       "\n"
      ],
      "text/plain": [
       "  ride_id          rideable_type started_at          ended_at           \n",
       "1 2344EF0C012BEDC7 docked_bike   2020-06-30 12:49:45 2020-06-30 12:49:24\n",
       "2 870547A756460EFB docked_bike   2020-06-07 16:02:33 2020-06-07 16:02:26\n",
       "3 B5D8BCC20CAB2CBF docked_bike   2020-06-16 12:37:26 2020-06-16 12:37:24\n",
       "4 D4D3282374FB5B2A docked_bike   2020-06-30 18:55:29 2020-06-30 18:55:26\n",
       "5 D7C40BD25CA7B392 docked_bike   2020-06-28 17:37:54 2020-06-28 17:37:53\n",
       "6 107186E0900BFB98 docked_bike   2020-06-16 18:22:19 2020-06-16 18:22:15\n",
       "  start_station_name                  start_station_id\n",
       "1 Lakefront Trail & Bryn Mawr Ave     459             \n",
       "2 Wilton Ave & Belmont Ave            117             \n",
       "3 Mies van der Rohe Way & Chicago Ave 173             \n",
       "4 Sheffield Ave & Kingsbury St        20              \n",
       "5 Montrose Harbor                     249             \n",
       "6 Loomis St & Archer Ave              366             \n",
       "  end_station_name                end_station_id start_lat start_lng end_lat \n",
       "1 Lake Shore Dr & Wellington Ave  157            41.98404  -87.65231 41.93669\n",
       "2 Rush St & Superior St           161            41.94018  -87.65304 41.89576\n",
       "3 Sheffield Ave & Willow St       93             41.89691  -87.62174 41.91369\n",
       "4 Greenview Ave & Diversey Pkwy   319            41.91052  -87.65311 41.93259\n",
       "5 Lakefront Trail & Bryn Mawr Ave 459            41.96398  -87.63818 41.98404\n",
       "6 Wood St & 35th St               369            41.84163  -87.65743 41.83010\n",
       "  end_lng   member_casual date       month day year day_of_week start_hour\n",
       "1 -87.63683 member        2020-06-30 06    30  2020 Tuesday     12        \n",
       "2 -87.62591 casual        2020-06-07 06    07  2020 Sunday      16        \n",
       "3 -87.65286 member        2020-06-16 06    16  2020 Tuesday     12        \n",
       "4 -87.66594 casual        2020-06-30 06    30  2020 Tuesday     18        \n",
       "5 -87.65231 member        2020-06-28 06    28  2020 Sunday      17        \n",
       "6 -87.67030 member        2020-06-16 06    16  2020 Tuesday     18        \n",
       "  ride_duration_mins\n",
       "1 -0.35000000       \n",
       "2 -0.11666667       \n",
       "3 -0.03333333       \n",
       "4 -0.05000000       \n",
       "5 -0.01666667       \n",
       "6 -0.06666667       "
      ]
     },
     "metadata": {},
     "output_type": "display_data"
    }
   ],
   "source": [
    "# check rides with negative ride duration\n",
    "\n",
    "head(filter(full_df_clean, ride_duration_mins < 0))"
   ]
  },
  {
   "cell_type": "code",
   "execution_count": 21,
   "id": "2a8d0b0b",
   "metadata": {},
   "outputs": [
    {
     "data": {
      "text/html": [
       "10088"
      ],
      "text/latex": [
       "10088"
      ],
      "text/markdown": [
       "10088"
      ],
      "text/plain": [
       "[1] 10088"
      ]
     },
     "metadata": {},
     "output_type": "display_data"
    }
   ],
   "source": [
    "# number of rows with negative ride duration\n",
    "\n",
    "dim(filter(full_df_clean, ride_duration_mins < 0))[1]"
   ]
  },
  {
   "cell_type": "code",
   "execution_count": 22,
   "id": "6225f94b",
   "metadata": {},
   "outputs": [
    {
     "name": "stdout",
     "output_type": "stream",
     "text": [
      "[1] 3059297      20\n"
     ]
    }
   ],
   "source": [
    "# drop rows with negative ride duration\n",
    "full_df_clean <- subset(full_df_clean, ride_duration_mins > 0)\n",
    "\n",
    "# get dimensions of resulting dataframe\n",
    "print(dim(full_df_clean))"
   ]
  },
  {
   "cell_type": "code",
   "execution_count": 23,
   "id": "f1354986",
   "metadata": {},
   "outputs": [
    {
     "data": {
      "text/plain": [
       "    Min.  1st Qu.   Median     Mean  3rd Qu.     Max. \n",
       "    0.02     7.88    14.35    27.30    26.30 54283.35 "
      ]
     },
     "metadata": {},
     "output_type": "display_data"
    }
   ],
   "source": [
    "summary(full_df_clean$ride_duration_mins)"
   ]
  },
  {
   "cell_type": "code",
   "execution_count": null,
   "id": "4f185318",
   "metadata": {},
   "outputs": [],
   "source": [
    "# extract coordinates into a separate dataframe\n",
    "\n",
    "ride_coordinates <- select(full_df_clean, c('start_lat', 'start_lng', 'end_lat', 'end_lng'))"
   ]
  },
  {
   "cell_type": "code",
   "execution_count": null,
   "id": "e5834c67",
   "metadata": {},
   "outputs": [],
   "source": [
    "head(ride_coordinates)"
   ]
  },
  {
   "cell_type": "code",
   "execution_count": null,
   "id": "21b033b6",
   "metadata": {},
   "outputs": [],
   "source": [
    "euclideanDistance(41.94018, 87.65304, 41.93193, 87.67786)"
   ]
  },
  {
   "cell_type": "code",
   "execution_count": null,
   "id": "c4307599",
   "metadata": {},
   "outputs": [],
   "source": [
    "library(\"geosphere\")"
   ]
  },
  {
   "cell_type": "code",
   "execution_count": null,
   "id": "e0f74b38",
   "metadata": {},
   "outputs": [],
   "source": [
    "ride_coordinates$ride_distance <- dist(matrix(c(ride_coordinates$start_lng, ride_coordinates$start_lat), ncol = 2), matrix(c(ride_coordinates$end_lng, ride_coordinates$end_lat), ncol = 2))"
   ]
  },
  {
   "cell_type": "code",
   "execution_count": null,
   "id": "dc03c936",
   "metadata": {},
   "outputs": [],
   "source": [
    "install.packages('geosphere', repo = 'https://mac.R-project.org')"
   ]
  },
  {
   "cell_type": "code",
   "execution_count": null,
   "id": "df19ab9f",
   "metadata": {},
   "outputs": [],
   "source": [
    "rbind(matrix(c(ride_coordinates$start_lng, ride_coordinates$start_lat), ncol = 2),\n",
    "      matrix(c(ride_coordinates$end_lng, ride_coordinates$end_lat), ncol = 2))"
   ]
  },
  {
   "cell_type": "code",
   "execution_count": null,
   "id": "b438122f",
   "metadata": {},
   "outputs": [],
   "source": [
    "install.packages(\"devtools\")\n",
    "library(\"devtools\")\n",
    "install_github(\"JosephCrispell/addTextLabels\")\n",
    "library(addTextLabels)"
   ]
  },
  {
   "cell_type": "code",
   "execution_count": null,
   "id": "bd35d598",
   "metadata": {},
   "outputs": [],
   "source": [
    "P <- 1:10/sum(1:10)"
   ]
  },
  {
   "cell_type": "code",
   "execution_count": null,
   "id": "e3377113",
   "metadata": {},
   "outputs": [],
   "source": [
    "P"
   ]
  },
  {
   "cell_type": "code",
   "execution_count": null,
   "id": "0f476c50",
   "metadata": {},
   "outputs": [],
   "source": [
    "# define a probability density function P\n",
    "P <- 1:10/sum(1:10)\n",
    "# define a probability density function Q\n",
    "Q <- 20:29/sum(20:29)\n",
    "\n",
    "# combine P and Q as matrix object\n",
    "x <- rbind(P,Q)"
   ]
  },
  {
   "cell_type": "code",
   "execution_count": null,
   "id": "7f610722",
   "metadata": {},
   "outputs": [],
   "source": [
    "x"
   ]
  },
  {
   "cell_type": "code",
   "execution_count": null,
   "id": "1a44637b",
   "metadata": {},
   "outputs": [],
   "source": []
  }
 ],
 "metadata": {
  "kernelspec": {
   "display_name": "R",
   "language": "R",
   "name": "ir"
  },
  "language_info": {
   "codemirror_mode": "r",
   "file_extension": ".r",
   "mimetype": "text/x-r-source",
   "name": "R",
   "pygments_lexer": "r",
   "version": "3.6.1"
  }
 },
 "nbformat": 4,
 "nbformat_minor": 5
}
